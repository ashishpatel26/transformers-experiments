{
 "cells": [
  {
   "cell_type": "code",
   "execution_count": 1,
   "metadata": {},
   "outputs": [],
   "source": [
    "import os\n",
    "import glob\n",
    "import time\n",
    "import torch\n",
    "import random\n",
    "import logging\n",
    "import argparse\n",
    "\n",
    "import numpy as np \n",
    "import pandas as pd \n",
    "import pytorch_lightning as pl\n",
    "\n",
    "from torch.utils.data import Dataset\n",
    "from torch.utils.data import DataLoader\n",
    "from sklearn.model_selection import train_test_split\n",
    "\n",
    "from transformers import (\n",
    "    AdamW,\n",
    "    AutoConfig,\n",
    "    T5ForConditionalGeneration,\n",
    "    AutoTokenizer,\n",
    "    get_linear_schedule_with_warmup,\n",
    ")"
   ]
  },
  {
   "cell_type": "code",
   "execution_count": 2,
   "metadata": {},
   "outputs": [],
   "source": [
    "train = pd.read_csv('tweet-sentiment-extraction/train.csv').dropna()\n",
    "test = pd.read_csv('tweet-sentiment-extraction/test.csv')\n",
    "\n",
    "train, val = train_test_split(train, test_size=0.13, random_state=42)"
   ]
  },
  {
   "cell_type": "code",
   "execution_count": 3,
   "metadata": {},
   "outputs": [
    {
     "data": {
      "text/plain": [
       "(           textID                                               text  \\\n",
       " 17391  a4ccd2c1a9   How did we just get paid and still be broke a...   \n",
       " 10951  5c3d9c52f6  i no i no bt i had only been a gamer for like ...   \n",
       " 19109  05bc7a77ef  I love when my ipod shuffles so all the good s...   \n",
       " 16873  cfb49dff56   no i mean 2moz. I`m workin` 7-1 in a bakers t...   \n",
       " 22461  f497495e23  Lovely walk this morning with the missus; driz...   \n",
       " \n",
       "                                            selected_text sentiment  \n",
       " 17391                                    broke as hell?!  negative  \n",
       " 10951                                               luvd  positive  \n",
       " 19109                                               love  positive  \n",
       " 16873  no i mean 2moz. I`m workin` 7-1 in a bakers th...   neutral  \n",
       " 22461  Lovely walk this morning with the missus; driz...  positive  ,\n",
       "        textID                                               text sentiment\n",
       " 0  f87dea47db  Last session of the day  http://twitpic.com/67ezh   neutral\n",
       " 1  96d74cb729   Shanghai is also really exciting (precisely -...  positive\n",
       " 2  eee518ae67  Recession hit Veronique Branquinho, she has to...  negative\n",
       " 3  01082688c6                                        happy bday!  positive\n",
       " 4  33987a8ee5             http://twitpic.com/4w75p - I like it!!  positive,\n",
       "            textID                                               text  \\\n",
       " 1589   6c5505a37c                    Enjoy! Family trumps everything   \n",
       " 10414  126b1e6a22   --of them kinda turns me off of it all.  And ...   \n",
       " 6562   5bc4e623c4  Clive it`s my birthday pat me  http://apps.fac...   \n",
       " 2603   984d753104                                       congrats hey   \n",
       " 4004   8a79072ca2                                         is texting   \n",
       " \n",
       "                          selected_text sentiment  \n",
       " 1589   Enjoy! Family trumps everything  positive  \n",
       " 10414               kinda turns me off  negative  \n",
       " 6562     Clive it`s my birthday pat me   neutral  \n",
       " 2603                          congrats  positive  \n",
       " 4004                        is texting   neutral  )"
      ]
     },
     "execution_count": 3,
     "metadata": {},
     "output_type": "execute_result"
    }
   ],
   "source": [
    "train.head(), test.head(), val.head()"
   ]
  },
  {
   "cell_type": "code",
   "execution_count": 4,
   "metadata": {},
   "outputs": [
    {
     "name": "stdout",
     "output_type": "stream",
     "text": [
      "sentiment: negative tweet:  How did we just get paid and still be broke as hell?! No shopping spree for me today\n",
      "sentiment: positive tweet: i no i no bt i had only been a gamer for like 2 years when i made that attempt  lol yea i luvd F1 to an extent \n",
      "sentiment: positive tweet: I love when my ipod shuffles so all the good songs are all together\n",
      "sentiment: neutral tweet:  no i mean 2moz. I`m workin` 7-1 in a bakers then 6-4 later in a pub\n",
      "sentiment: positive tweet: Lovely walk this morning with the missus; drizzle didn`t matter\n",
      "sentiment: neutral tweet:  , just dont understand what`s it got to do with me. I`m just a nice girl\n",
      "sentiment: negative tweet: getting bored of walking up and down the stairs\n",
      "sentiment: positive tweet:  have your own style. it just might work.\n",
      "sentiment: negative tweet: fighting with mum on mothers day\n",
      "sentiment: neutral tweet:  & I got too much work to do\n"
     ]
    }
   ],
   "source": [
    "# Input\n",
    "for a,b,_ in zip(train.sentiment.values[:10], train.text.values[:10], train.selected_text.values[:10]):\n",
    "    print(\"sentiment:\", a, \"tweet:\", b)"
   ]
  },
  {
   "cell_type": "code",
   "execution_count": 5,
   "metadata": {},
   "outputs": [
    {
     "name": "stdout",
     "output_type": "stream",
     "text": [
      "broke as hell?!\n",
      "luvd\n",
      "love\n",
      "no i mean 2moz. I`m workin` 7-1 in a bakers then 6-4 later in a pub\n",
      "Lovely walk this morning with the missus; drizzle didn`t matter\n",
      ", just dont understand what`s it got to do with me. I`m just a nice girl\n",
      "getting bored of walking up and down the stairs\n",
      "it just might work.\n",
      "fighting\n",
      "I got too much work to do\n"
     ]
    }
   ],
   "source": [
    "# Target (what we're trying to predict)\n",
    "for _,_,c in zip(train.sentiment.values[:10], train.text.values[:10], train.selected_text.values[:10]):\n",
    "    print(c)"
   ]
  },
  {
   "cell_type": "code",
   "execution_count": null,
   "metadata": {},
   "outputs": [],
   "source": []
  }
 ],
 "metadata": {
  "kernelspec": {
   "display_name": "Python 3",
   "language": "python",
   "name": "python3"
  },
  "language_info": {
   "codemirror_mode": {
    "name": "ipython",
    "version": 3
   },
   "file_extension": ".py",
   "mimetype": "text/x-python",
   "name": "python",
   "nbconvert_exporter": "python",
   "pygments_lexer": "ipython3",
   "version": "3.8.5"
  }
 },
 "nbformat": 4,
 "nbformat_minor": 4
}
