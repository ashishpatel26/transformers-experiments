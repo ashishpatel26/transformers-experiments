{
  "nbformat": 4,
  "nbformat_minor": 0,
  "metadata": {
    "colab": {
      "name": "led-pubmed.ipynb",
      "provenance": []
    },
    "kernelspec": {
      "name": "python3",
      "display_name": "Python 3"
    },
    "accelerator": "GPU",
    "widgets": {
      "application/vnd.jupyter.widget-state+json": {
        "c833558a9c944df0918d8bb16c7dffc7": {
          "model_module": "@jupyter-widgets/controls",
          "model_name": "HBoxModel",
          "state": {
            "_view_name": "HBoxView",
            "_dom_classes": [],
            "_model_name": "HBoxModel",
            "_view_module": "@jupyter-widgets/controls",
            "_model_module_version": "1.5.0",
            "_view_count": null,
            "_view_module_version": "1.5.0",
            "box_style": "",
            "layout": "IPY_MODEL_8e1eb427bad14f4fbad2e72baa596d3a",
            "_model_module": "@jupyter-widgets/controls",
            "children": [
              "IPY_MODEL_8a79144474a94b20b0171a8bd0407f60",
              "IPY_MODEL_0ac275ddbf4f48b38a782f3b0ba7c672"
            ]
          }
        },
        "8e1eb427bad14f4fbad2e72baa596d3a": {
          "model_module": "@jupyter-widgets/base",
          "model_name": "LayoutModel",
          "state": {
            "_view_name": "LayoutView",
            "grid_template_rows": null,
            "right": null,
            "justify_content": null,
            "_view_module": "@jupyter-widgets/base",
            "overflow": null,
            "_model_module_version": "1.2.0",
            "_view_count": null,
            "flex_flow": null,
            "width": null,
            "min_width": null,
            "border": null,
            "align_items": null,
            "bottom": null,
            "_model_module": "@jupyter-widgets/base",
            "top": null,
            "grid_column": null,
            "overflow_y": null,
            "overflow_x": null,
            "grid_auto_flow": null,
            "grid_area": null,
            "grid_template_columns": null,
            "flex": null,
            "_model_name": "LayoutModel",
            "justify_items": null,
            "grid_row": null,
            "max_height": null,
            "align_content": null,
            "visibility": null,
            "align_self": null,
            "height": null,
            "min_height": null,
            "padding": null,
            "grid_auto_rows": null,
            "grid_gap": null,
            "max_width": null,
            "order": null,
            "_view_module_version": "1.2.0",
            "grid_template_areas": null,
            "object_position": null,
            "object_fit": null,
            "grid_auto_columns": null,
            "margin": null,
            "display": null,
            "left": null
          }
        },
        "8a79144474a94b20b0171a8bd0407f60": {
          "model_module": "@jupyter-widgets/controls",
          "model_name": "FloatProgressModel",
          "state": {
            "_view_name": "ProgressView",
            "style": "IPY_MODEL_7e31ab0a9ea0486a9e434daa8a5724cb",
            "_dom_classes": [],
            "description": "Downloading: ",
            "_model_name": "FloatProgressModel",
            "bar_style": "success",
            "max": 2069,
            "_view_module": "@jupyter-widgets/controls",
            "_model_module_version": "1.5.0",
            "value": 2069,
            "_view_count": null,
            "_view_module_version": "1.5.0",
            "orientation": "horizontal",
            "min": 0,
            "description_tooltip": null,
            "_model_module": "@jupyter-widgets/controls",
            "layout": "IPY_MODEL_7963e6e1813e4789ad0b257b3e742ea5"
          }
        },
        "0ac275ddbf4f48b38a782f3b0ba7c672": {
          "model_module": "@jupyter-widgets/controls",
          "model_name": "HTMLModel",
          "state": {
            "_view_name": "HTMLView",
            "style": "IPY_MODEL_f7b1b4d44b114bd294393f5c57ba6f30",
            "_dom_classes": [],
            "description": "",
            "_model_name": "HTMLModel",
            "placeholder": "​",
            "_view_module": "@jupyter-widgets/controls",
            "_model_module_version": "1.5.0",
            "value": " 5.41k/? [00:00&lt;00:00, 34.6kB/s]",
            "_view_count": null,
            "_view_module_version": "1.5.0",
            "description_tooltip": null,
            "_model_module": "@jupyter-widgets/controls",
            "layout": "IPY_MODEL_d491d90d798d47f0832f5847fc3d6ce0"
          }
        },
        "7e31ab0a9ea0486a9e434daa8a5724cb": {
          "model_module": "@jupyter-widgets/controls",
          "model_name": "ProgressStyleModel",
          "state": {
            "_view_name": "StyleView",
            "_model_name": "ProgressStyleModel",
            "description_width": "initial",
            "_view_module": "@jupyter-widgets/base",
            "_model_module_version": "1.5.0",
            "_view_count": null,
            "_view_module_version": "1.2.0",
            "bar_color": null,
            "_model_module": "@jupyter-widgets/controls"
          }
        },
        "7963e6e1813e4789ad0b257b3e742ea5": {
          "model_module": "@jupyter-widgets/base",
          "model_name": "LayoutModel",
          "state": {
            "_view_name": "LayoutView",
            "grid_template_rows": null,
            "right": null,
            "justify_content": null,
            "_view_module": "@jupyter-widgets/base",
            "overflow": null,
            "_model_module_version": "1.2.0",
            "_view_count": null,
            "flex_flow": null,
            "width": null,
            "min_width": null,
            "border": null,
            "align_items": null,
            "bottom": null,
            "_model_module": "@jupyter-widgets/base",
            "top": null,
            "grid_column": null,
            "overflow_y": null,
            "overflow_x": null,
            "grid_auto_flow": null,
            "grid_area": null,
            "grid_template_columns": null,
            "flex": null,
            "_model_name": "LayoutModel",
            "justify_items": null,
            "grid_row": null,
            "max_height": null,
            "align_content": null,
            "visibility": null,
            "align_self": null,
            "height": null,
            "min_height": null,
            "padding": null,
            "grid_auto_rows": null,
            "grid_gap": null,
            "max_width": null,
            "order": null,
            "_view_module_version": "1.2.0",
            "grid_template_areas": null,
            "object_position": null,
            "object_fit": null,
            "grid_auto_columns": null,
            "margin": null,
            "display": null,
            "left": null
          }
        },
        "f7b1b4d44b114bd294393f5c57ba6f30": {
          "model_module": "@jupyter-widgets/controls",
          "model_name": "DescriptionStyleModel",
          "state": {
            "_view_name": "StyleView",
            "_model_name": "DescriptionStyleModel",
            "description_width": "",
            "_view_module": "@jupyter-widgets/base",
            "_model_module_version": "1.5.0",
            "_view_count": null,
            "_view_module_version": "1.2.0",
            "_model_module": "@jupyter-widgets/controls"
          }
        },
        "d491d90d798d47f0832f5847fc3d6ce0": {
          "model_module": "@jupyter-widgets/base",
          "model_name": "LayoutModel",
          "state": {
            "_view_name": "LayoutView",
            "grid_template_rows": null,
            "right": null,
            "justify_content": null,
            "_view_module": "@jupyter-widgets/base",
            "overflow": null,
            "_model_module_version": "1.2.0",
            "_view_count": null,
            "flex_flow": null,
            "width": null,
            "min_width": null,
            "border": null,
            "align_items": null,
            "bottom": null,
            "_model_module": "@jupyter-widgets/base",
            "top": null,
            "grid_column": null,
            "overflow_y": null,
            "overflow_x": null,
            "grid_auto_flow": null,
            "grid_area": null,
            "grid_template_columns": null,
            "flex": null,
            "_model_name": "LayoutModel",
            "justify_items": null,
            "grid_row": null,
            "max_height": null,
            "align_content": null,
            "visibility": null,
            "align_self": null,
            "height": null,
            "min_height": null,
            "padding": null,
            "grid_auto_rows": null,
            "grid_gap": null,
            "max_width": null,
            "order": null,
            "_view_module_version": "1.2.0",
            "grid_template_areas": null,
            "object_position": null,
            "object_fit": null,
            "grid_auto_columns": null,
            "margin": null,
            "display": null,
            "left": null
          }
        },
        "9a8f04878e2c4872b50bf140290d6247": {
          "model_module": "@jupyter-widgets/controls",
          "model_name": "HBoxModel",
          "state": {
            "_view_name": "HBoxView",
            "_dom_classes": [],
            "_model_name": "HBoxModel",
            "_view_module": "@jupyter-widgets/controls",
            "_model_module_version": "1.5.0",
            "_view_count": null,
            "_view_module_version": "1.5.0",
            "box_style": "",
            "layout": "IPY_MODEL_ec0a1b99ccdc48a298a3bad22da45309",
            "_model_module": "@jupyter-widgets/controls",
            "children": [
              "IPY_MODEL_9e7a513fb5ed4acf93b559ad3db9fb8f",
              "IPY_MODEL_9595c32532794d4b90f6abb938b5bb5e"
            ]
          }
        },
        "ec0a1b99ccdc48a298a3bad22da45309": {
          "model_module": "@jupyter-widgets/base",
          "model_name": "LayoutModel",
          "state": {
            "_view_name": "LayoutView",
            "grid_template_rows": null,
            "right": null,
            "justify_content": null,
            "_view_module": "@jupyter-widgets/base",
            "overflow": null,
            "_model_module_version": "1.2.0",
            "_view_count": null,
            "flex_flow": null,
            "width": null,
            "min_width": null,
            "border": null,
            "align_items": null,
            "bottom": null,
            "_model_module": "@jupyter-widgets/base",
            "top": null,
            "grid_column": null,
            "overflow_y": null,
            "overflow_x": null,
            "grid_auto_flow": null,
            "grid_area": null,
            "grid_template_columns": null,
            "flex": null,
            "_model_name": "LayoutModel",
            "justify_items": null,
            "grid_row": null,
            "max_height": null,
            "align_content": null,
            "visibility": null,
            "align_self": null,
            "height": null,
            "min_height": null,
            "padding": null,
            "grid_auto_rows": null,
            "grid_gap": null,
            "max_width": null,
            "order": null,
            "_view_module_version": "1.2.0",
            "grid_template_areas": null,
            "object_position": null,
            "object_fit": null,
            "grid_auto_columns": null,
            "margin": null,
            "display": null,
            "left": null
          }
        },
        "9e7a513fb5ed4acf93b559ad3db9fb8f": {
          "model_module": "@jupyter-widgets/controls",
          "model_name": "FloatProgressModel",
          "state": {
            "_view_name": "ProgressView",
            "style": "IPY_MODEL_23335f9f2a494c82b30c7a60c72154d2",
            "_dom_classes": [],
            "description": "Downloading: ",
            "_model_name": "FloatProgressModel",
            "bar_style": "success",
            "max": 1231,
            "_view_module": "@jupyter-widgets/controls",
            "_model_module_version": "1.5.0",
            "value": 1231,
            "_view_count": null,
            "_view_module_version": "1.5.0",
            "orientation": "horizontal",
            "min": 0,
            "description_tooltip": null,
            "_model_module": "@jupyter-widgets/controls",
            "layout": "IPY_MODEL_9d3802edb7194b92b50cfda4a74879d7"
          }
        },
        "9595c32532794d4b90f6abb938b5bb5e": {
          "model_module": "@jupyter-widgets/controls",
          "model_name": "HTMLModel",
          "state": {
            "_view_name": "HTMLView",
            "style": "IPY_MODEL_0315d2d195d84bceb62eab9f16093828",
            "_dom_classes": [],
            "description": "",
            "_model_name": "HTMLModel",
            "placeholder": "​",
            "_view_module": "@jupyter-widgets/controls",
            "_model_module_version": "1.5.0",
            "value": " 4.99k/? [00:00&lt;00:00, 63.6kB/s]",
            "_view_count": null,
            "_view_module_version": "1.5.0",
            "description_tooltip": null,
            "_model_module": "@jupyter-widgets/controls",
            "layout": "IPY_MODEL_242cbec871f24a48ba8bdcfaa0dda053"
          }
        },
        "23335f9f2a494c82b30c7a60c72154d2": {
          "model_module": "@jupyter-widgets/controls",
          "model_name": "ProgressStyleModel",
          "state": {
            "_view_name": "StyleView",
            "_model_name": "ProgressStyleModel",
            "description_width": "initial",
            "_view_module": "@jupyter-widgets/base",
            "_model_module_version": "1.5.0",
            "_view_count": null,
            "_view_module_version": "1.2.0",
            "bar_color": null,
            "_model_module": "@jupyter-widgets/controls"
          }
        },
        "9d3802edb7194b92b50cfda4a74879d7": {
          "model_module": "@jupyter-widgets/base",
          "model_name": "LayoutModel",
          "state": {
            "_view_name": "LayoutView",
            "grid_template_rows": null,
            "right": null,
            "justify_content": null,
            "_view_module": "@jupyter-widgets/base",
            "overflow": null,
            "_model_module_version": "1.2.0",
            "_view_count": null,
            "flex_flow": null,
            "width": null,
            "min_width": null,
            "border": null,
            "align_items": null,
            "bottom": null,
            "_model_module": "@jupyter-widgets/base",
            "top": null,
            "grid_column": null,
            "overflow_y": null,
            "overflow_x": null,
            "grid_auto_flow": null,
            "grid_area": null,
            "grid_template_columns": null,
            "flex": null,
            "_model_name": "LayoutModel",
            "justify_items": null,
            "grid_row": null,
            "max_height": null,
            "align_content": null,
            "visibility": null,
            "align_self": null,
            "height": null,
            "min_height": null,
            "padding": null,
            "grid_auto_rows": null,
            "grid_gap": null,
            "max_width": null,
            "order": null,
            "_view_module_version": "1.2.0",
            "grid_template_areas": null,
            "object_position": null,
            "object_fit": null,
            "grid_auto_columns": null,
            "margin": null,
            "display": null,
            "left": null
          }
        },
        "0315d2d195d84bceb62eab9f16093828": {
          "model_module": "@jupyter-widgets/controls",
          "model_name": "DescriptionStyleModel",
          "state": {
            "_view_name": "StyleView",
            "_model_name": "DescriptionStyleModel",
            "description_width": "",
            "_view_module": "@jupyter-widgets/base",
            "_model_module_version": "1.5.0",
            "_view_count": null,
            "_view_module_version": "1.2.0",
            "_model_module": "@jupyter-widgets/controls"
          }
        },
        "242cbec871f24a48ba8bdcfaa0dda053": {
          "model_module": "@jupyter-widgets/base",
          "model_name": "LayoutModel",
          "state": {
            "_view_name": "LayoutView",
            "grid_template_rows": null,
            "right": null,
            "justify_content": null,
            "_view_module": "@jupyter-widgets/base",
            "overflow": null,
            "_model_module_version": "1.2.0",
            "_view_count": null,
            "flex_flow": null,
            "width": null,
            "min_width": null,
            "border": null,
            "align_items": null,
            "bottom": null,
            "_model_module": "@jupyter-widgets/base",
            "top": null,
            "grid_column": null,
            "overflow_y": null,
            "overflow_x": null,
            "grid_auto_flow": null,
            "grid_area": null,
            "grid_template_columns": null,
            "flex": null,
            "_model_name": "LayoutModel",
            "justify_items": null,
            "grid_row": null,
            "max_height": null,
            "align_content": null,
            "visibility": null,
            "align_self": null,
            "height": null,
            "min_height": null,
            "padding": null,
            "grid_auto_rows": null,
            "grid_gap": null,
            "max_width": null,
            "order": null,
            "_view_module_version": "1.2.0",
            "grid_template_areas": null,
            "object_position": null,
            "object_fit": null,
            "grid_auto_columns": null,
            "margin": null,
            "display": null,
            "left": null
          }
        },
        "e22316551d954c4092b999514dda88e1": {
          "model_module": "@jupyter-widgets/controls",
          "model_name": "HBoxModel",
          "state": {
            "_view_name": "HBoxView",
            "_dom_classes": [],
            "_model_name": "HBoxModel",
            "_view_module": "@jupyter-widgets/controls",
            "_model_module_version": "1.5.0",
            "_view_count": null,
            "_view_module_version": "1.5.0",
            "box_style": "",
            "layout": "IPY_MODEL_551fa85aa0624cc6bf928b8aaf3a8e87",
            "_model_module": "@jupyter-widgets/controls",
            "children": [
              "IPY_MODEL_3b2be425d07d4f0fb4c8836cbcb96fb4",
              "IPY_MODEL_e61b8cb61e3b42d9a735397aaa5b2d17"
            ]
          }
        },
        "551fa85aa0624cc6bf928b8aaf3a8e87": {
          "model_module": "@jupyter-widgets/base",
          "model_name": "LayoutModel",
          "state": {
            "_view_name": "LayoutView",
            "grid_template_rows": null,
            "right": null,
            "justify_content": null,
            "_view_module": "@jupyter-widgets/base",
            "overflow": null,
            "_model_module_version": "1.2.0",
            "_view_count": null,
            "flex_flow": null,
            "width": null,
            "min_width": null,
            "border": null,
            "align_items": null,
            "bottom": null,
            "_model_module": "@jupyter-widgets/base",
            "top": null,
            "grid_column": null,
            "overflow_y": null,
            "overflow_x": null,
            "grid_auto_flow": null,
            "grid_area": null,
            "grid_template_columns": null,
            "flex": null,
            "_model_name": "LayoutModel",
            "justify_items": null,
            "grid_row": null,
            "max_height": null,
            "align_content": null,
            "visibility": null,
            "align_self": null,
            "height": null,
            "min_height": null,
            "padding": null,
            "grid_auto_rows": null,
            "grid_gap": null,
            "max_width": null,
            "order": null,
            "_view_module_version": "1.2.0",
            "grid_template_areas": null,
            "object_position": null,
            "object_fit": null,
            "grid_auto_columns": null,
            "margin": null,
            "display": null,
            "left": null
          }
        },
        "3b2be425d07d4f0fb4c8836cbcb96fb4": {
          "model_module": "@jupyter-widgets/controls",
          "model_name": "FloatProgressModel",
          "state": {
            "_view_name": "ProgressView",
            "style": "IPY_MODEL_a1ab6bfcf6974bc288dcf7cd69e0049d",
            "_dom_classes": [],
            "description": "Downloading: 100%",
            "_model_name": "FloatProgressModel",
            "bar_style": "success",
            "max": 3624420843,
            "_view_module": "@jupyter-widgets/controls",
            "_model_module_version": "1.5.0",
            "value": 3624420843,
            "_view_count": null,
            "_view_module_version": "1.5.0",
            "orientation": "horizontal",
            "min": 0,
            "description_tooltip": null,
            "_model_module": "@jupyter-widgets/controls",
            "layout": "IPY_MODEL_d7ff1686e47a4d6ea3c9b3918533491d"
          }
        },
        "e61b8cb61e3b42d9a735397aaa5b2d17": {
          "model_module": "@jupyter-widgets/controls",
          "model_name": "HTMLModel",
          "state": {
            "_view_name": "HTMLView",
            "style": "IPY_MODEL_fa12c41fc7f24f44a8b1f619bdd5829a",
            "_dom_classes": [],
            "description": "",
            "_model_name": "HTMLModel",
            "placeholder": "​",
            "_view_module": "@jupyter-widgets/controls",
            "_model_module_version": "1.5.0",
            "value": " 3.62G/3.62G [09:43&lt;00:00, 6.21MB/s]",
            "_view_count": null,
            "_view_module_version": "1.5.0",
            "description_tooltip": null,
            "_model_module": "@jupyter-widgets/controls",
            "layout": "IPY_MODEL_fb93a74a888e49bfa22980fff5ec5b76"
          }
        },
        "a1ab6bfcf6974bc288dcf7cd69e0049d": {
          "model_module": "@jupyter-widgets/controls",
          "model_name": "ProgressStyleModel",
          "state": {
            "_view_name": "StyleView",
            "_model_name": "ProgressStyleModel",
            "description_width": "initial",
            "_view_module": "@jupyter-widgets/base",
            "_model_module_version": "1.5.0",
            "_view_count": null,
            "_view_module_version": "1.2.0",
            "bar_color": null,
            "_model_module": "@jupyter-widgets/controls"
          }
        },
        "d7ff1686e47a4d6ea3c9b3918533491d": {
          "model_module": "@jupyter-widgets/base",
          "model_name": "LayoutModel",
          "state": {
            "_view_name": "LayoutView",
            "grid_template_rows": null,
            "right": null,
            "justify_content": null,
            "_view_module": "@jupyter-widgets/base",
            "overflow": null,
            "_model_module_version": "1.2.0",
            "_view_count": null,
            "flex_flow": null,
            "width": null,
            "min_width": null,
            "border": null,
            "align_items": null,
            "bottom": null,
            "_model_module": "@jupyter-widgets/base",
            "top": null,
            "grid_column": null,
            "overflow_y": null,
            "overflow_x": null,
            "grid_auto_flow": null,
            "grid_area": null,
            "grid_template_columns": null,
            "flex": null,
            "_model_name": "LayoutModel",
            "justify_items": null,
            "grid_row": null,
            "max_height": null,
            "align_content": null,
            "visibility": null,
            "align_self": null,
            "height": null,
            "min_height": null,
            "padding": null,
            "grid_auto_rows": null,
            "grid_gap": null,
            "max_width": null,
            "order": null,
            "_view_module_version": "1.2.0",
            "grid_template_areas": null,
            "object_position": null,
            "object_fit": null,
            "grid_auto_columns": null,
            "margin": null,
            "display": null,
            "left": null
          }
        },
        "fa12c41fc7f24f44a8b1f619bdd5829a": {
          "model_module": "@jupyter-widgets/controls",
          "model_name": "DescriptionStyleModel",
          "state": {
            "_view_name": "StyleView",
            "_model_name": "DescriptionStyleModel",
            "description_width": "",
            "_view_module": "@jupyter-widgets/base",
            "_model_module_version": "1.5.0",
            "_view_count": null,
            "_view_module_version": "1.2.0",
            "_model_module": "@jupyter-widgets/controls"
          }
        },
        "fb93a74a888e49bfa22980fff5ec5b76": {
          "model_module": "@jupyter-widgets/base",
          "model_name": "LayoutModel",
          "state": {
            "_view_name": "LayoutView",
            "grid_template_rows": null,
            "right": null,
            "justify_content": null,
            "_view_module": "@jupyter-widgets/base",
            "overflow": null,
            "_model_module_version": "1.2.0",
            "_view_count": null,
            "flex_flow": null,
            "width": null,
            "min_width": null,
            "border": null,
            "align_items": null,
            "bottom": null,
            "_model_module": "@jupyter-widgets/base",
            "top": null,
            "grid_column": null,
            "overflow_y": null,
            "overflow_x": null,
            "grid_auto_flow": null,
            "grid_area": null,
            "grid_template_columns": null,
            "flex": null,
            "_model_name": "LayoutModel",
            "justify_items": null,
            "grid_row": null,
            "max_height": null,
            "align_content": null,
            "visibility": null,
            "align_self": null,
            "height": null,
            "min_height": null,
            "padding": null,
            "grid_auto_rows": null,
            "grid_gap": null,
            "max_width": null,
            "order": null,
            "_view_module_version": "1.2.0",
            "grid_template_areas": null,
            "object_position": null,
            "object_fit": null,
            "grid_auto_columns": null,
            "margin": null,
            "display": null,
            "left": null
          }
        },
        "56beb6c74f0348b2a52203f429f0e502": {
          "model_module": "@jupyter-widgets/controls",
          "model_name": "HBoxModel",
          "state": {
            "_view_name": "HBoxView",
            "_dom_classes": [],
            "_model_name": "HBoxModel",
            "_view_module": "@jupyter-widgets/controls",
            "_model_module_version": "1.5.0",
            "_view_count": null,
            "_view_module_version": "1.5.0",
            "box_style": "",
            "layout": "IPY_MODEL_aa936cda7a894a55812e943cbfc2505a",
            "_model_module": "@jupyter-widgets/controls",
            "children": [
              "IPY_MODEL_7f439b5ef813470b8dee55d3e8b60e73",
              "IPY_MODEL_cbeea4012d9548138e680368dc0c4e5f"
            ]
          }
        },
        "aa936cda7a894a55812e943cbfc2505a": {
          "model_module": "@jupyter-widgets/base",
          "model_name": "LayoutModel",
          "state": {
            "_view_name": "LayoutView",
            "grid_template_rows": null,
            "right": null,
            "justify_content": null,
            "_view_module": "@jupyter-widgets/base",
            "overflow": null,
            "_model_module_version": "1.2.0",
            "_view_count": null,
            "flex_flow": null,
            "width": null,
            "min_width": null,
            "border": null,
            "align_items": null,
            "bottom": null,
            "_model_module": "@jupyter-widgets/base",
            "top": null,
            "grid_column": null,
            "overflow_y": null,
            "overflow_x": null,
            "grid_auto_flow": null,
            "grid_area": null,
            "grid_template_columns": null,
            "flex": null,
            "_model_name": "LayoutModel",
            "justify_items": null,
            "grid_row": null,
            "max_height": null,
            "align_content": null,
            "visibility": null,
            "align_self": null,
            "height": null,
            "min_height": null,
            "padding": null,
            "grid_auto_rows": null,
            "grid_gap": null,
            "max_width": null,
            "order": null,
            "_view_module_version": "1.2.0",
            "grid_template_areas": null,
            "object_position": null,
            "object_fit": null,
            "grid_auto_columns": null,
            "margin": null,
            "display": null,
            "left": null
          }
        },
        "7f439b5ef813470b8dee55d3e8b60e73": {
          "model_module": "@jupyter-widgets/controls",
          "model_name": "FloatProgressModel",
          "state": {
            "_view_name": "ProgressView",
            "style": "IPY_MODEL_a1c3a6d5e7524fdb8570800958633bac",
            "_dom_classes": [],
            "description": "Downloading: 100%",
            "_model_name": "FloatProgressModel",
            "bar_style": "success",
            "max": 880225504,
            "_view_module": "@jupyter-widgets/controls",
            "_model_module_version": "1.5.0",
            "value": 880225504,
            "_view_count": null,
            "_view_module_version": "1.5.0",
            "orientation": "horizontal",
            "min": 0,
            "description_tooltip": null,
            "_model_module": "@jupyter-widgets/controls",
            "layout": "IPY_MODEL_1e09590ca4704ac9b67fb925e8398e5f"
          }
        },
        "cbeea4012d9548138e680368dc0c4e5f": {
          "model_module": "@jupyter-widgets/controls",
          "model_name": "HTMLModel",
          "state": {
            "_view_name": "HTMLView",
            "style": "IPY_MODEL_95f5f6365a77444599dd96550f2a6a64",
            "_dom_classes": [],
            "description": "",
            "_model_name": "HTMLModel",
            "placeholder": "​",
            "_view_module": "@jupyter-widgets/controls",
            "_model_module_version": "1.5.0",
            "value": " 880M/880M [08:36&lt;00:00, 1.71MB/s]",
            "_view_count": null,
            "_view_module_version": "1.5.0",
            "description_tooltip": null,
            "_model_module": "@jupyter-widgets/controls",
            "layout": "IPY_MODEL_e0ef19a838ec4d45b09121c96ac45dd5"
          }
        },
        "a1c3a6d5e7524fdb8570800958633bac": {
          "model_module": "@jupyter-widgets/controls",
          "model_name": "ProgressStyleModel",
          "state": {
            "_view_name": "StyleView",
            "_model_name": "ProgressStyleModel",
            "description_width": "initial",
            "_view_module": "@jupyter-widgets/base",
            "_model_module_version": "1.5.0",
            "_view_count": null,
            "_view_module_version": "1.2.0",
            "bar_color": null,
            "_model_module": "@jupyter-widgets/controls"
          }
        },
        "1e09590ca4704ac9b67fb925e8398e5f": {
          "model_module": "@jupyter-widgets/base",
          "model_name": "LayoutModel",
          "state": {
            "_view_name": "LayoutView",
            "grid_template_rows": null,
            "right": null,
            "justify_content": null,
            "_view_module": "@jupyter-widgets/base",
            "overflow": null,
            "_model_module_version": "1.2.0",
            "_view_count": null,
            "flex_flow": null,
            "width": null,
            "min_width": null,
            "border": null,
            "align_items": null,
            "bottom": null,
            "_model_module": "@jupyter-widgets/base",
            "top": null,
            "grid_column": null,
            "overflow_y": null,
            "overflow_x": null,
            "grid_auto_flow": null,
            "grid_area": null,
            "grid_template_columns": null,
            "flex": null,
            "_model_name": "LayoutModel",
            "justify_items": null,
            "grid_row": null,
            "max_height": null,
            "align_content": null,
            "visibility": null,
            "align_self": null,
            "height": null,
            "min_height": null,
            "padding": null,
            "grid_auto_rows": null,
            "grid_gap": null,
            "max_width": null,
            "order": null,
            "_view_module_version": "1.2.0",
            "grid_template_areas": null,
            "object_position": null,
            "object_fit": null,
            "grid_auto_columns": null,
            "margin": null,
            "display": null,
            "left": null
          }
        },
        "95f5f6365a77444599dd96550f2a6a64": {
          "model_module": "@jupyter-widgets/controls",
          "model_name": "DescriptionStyleModel",
          "state": {
            "_view_name": "StyleView",
            "_model_name": "DescriptionStyleModel",
            "description_width": "",
            "_view_module": "@jupyter-widgets/base",
            "_model_module_version": "1.5.0",
            "_view_count": null,
            "_view_module_version": "1.2.0",
            "_model_module": "@jupyter-widgets/controls"
          }
        },
        "e0ef19a838ec4d45b09121c96ac45dd5": {
          "model_module": "@jupyter-widgets/base",
          "model_name": "LayoutModel",
          "state": {
            "_view_name": "LayoutView",
            "grid_template_rows": null,
            "right": null,
            "justify_content": null,
            "_view_module": "@jupyter-widgets/base",
            "overflow": null,
            "_model_module_version": "1.2.0",
            "_view_count": null,
            "flex_flow": null,
            "width": null,
            "min_width": null,
            "border": null,
            "align_items": null,
            "bottom": null,
            "_model_module": "@jupyter-widgets/base",
            "top": null,
            "grid_column": null,
            "overflow_y": null,
            "overflow_x": null,
            "grid_auto_flow": null,
            "grid_area": null,
            "grid_template_columns": null,
            "flex": null,
            "_model_name": "LayoutModel",
            "justify_items": null,
            "grid_row": null,
            "max_height": null,
            "align_content": null,
            "visibility": null,
            "align_self": null,
            "height": null,
            "min_height": null,
            "padding": null,
            "grid_auto_rows": null,
            "grid_gap": null,
            "max_width": null,
            "order": null,
            "_view_module_version": "1.2.0",
            "grid_template_areas": null,
            "object_position": null,
            "object_fit": null,
            "grid_auto_columns": null,
            "margin": null,
            "display": null,
            "left": null
          }
        },
        "66eeda24e74c4a8fb9a3a5ef4086daa0": {
          "model_module": "@jupyter-widgets/controls",
          "model_name": "HBoxModel",
          "state": {
            "_view_name": "HBoxView",
            "_dom_classes": [],
            "_model_name": "HBoxModel",
            "_view_module": "@jupyter-widgets/controls",
            "_model_module_version": "1.5.0",
            "_view_count": null,
            "_view_module_version": "1.5.0",
            "box_style": "",
            "layout": "IPY_MODEL_5265546fae7e4d3fb32f1f4ab4444d83",
            "_model_module": "@jupyter-widgets/controls",
            "children": [
              "IPY_MODEL_afb5965931344bb085ebb380757f0a19",
              "IPY_MODEL_8a2e05f4a06f4f14b1bb6718c0c00b22"
            ]
          }
        },
        "5265546fae7e4d3fb32f1f4ab4444d83": {
          "model_module": "@jupyter-widgets/base",
          "model_name": "LayoutModel",
          "state": {
            "_view_name": "LayoutView",
            "grid_template_rows": null,
            "right": null,
            "justify_content": null,
            "_view_module": "@jupyter-widgets/base",
            "overflow": null,
            "_model_module_version": "1.2.0",
            "_view_count": null,
            "flex_flow": null,
            "width": null,
            "min_width": null,
            "border": null,
            "align_items": null,
            "bottom": null,
            "_model_module": "@jupyter-widgets/base",
            "top": null,
            "grid_column": null,
            "overflow_y": null,
            "overflow_x": null,
            "grid_auto_flow": null,
            "grid_area": null,
            "grid_template_columns": null,
            "flex": null,
            "_model_name": "LayoutModel",
            "justify_items": null,
            "grid_row": null,
            "max_height": null,
            "align_content": null,
            "visibility": null,
            "align_self": null,
            "height": null,
            "min_height": null,
            "padding": null,
            "grid_auto_rows": null,
            "grid_gap": null,
            "max_width": null,
            "order": null,
            "_view_module_version": "1.2.0",
            "grid_template_areas": null,
            "object_position": null,
            "object_fit": null,
            "grid_auto_columns": null,
            "margin": null,
            "display": null,
            "left": null
          }
        },
        "afb5965931344bb085ebb380757f0a19": {
          "model_module": "@jupyter-widgets/controls",
          "model_name": "FloatProgressModel",
          "state": {
            "_view_name": "ProgressView",
            "style": "IPY_MODEL_e57ef048e24947659012db5f92b315a8",
            "_dom_classes": [],
            "description": "",
            "_model_name": "FloatProgressModel",
            "bar_style": "info",
            "max": 1,
            "_view_module": "@jupyter-widgets/controls",
            "_model_module_version": "1.5.0",
            "value": 1,
            "_view_count": null,
            "_view_module_version": "1.5.0",
            "orientation": "horizontal",
            "min": 0,
            "description_tooltip": null,
            "_model_module": "@jupyter-widgets/controls",
            "layout": "IPY_MODEL_5c4addc8c6454e97ad50eecea5236bea"
          }
        },
        "8a2e05f4a06f4f14b1bb6718c0c00b22": {
          "model_module": "@jupyter-widgets/controls",
          "model_name": "HTMLModel",
          "state": {
            "_view_name": "HTMLView",
            "style": "IPY_MODEL_5ad167fafa594017b664368fa1f3de62",
            "_dom_classes": [],
            "description": "",
            "_model_name": "HTMLModel",
            "placeholder": "​",
            "_view_module": "@jupyter-widgets/controls",
            "_model_module_version": "1.5.0",
            "value": " 119924/0 [00:52&lt;00:00, 5229.81 examples/s]",
            "_view_count": null,
            "_view_module_version": "1.5.0",
            "description_tooltip": null,
            "_model_module": "@jupyter-widgets/controls",
            "layout": "IPY_MODEL_e9246bb513634312aa580ac2b88c272b"
          }
        },
        "e57ef048e24947659012db5f92b315a8": {
          "model_module": "@jupyter-widgets/controls",
          "model_name": "ProgressStyleModel",
          "state": {
            "_view_name": "StyleView",
            "_model_name": "ProgressStyleModel",
            "description_width": "initial",
            "_view_module": "@jupyter-widgets/base",
            "_model_module_version": "1.5.0",
            "_view_count": null,
            "_view_module_version": "1.2.0",
            "bar_color": null,
            "_model_module": "@jupyter-widgets/controls"
          }
        },
        "5c4addc8c6454e97ad50eecea5236bea": {
          "model_module": "@jupyter-widgets/base",
          "model_name": "LayoutModel",
          "state": {
            "_view_name": "LayoutView",
            "grid_template_rows": null,
            "right": null,
            "justify_content": null,
            "_view_module": "@jupyter-widgets/base",
            "overflow": null,
            "_model_module_version": "1.2.0",
            "_view_count": null,
            "flex_flow": null,
            "width": null,
            "min_width": null,
            "border": null,
            "align_items": null,
            "bottom": null,
            "_model_module": "@jupyter-widgets/base",
            "top": null,
            "grid_column": null,
            "overflow_y": null,
            "overflow_x": null,
            "grid_auto_flow": null,
            "grid_area": null,
            "grid_template_columns": null,
            "flex": null,
            "_model_name": "LayoutModel",
            "justify_items": null,
            "grid_row": null,
            "max_height": null,
            "align_content": null,
            "visibility": null,
            "align_self": null,
            "height": null,
            "min_height": null,
            "padding": null,
            "grid_auto_rows": null,
            "grid_gap": null,
            "max_width": null,
            "order": null,
            "_view_module_version": "1.2.0",
            "grid_template_areas": null,
            "object_position": null,
            "object_fit": null,
            "grid_auto_columns": null,
            "margin": null,
            "display": null,
            "left": null
          }
        },
        "5ad167fafa594017b664368fa1f3de62": {
          "model_module": "@jupyter-widgets/controls",
          "model_name": "DescriptionStyleModel",
          "state": {
            "_view_name": "StyleView",
            "_model_name": "DescriptionStyleModel",
            "description_width": "",
            "_view_module": "@jupyter-widgets/base",
            "_model_module_version": "1.5.0",
            "_view_count": null,
            "_view_module_version": "1.2.0",
            "_model_module": "@jupyter-widgets/controls"
          }
        },
        "e9246bb513634312aa580ac2b88c272b": {
          "model_module": "@jupyter-widgets/base",
          "model_name": "LayoutModel",
          "state": {
            "_view_name": "LayoutView",
            "grid_template_rows": null,
            "right": null,
            "justify_content": null,
            "_view_module": "@jupyter-widgets/base",
            "overflow": null,
            "_model_module_version": "1.2.0",
            "_view_count": null,
            "flex_flow": null,
            "width": null,
            "min_width": null,
            "border": null,
            "align_items": null,
            "bottom": null,
            "_model_module": "@jupyter-widgets/base",
            "top": null,
            "grid_column": null,
            "overflow_y": null,
            "overflow_x": null,
            "grid_auto_flow": null,
            "grid_area": null,
            "grid_template_columns": null,
            "flex": null,
            "_model_name": "LayoutModel",
            "justify_items": null,
            "grid_row": null,
            "max_height": null,
            "align_content": null,
            "visibility": null,
            "align_self": null,
            "height": null,
            "min_height": null,
            "padding": null,
            "grid_auto_rows": null,
            "grid_gap": null,
            "max_width": null,
            "order": null,
            "_view_module_version": "1.2.0",
            "grid_template_areas": null,
            "object_position": null,
            "object_fit": null,
            "grid_auto_columns": null,
            "margin": null,
            "display": null,
            "left": null
          }
        },
        "76037791ae134abb858aa92c8435cc54": {
          "model_module": "@jupyter-widgets/controls",
          "model_name": "HBoxModel",
          "state": {
            "_view_name": "HBoxView",
            "_dom_classes": [],
            "_model_name": "HBoxModel",
            "_view_module": "@jupyter-widgets/controls",
            "_model_module_version": "1.5.0",
            "_view_count": null,
            "_view_module_version": "1.5.0",
            "box_style": "",
            "layout": "IPY_MODEL_9e09adcfb4334df9b8f2c55de81a4fb9",
            "_model_module": "@jupyter-widgets/controls",
            "children": [
              "IPY_MODEL_835f0dbfd50d41d79a1ffec48938e863",
              "IPY_MODEL_eaaae9a2be94495186b64880f4640c7d"
            ]
          }
        },
        "9e09adcfb4334df9b8f2c55de81a4fb9": {
          "model_module": "@jupyter-widgets/base",
          "model_name": "LayoutModel",
          "state": {
            "_view_name": "LayoutView",
            "grid_template_rows": null,
            "right": null,
            "justify_content": null,
            "_view_module": "@jupyter-widgets/base",
            "overflow": null,
            "_model_module_version": "1.2.0",
            "_view_count": null,
            "flex_flow": null,
            "width": null,
            "min_width": null,
            "border": null,
            "align_items": null,
            "bottom": null,
            "_model_module": "@jupyter-widgets/base",
            "top": null,
            "grid_column": null,
            "overflow_y": null,
            "overflow_x": null,
            "grid_auto_flow": null,
            "grid_area": null,
            "grid_template_columns": null,
            "flex": null,
            "_model_name": "LayoutModel",
            "justify_items": null,
            "grid_row": null,
            "max_height": null,
            "align_content": null,
            "visibility": null,
            "align_self": null,
            "height": null,
            "min_height": null,
            "padding": null,
            "grid_auto_rows": null,
            "grid_gap": null,
            "max_width": null,
            "order": null,
            "_view_module_version": "1.2.0",
            "grid_template_areas": null,
            "object_position": null,
            "object_fit": null,
            "grid_auto_columns": null,
            "margin": null,
            "display": null,
            "left": null
          }
        },
        "835f0dbfd50d41d79a1ffec48938e863": {
          "model_module": "@jupyter-widgets/controls",
          "model_name": "FloatProgressModel",
          "state": {
            "_view_name": "ProgressView",
            "style": "IPY_MODEL_cc4a3bdc0f4c4874980d45cc9174ffce",
            "_dom_classes": [],
            "description": "",
            "_model_name": "FloatProgressModel",
            "bar_style": "info",
            "max": 1,
            "_view_module": "@jupyter-widgets/controls",
            "_model_module_version": "1.5.0",
            "value": 1,
            "_view_count": null,
            "_view_module_version": "1.5.0",
            "orientation": "horizontal",
            "min": 0,
            "description_tooltip": null,
            "_model_module": "@jupyter-widgets/controls",
            "layout": "IPY_MODEL_d7f2d1da3048470a84107e77f66a2541"
          }
        },
        "eaaae9a2be94495186b64880f4640c7d": {
          "model_module": "@jupyter-widgets/controls",
          "model_name": "HTMLModel",
          "state": {
            "_view_name": "HTMLView",
            "style": "IPY_MODEL_307fdefe7fad49c3ab82954d504a0291",
            "_dom_classes": [],
            "description": "",
            "_model_name": "HTMLModel",
            "placeholder": "​",
            "_view_module": "@jupyter-widgets/controls",
            "_model_module_version": "1.5.0",
            "value": " 6633/0 [00:01&lt;00:00, 5296.43 examples/s]",
            "_view_count": null,
            "_view_module_version": "1.5.0",
            "description_tooltip": null,
            "_model_module": "@jupyter-widgets/controls",
            "layout": "IPY_MODEL_bc39a945d4634847807947144838b7eb"
          }
        },
        "cc4a3bdc0f4c4874980d45cc9174ffce": {
          "model_module": "@jupyter-widgets/controls",
          "model_name": "ProgressStyleModel",
          "state": {
            "_view_name": "StyleView",
            "_model_name": "ProgressStyleModel",
            "description_width": "initial",
            "_view_module": "@jupyter-widgets/base",
            "_model_module_version": "1.5.0",
            "_view_count": null,
            "_view_module_version": "1.2.0",
            "bar_color": null,
            "_model_module": "@jupyter-widgets/controls"
          }
        },
        "d7f2d1da3048470a84107e77f66a2541": {
          "model_module": "@jupyter-widgets/base",
          "model_name": "LayoutModel",
          "state": {
            "_view_name": "LayoutView",
            "grid_template_rows": null,
            "right": null,
            "justify_content": null,
            "_view_module": "@jupyter-widgets/base",
            "overflow": null,
            "_model_module_version": "1.2.0",
            "_view_count": null,
            "flex_flow": null,
            "width": null,
            "min_width": null,
            "border": null,
            "align_items": null,
            "bottom": null,
            "_model_module": "@jupyter-widgets/base",
            "top": null,
            "grid_column": null,
            "overflow_y": null,
            "overflow_x": null,
            "grid_auto_flow": null,
            "grid_area": null,
            "grid_template_columns": null,
            "flex": null,
            "_model_name": "LayoutModel",
            "justify_items": null,
            "grid_row": null,
            "max_height": null,
            "align_content": null,
            "visibility": null,
            "align_self": null,
            "height": null,
            "min_height": null,
            "padding": null,
            "grid_auto_rows": null,
            "grid_gap": null,
            "max_width": null,
            "order": null,
            "_view_module_version": "1.2.0",
            "grid_template_areas": null,
            "object_position": null,
            "object_fit": null,
            "grid_auto_columns": null,
            "margin": null,
            "display": null,
            "left": null
          }
        },
        "307fdefe7fad49c3ab82954d504a0291": {
          "model_module": "@jupyter-widgets/controls",
          "model_name": "DescriptionStyleModel",
          "state": {
            "_view_name": "StyleView",
            "_model_name": "DescriptionStyleModel",
            "description_width": "",
            "_view_module": "@jupyter-widgets/base",
            "_model_module_version": "1.5.0",
            "_view_count": null,
            "_view_module_version": "1.2.0",
            "_model_module": "@jupyter-widgets/controls"
          }
        },
        "bc39a945d4634847807947144838b7eb": {
          "model_module": "@jupyter-widgets/base",
          "model_name": "LayoutModel",
          "state": {
            "_view_name": "LayoutView",
            "grid_template_rows": null,
            "right": null,
            "justify_content": null,
            "_view_module": "@jupyter-widgets/base",
            "overflow": null,
            "_model_module_version": "1.2.0",
            "_view_count": null,
            "flex_flow": null,
            "width": null,
            "min_width": null,
            "border": null,
            "align_items": null,
            "bottom": null,
            "_model_module": "@jupyter-widgets/base",
            "top": null,
            "grid_column": null,
            "overflow_y": null,
            "overflow_x": null,
            "grid_auto_flow": null,
            "grid_area": null,
            "grid_template_columns": null,
            "flex": null,
            "_model_name": "LayoutModel",
            "justify_items": null,
            "grid_row": null,
            "max_height": null,
            "align_content": null,
            "visibility": null,
            "align_self": null,
            "height": null,
            "min_height": null,
            "padding": null,
            "grid_auto_rows": null,
            "grid_gap": null,
            "max_width": null,
            "order": null,
            "_view_module_version": "1.2.0",
            "grid_template_areas": null,
            "object_position": null,
            "object_fit": null,
            "grid_auto_columns": null,
            "margin": null,
            "display": null,
            "left": null
          }
        },
        "21897da912214e81ac69c5a30c6dca0e": {
          "model_module": "@jupyter-widgets/controls",
          "model_name": "HBoxModel",
          "state": {
            "_view_name": "HBoxView",
            "_dom_classes": [],
            "_model_name": "HBoxModel",
            "_view_module": "@jupyter-widgets/controls",
            "_model_module_version": "1.5.0",
            "_view_count": null,
            "_view_module_version": "1.5.0",
            "box_style": "",
            "layout": "IPY_MODEL_40d7d32ff4d942648c219abce8a53786",
            "_model_module": "@jupyter-widgets/controls",
            "children": [
              "IPY_MODEL_0017f8bfdd6c4eb5a36eaabf0c9fbc5f",
              "IPY_MODEL_5fd170312d774e1c8bdc12903b9973f5"
            ]
          }
        },
        "40d7d32ff4d942648c219abce8a53786": {
          "model_module": "@jupyter-widgets/base",
          "model_name": "LayoutModel",
          "state": {
            "_view_name": "LayoutView",
            "grid_template_rows": null,
            "right": null,
            "justify_content": null,
            "_view_module": "@jupyter-widgets/base",
            "overflow": null,
            "_model_module_version": "1.2.0",
            "_view_count": null,
            "flex_flow": null,
            "width": null,
            "min_width": null,
            "border": null,
            "align_items": null,
            "bottom": null,
            "_model_module": "@jupyter-widgets/base",
            "top": null,
            "grid_column": null,
            "overflow_y": null,
            "overflow_x": null,
            "grid_auto_flow": null,
            "grid_area": null,
            "grid_template_columns": null,
            "flex": null,
            "_model_name": "LayoutModel",
            "justify_items": null,
            "grid_row": null,
            "max_height": null,
            "align_content": null,
            "visibility": null,
            "align_self": null,
            "height": null,
            "min_height": null,
            "padding": null,
            "grid_auto_rows": null,
            "grid_gap": null,
            "max_width": null,
            "order": null,
            "_view_module_version": "1.2.0",
            "grid_template_areas": null,
            "object_position": null,
            "object_fit": null,
            "grid_auto_columns": null,
            "margin": null,
            "display": null,
            "left": null
          }
        },
        "0017f8bfdd6c4eb5a36eaabf0c9fbc5f": {
          "model_module": "@jupyter-widgets/controls",
          "model_name": "FloatProgressModel",
          "state": {
            "_view_name": "ProgressView",
            "style": "IPY_MODEL_b668e4e45c6844a5bdb7095a6fcc0d78",
            "_dom_classes": [],
            "description": "",
            "_model_name": "FloatProgressModel",
            "bar_style": "info",
            "max": 1,
            "_view_module": "@jupyter-widgets/controls",
            "_model_module_version": "1.5.0",
            "value": 1,
            "_view_count": null,
            "_view_module_version": "1.5.0",
            "orientation": "horizontal",
            "min": 0,
            "description_tooltip": null,
            "_model_module": "@jupyter-widgets/controls",
            "layout": "IPY_MODEL_8561de0260ca43f089a707facd52b50b"
          }
        },
        "5fd170312d774e1c8bdc12903b9973f5": {
          "model_module": "@jupyter-widgets/controls",
          "model_name": "HTMLModel",
          "state": {
            "_view_name": "HTMLView",
            "style": "IPY_MODEL_2c048b76fbcd4e9592dfefa0486cdd41",
            "_dom_classes": [],
            "description": "",
            "_model_name": "HTMLModel",
            "placeholder": "​",
            "_view_module": "@jupyter-widgets/controls",
            "_model_module_version": "1.5.0",
            "value": " 6658/0 [00:01&lt;00:00, 5052.73 examples/s]",
            "_view_count": null,
            "_view_module_version": "1.5.0",
            "description_tooltip": null,
            "_model_module": "@jupyter-widgets/controls",
            "layout": "IPY_MODEL_4dee23e18dbb4234b3b6fc3d2a5c2359"
          }
        },
        "b668e4e45c6844a5bdb7095a6fcc0d78": {
          "model_module": "@jupyter-widgets/controls",
          "model_name": "ProgressStyleModel",
          "state": {
            "_view_name": "StyleView",
            "_model_name": "ProgressStyleModel",
            "description_width": "initial",
            "_view_module": "@jupyter-widgets/base",
            "_model_module_version": "1.5.0",
            "_view_count": null,
            "_view_module_version": "1.2.0",
            "bar_color": null,
            "_model_module": "@jupyter-widgets/controls"
          }
        },
        "8561de0260ca43f089a707facd52b50b": {
          "model_module": "@jupyter-widgets/base",
          "model_name": "LayoutModel",
          "state": {
            "_view_name": "LayoutView",
            "grid_template_rows": null,
            "right": null,
            "justify_content": null,
            "_view_module": "@jupyter-widgets/base",
            "overflow": null,
            "_model_module_version": "1.2.0",
            "_view_count": null,
            "flex_flow": null,
            "width": null,
            "min_width": null,
            "border": null,
            "align_items": null,
            "bottom": null,
            "_model_module": "@jupyter-widgets/base",
            "top": null,
            "grid_column": null,
            "overflow_y": null,
            "overflow_x": null,
            "grid_auto_flow": null,
            "grid_area": null,
            "grid_template_columns": null,
            "flex": null,
            "_model_name": "LayoutModel",
            "justify_items": null,
            "grid_row": null,
            "max_height": null,
            "align_content": null,
            "visibility": null,
            "align_self": null,
            "height": null,
            "min_height": null,
            "padding": null,
            "grid_auto_rows": null,
            "grid_gap": null,
            "max_width": null,
            "order": null,
            "_view_module_version": "1.2.0",
            "grid_template_areas": null,
            "object_position": null,
            "object_fit": null,
            "grid_auto_columns": null,
            "margin": null,
            "display": null,
            "left": null
          }
        },
        "2c048b76fbcd4e9592dfefa0486cdd41": {
          "model_module": "@jupyter-widgets/controls",
          "model_name": "DescriptionStyleModel",
          "state": {
            "_view_name": "StyleView",
            "_model_name": "DescriptionStyleModel",
            "description_width": "",
            "_view_module": "@jupyter-widgets/base",
            "_model_module_version": "1.5.0",
            "_view_count": null,
            "_view_module_version": "1.2.0",
            "_model_module": "@jupyter-widgets/controls"
          }
        },
        "4dee23e18dbb4234b3b6fc3d2a5c2359": {
          "model_module": "@jupyter-widgets/base",
          "model_name": "LayoutModel",
          "state": {
            "_view_name": "LayoutView",
            "grid_template_rows": null,
            "right": null,
            "justify_content": null,
            "_view_module": "@jupyter-widgets/base",
            "overflow": null,
            "_model_module_version": "1.2.0",
            "_view_count": null,
            "flex_flow": null,
            "width": null,
            "min_width": null,
            "border": null,
            "align_items": null,
            "bottom": null,
            "_model_module": "@jupyter-widgets/base",
            "top": null,
            "grid_column": null,
            "overflow_y": null,
            "overflow_x": null,
            "grid_auto_flow": null,
            "grid_area": null,
            "grid_template_columns": null,
            "flex": null,
            "_model_name": "LayoutModel",
            "justify_items": null,
            "grid_row": null,
            "max_height": null,
            "align_content": null,
            "visibility": null,
            "align_self": null,
            "height": null,
            "min_height": null,
            "padding": null,
            "grid_auto_rows": null,
            "grid_gap": null,
            "max_width": null,
            "order": null,
            "_view_module_version": "1.2.0",
            "grid_template_areas": null,
            "object_position": null,
            "object_fit": null,
            "grid_auto_columns": null,
            "margin": null,
            "display": null,
            "left": null
          }
        },
        "d1e71b41c8254b1b8e2af65a33d8dedc": {
          "model_module": "@jupyter-widgets/controls",
          "model_name": "HBoxModel",
          "state": {
            "_view_name": "HBoxView",
            "_dom_classes": [],
            "_model_name": "HBoxModel",
            "_view_module": "@jupyter-widgets/controls",
            "_model_module_version": "1.5.0",
            "_view_count": null,
            "_view_module_version": "1.5.0",
            "box_style": "",
            "layout": "IPY_MODEL_10fe58dc495e4b77b3b66d75e7db6f20",
            "_model_module": "@jupyter-widgets/controls",
            "children": [
              "IPY_MODEL_9be7b03e81cb438f8e253d7b85308010",
              "IPY_MODEL_934debd562c341fd8b858328237268c5"
            ]
          }
        },
        "10fe58dc495e4b77b3b66d75e7db6f20": {
          "model_module": "@jupyter-widgets/base",
          "model_name": "LayoutModel",
          "state": {
            "_view_name": "LayoutView",
            "grid_template_rows": null,
            "right": null,
            "justify_content": null,
            "_view_module": "@jupyter-widgets/base",
            "overflow": null,
            "_model_module_version": "1.2.0",
            "_view_count": null,
            "flex_flow": null,
            "width": null,
            "min_width": null,
            "border": null,
            "align_items": null,
            "bottom": null,
            "_model_module": "@jupyter-widgets/base",
            "top": null,
            "grid_column": null,
            "overflow_y": null,
            "overflow_x": null,
            "grid_auto_flow": null,
            "grid_area": null,
            "grid_template_columns": null,
            "flex": null,
            "_model_name": "LayoutModel",
            "justify_items": null,
            "grid_row": null,
            "max_height": null,
            "align_content": null,
            "visibility": null,
            "align_self": null,
            "height": null,
            "min_height": null,
            "padding": null,
            "grid_auto_rows": null,
            "grid_gap": null,
            "max_width": null,
            "order": null,
            "_view_module_version": "1.2.0",
            "grid_template_areas": null,
            "object_position": null,
            "object_fit": null,
            "grid_auto_columns": null,
            "margin": null,
            "display": null,
            "left": null
          }
        },
        "9be7b03e81cb438f8e253d7b85308010": {
          "model_module": "@jupyter-widgets/controls",
          "model_name": "FloatProgressModel",
          "state": {
            "_view_name": "ProgressView",
            "style": "IPY_MODEL_b24983465df846be8e18b9d3359b2ffc",
            "_dom_classes": [],
            "description": "Downloading: 100%",
            "_model_name": "FloatProgressModel",
            "bar_style": "success",
            "max": 1092,
            "_view_module": "@jupyter-widgets/controls",
            "_model_module_version": "1.5.0",
            "value": 1092,
            "_view_count": null,
            "_view_module_version": "1.5.0",
            "orientation": "horizontal",
            "min": 0,
            "description_tooltip": null,
            "_model_module": "@jupyter-widgets/controls",
            "layout": "IPY_MODEL_fa95c2a4f2df49b6ac145184dfdbc009"
          }
        },
        "934debd562c341fd8b858328237268c5": {
          "model_module": "@jupyter-widgets/controls",
          "model_name": "HTMLModel",
          "state": {
            "_view_name": "HTMLView",
            "style": "IPY_MODEL_930642cb97ef47d29d41e34df29049cf",
            "_dom_classes": [],
            "description": "",
            "_model_name": "HTMLModel",
            "placeholder": "​",
            "_view_module": "@jupyter-widgets/controls",
            "_model_module_version": "1.5.0",
            "value": " 1.09k/1.09k [00:00&lt;00:00, 10.8kB/s]",
            "_view_count": null,
            "_view_module_version": "1.5.0",
            "description_tooltip": null,
            "_model_module": "@jupyter-widgets/controls",
            "layout": "IPY_MODEL_5b26982ca27542ee9aae93519b0fb9e2"
          }
        },
        "b24983465df846be8e18b9d3359b2ffc": {
          "model_module": "@jupyter-widgets/controls",
          "model_name": "ProgressStyleModel",
          "state": {
            "_view_name": "StyleView",
            "_model_name": "ProgressStyleModel",
            "description_width": "initial",
            "_view_module": "@jupyter-widgets/base",
            "_model_module_version": "1.5.0",
            "_view_count": null,
            "_view_module_version": "1.2.0",
            "bar_color": null,
            "_model_module": "@jupyter-widgets/controls"
          }
        },
        "fa95c2a4f2df49b6ac145184dfdbc009": {
          "model_module": "@jupyter-widgets/base",
          "model_name": "LayoutModel",
          "state": {
            "_view_name": "LayoutView",
            "grid_template_rows": null,
            "right": null,
            "justify_content": null,
            "_view_module": "@jupyter-widgets/base",
            "overflow": null,
            "_model_module_version": "1.2.0",
            "_view_count": null,
            "flex_flow": null,
            "width": null,
            "min_width": null,
            "border": null,
            "align_items": null,
            "bottom": null,
            "_model_module": "@jupyter-widgets/base",
            "top": null,
            "grid_column": null,
            "overflow_y": null,
            "overflow_x": null,
            "grid_auto_flow": null,
            "grid_area": null,
            "grid_template_columns": null,
            "flex": null,
            "_model_name": "LayoutModel",
            "justify_items": null,
            "grid_row": null,
            "max_height": null,
            "align_content": null,
            "visibility": null,
            "align_self": null,
            "height": null,
            "min_height": null,
            "padding": null,
            "grid_auto_rows": null,
            "grid_gap": null,
            "max_width": null,
            "order": null,
            "_view_module_version": "1.2.0",
            "grid_template_areas": null,
            "object_position": null,
            "object_fit": null,
            "grid_auto_columns": null,
            "margin": null,
            "display": null,
            "left": null
          }
        },
        "930642cb97ef47d29d41e34df29049cf": {
          "model_module": "@jupyter-widgets/controls",
          "model_name": "DescriptionStyleModel",
          "state": {
            "_view_name": "StyleView",
            "_model_name": "DescriptionStyleModel",
            "description_width": "",
            "_view_module": "@jupyter-widgets/base",
            "_model_module_version": "1.5.0",
            "_view_count": null,
            "_view_module_version": "1.2.0",
            "_model_module": "@jupyter-widgets/controls"
          }
        },
        "5b26982ca27542ee9aae93519b0fb9e2": {
          "model_module": "@jupyter-widgets/base",
          "model_name": "LayoutModel",
          "state": {
            "_view_name": "LayoutView",
            "grid_template_rows": null,
            "right": null,
            "justify_content": null,
            "_view_module": "@jupyter-widgets/base",
            "overflow": null,
            "_model_module_version": "1.2.0",
            "_view_count": null,
            "flex_flow": null,
            "width": null,
            "min_width": null,
            "border": null,
            "align_items": null,
            "bottom": null,
            "_model_module": "@jupyter-widgets/base",
            "top": null,
            "grid_column": null,
            "overflow_y": null,
            "overflow_x": null,
            "grid_auto_flow": null,
            "grid_area": null,
            "grid_template_columns": null,
            "flex": null,
            "_model_name": "LayoutModel",
            "justify_items": null,
            "grid_row": null,
            "max_height": null,
            "align_content": null,
            "visibility": null,
            "align_self": null,
            "height": null,
            "min_height": null,
            "padding": null,
            "grid_auto_rows": null,
            "grid_gap": null,
            "max_width": null,
            "order": null,
            "_view_module_version": "1.2.0",
            "grid_template_areas": null,
            "object_position": null,
            "object_fit": null,
            "grid_auto_columns": null,
            "margin": null,
            "display": null,
            "left": null
          }
        },
        "3e7c317564c64e908892ab65295bf443": {
          "model_module": "@jupyter-widgets/controls",
          "model_name": "HBoxModel",
          "state": {
            "_view_name": "HBoxView",
            "_dom_classes": [],
            "_model_name": "HBoxModel",
            "_view_module": "@jupyter-widgets/controls",
            "_model_module_version": "1.5.0",
            "_view_count": null,
            "_view_module_version": "1.5.0",
            "box_style": "",
            "layout": "IPY_MODEL_28df18efbd6b4fef80690fe48d686e0a",
            "_model_module": "@jupyter-widgets/controls",
            "children": [
              "IPY_MODEL_9002b074aeec4d04bb661cdb0d3b6bba",
              "IPY_MODEL_f763640cd0f94487a95f1d55cf0af364"
            ]
          }
        },
        "28df18efbd6b4fef80690fe48d686e0a": {
          "model_module": "@jupyter-widgets/base",
          "model_name": "LayoutModel",
          "state": {
            "_view_name": "LayoutView",
            "grid_template_rows": null,
            "right": null,
            "justify_content": null,
            "_view_module": "@jupyter-widgets/base",
            "overflow": null,
            "_model_module_version": "1.2.0",
            "_view_count": null,
            "flex_flow": null,
            "width": null,
            "min_width": null,
            "border": null,
            "align_items": null,
            "bottom": null,
            "_model_module": "@jupyter-widgets/base",
            "top": null,
            "grid_column": null,
            "overflow_y": null,
            "overflow_x": null,
            "grid_auto_flow": null,
            "grid_area": null,
            "grid_template_columns": null,
            "flex": null,
            "_model_name": "LayoutModel",
            "justify_items": null,
            "grid_row": null,
            "max_height": null,
            "align_content": null,
            "visibility": null,
            "align_self": null,
            "height": null,
            "min_height": null,
            "padding": null,
            "grid_auto_rows": null,
            "grid_gap": null,
            "max_width": null,
            "order": null,
            "_view_module_version": "1.2.0",
            "grid_template_areas": null,
            "object_position": null,
            "object_fit": null,
            "grid_auto_columns": null,
            "margin": null,
            "display": null,
            "left": null
          }
        },
        "9002b074aeec4d04bb661cdb0d3b6bba": {
          "model_module": "@jupyter-widgets/controls",
          "model_name": "FloatProgressModel",
          "state": {
            "_view_name": "ProgressView",
            "style": "IPY_MODEL_e588cdb6c4d74461ad54b7d88f38eafd",
            "_dom_classes": [],
            "description": "Downloading: 100%",
            "_model_name": "FloatProgressModel",
            "bar_style": "success",
            "max": 898822,
            "_view_module": "@jupyter-widgets/controls",
            "_model_module_version": "1.5.0",
            "value": 898822,
            "_view_count": null,
            "_view_module_version": "1.5.0",
            "orientation": "horizontal",
            "min": 0,
            "description_tooltip": null,
            "_model_module": "@jupyter-widgets/controls",
            "layout": "IPY_MODEL_0639adb83b5a43a3b090603c9d62c92b"
          }
        },
        "f763640cd0f94487a95f1d55cf0af364": {
          "model_module": "@jupyter-widgets/controls",
          "model_name": "HTMLModel",
          "state": {
            "_view_name": "HTMLView",
            "style": "IPY_MODEL_6d9e520a44e84dc3844dc545f1cc4d54",
            "_dom_classes": [],
            "description": "",
            "_model_name": "HTMLModel",
            "placeholder": "​",
            "_view_module": "@jupyter-widgets/controls",
            "_model_module_version": "1.5.0",
            "value": " 899k/899k [00:00&lt;00:00, 3.40MB/s]",
            "_view_count": null,
            "_view_module_version": "1.5.0",
            "description_tooltip": null,
            "_model_module": "@jupyter-widgets/controls",
            "layout": "IPY_MODEL_87a8bfa0ac774db2a5804b1a3c885cd9"
          }
        },
        "e588cdb6c4d74461ad54b7d88f38eafd": {
          "model_module": "@jupyter-widgets/controls",
          "model_name": "ProgressStyleModel",
          "state": {
            "_view_name": "StyleView",
            "_model_name": "ProgressStyleModel",
            "description_width": "initial",
            "_view_module": "@jupyter-widgets/base",
            "_model_module_version": "1.5.0",
            "_view_count": null,
            "_view_module_version": "1.2.0",
            "bar_color": null,
            "_model_module": "@jupyter-widgets/controls"
          }
        },
        "0639adb83b5a43a3b090603c9d62c92b": {
          "model_module": "@jupyter-widgets/base",
          "model_name": "LayoutModel",
          "state": {
            "_view_name": "LayoutView",
            "grid_template_rows": null,
            "right": null,
            "justify_content": null,
            "_view_module": "@jupyter-widgets/base",
            "overflow": null,
            "_model_module_version": "1.2.0",
            "_view_count": null,
            "flex_flow": null,
            "width": null,
            "min_width": null,
            "border": null,
            "align_items": null,
            "bottom": null,
            "_model_module": "@jupyter-widgets/base",
            "top": null,
            "grid_column": null,
            "overflow_y": null,
            "overflow_x": null,
            "grid_auto_flow": null,
            "grid_area": null,
            "grid_template_columns": null,
            "flex": null,
            "_model_name": "LayoutModel",
            "justify_items": null,
            "grid_row": null,
            "max_height": null,
            "align_content": null,
            "visibility": null,
            "align_self": null,
            "height": null,
            "min_height": null,
            "padding": null,
            "grid_auto_rows": null,
            "grid_gap": null,
            "max_width": null,
            "order": null,
            "_view_module_version": "1.2.0",
            "grid_template_areas": null,
            "object_position": null,
            "object_fit": null,
            "grid_auto_columns": null,
            "margin": null,
            "display": null,
            "left": null
          }
        },
        "6d9e520a44e84dc3844dc545f1cc4d54": {
          "model_module": "@jupyter-widgets/controls",
          "model_name": "DescriptionStyleModel",
          "state": {
            "_view_name": "StyleView",
            "_model_name": "DescriptionStyleModel",
            "description_width": "",
            "_view_module": "@jupyter-widgets/base",
            "_model_module_version": "1.5.0",
            "_view_count": null,
            "_view_module_version": "1.2.0",
            "_model_module": "@jupyter-widgets/controls"
          }
        },
        "87a8bfa0ac774db2a5804b1a3c885cd9": {
          "model_module": "@jupyter-widgets/base",
          "model_name": "LayoutModel",
          "state": {
            "_view_name": "LayoutView",
            "grid_template_rows": null,
            "right": null,
            "justify_content": null,
            "_view_module": "@jupyter-widgets/base",
            "overflow": null,
            "_model_module_version": "1.2.0",
            "_view_count": null,
            "flex_flow": null,
            "width": null,
            "min_width": null,
            "border": null,
            "align_items": null,
            "bottom": null,
            "_model_module": "@jupyter-widgets/base",
            "top": null,
            "grid_column": null,
            "overflow_y": null,
            "overflow_x": null,
            "grid_auto_flow": null,
            "grid_area": null,
            "grid_template_columns": null,
            "flex": null,
            "_model_name": "LayoutModel",
            "justify_items": null,
            "grid_row": null,
            "max_height": null,
            "align_content": null,
            "visibility": null,
            "align_self": null,
            "height": null,
            "min_height": null,
            "padding": null,
            "grid_auto_rows": null,
            "grid_gap": null,
            "max_width": null,
            "order": null,
            "_view_module_version": "1.2.0",
            "grid_template_areas": null,
            "object_position": null,
            "object_fit": null,
            "grid_auto_columns": null,
            "margin": null,
            "display": null,
            "left": null
          }
        },
        "aa238de5a91f45d99857c44e8bf2fd0f": {
          "model_module": "@jupyter-widgets/controls",
          "model_name": "HBoxModel",
          "state": {
            "_view_name": "HBoxView",
            "_dom_classes": [],
            "_model_name": "HBoxModel",
            "_view_module": "@jupyter-widgets/controls",
            "_model_module_version": "1.5.0",
            "_view_count": null,
            "_view_module_version": "1.5.0",
            "box_style": "",
            "layout": "IPY_MODEL_0f62fdffbb94405eac5e784a27f48b83",
            "_model_module": "@jupyter-widgets/controls",
            "children": [
              "IPY_MODEL_669a7d47e55f46a3b2a4a69067c74928",
              "IPY_MODEL_78addbc6f10444e19a042c9670abbba3"
            ]
          }
        },
        "0f62fdffbb94405eac5e784a27f48b83": {
          "model_module": "@jupyter-widgets/base",
          "model_name": "LayoutModel",
          "state": {
            "_view_name": "LayoutView",
            "grid_template_rows": null,
            "right": null,
            "justify_content": null,
            "_view_module": "@jupyter-widgets/base",
            "overflow": null,
            "_model_module_version": "1.2.0",
            "_view_count": null,
            "flex_flow": null,
            "width": null,
            "min_width": null,
            "border": null,
            "align_items": null,
            "bottom": null,
            "_model_module": "@jupyter-widgets/base",
            "top": null,
            "grid_column": null,
            "overflow_y": null,
            "overflow_x": null,
            "grid_auto_flow": null,
            "grid_area": null,
            "grid_template_columns": null,
            "flex": null,
            "_model_name": "LayoutModel",
            "justify_items": null,
            "grid_row": null,
            "max_height": null,
            "align_content": null,
            "visibility": null,
            "align_self": null,
            "height": null,
            "min_height": null,
            "padding": null,
            "grid_auto_rows": null,
            "grid_gap": null,
            "max_width": null,
            "order": null,
            "_view_module_version": "1.2.0",
            "grid_template_areas": null,
            "object_position": null,
            "object_fit": null,
            "grid_auto_columns": null,
            "margin": null,
            "display": null,
            "left": null
          }
        },
        "669a7d47e55f46a3b2a4a69067c74928": {
          "model_module": "@jupyter-widgets/controls",
          "model_name": "FloatProgressModel",
          "state": {
            "_view_name": "ProgressView",
            "style": "IPY_MODEL_5713bd4d02d741d7b423e2ea71bee11b",
            "_dom_classes": [],
            "description": "Downloading: 100%",
            "_model_name": "FloatProgressModel",
            "bar_style": "success",
            "max": 456318,
            "_view_module": "@jupyter-widgets/controls",
            "_model_module_version": "1.5.0",
            "value": 456318,
            "_view_count": null,
            "_view_module_version": "1.5.0",
            "orientation": "horizontal",
            "min": 0,
            "description_tooltip": null,
            "_model_module": "@jupyter-widgets/controls",
            "layout": "IPY_MODEL_d0c36c27b7b440d9bc8219f98030de5c"
          }
        },
        "78addbc6f10444e19a042c9670abbba3": {
          "model_module": "@jupyter-widgets/controls",
          "model_name": "HTMLModel",
          "state": {
            "_view_name": "HTMLView",
            "style": "IPY_MODEL_b5cb253c76a749b18a633f25066e8806",
            "_dom_classes": [],
            "description": "",
            "_model_name": "HTMLModel",
            "placeholder": "​",
            "_view_module": "@jupyter-widgets/controls",
            "_model_module_version": "1.5.0",
            "value": " 456k/456k [00:00&lt;00:00, 3.32MB/s]",
            "_view_count": null,
            "_view_module_version": "1.5.0",
            "description_tooltip": null,
            "_model_module": "@jupyter-widgets/controls",
            "layout": "IPY_MODEL_746987f3200a47c7931eae2e6fce3b0e"
          }
        },
        "5713bd4d02d741d7b423e2ea71bee11b": {
          "model_module": "@jupyter-widgets/controls",
          "model_name": "ProgressStyleModel",
          "state": {
            "_view_name": "StyleView",
            "_model_name": "ProgressStyleModel",
            "description_width": "initial",
            "_view_module": "@jupyter-widgets/base",
            "_model_module_version": "1.5.0",
            "_view_count": null,
            "_view_module_version": "1.2.0",
            "bar_color": null,
            "_model_module": "@jupyter-widgets/controls"
          }
        },
        "d0c36c27b7b440d9bc8219f98030de5c": {
          "model_module": "@jupyter-widgets/base",
          "model_name": "LayoutModel",
          "state": {
            "_view_name": "LayoutView",
            "grid_template_rows": null,
            "right": null,
            "justify_content": null,
            "_view_module": "@jupyter-widgets/base",
            "overflow": null,
            "_model_module_version": "1.2.0",
            "_view_count": null,
            "flex_flow": null,
            "width": null,
            "min_width": null,
            "border": null,
            "align_items": null,
            "bottom": null,
            "_model_module": "@jupyter-widgets/base",
            "top": null,
            "grid_column": null,
            "overflow_y": null,
            "overflow_x": null,
            "grid_auto_flow": null,
            "grid_area": null,
            "grid_template_columns": null,
            "flex": null,
            "_model_name": "LayoutModel",
            "justify_items": null,
            "grid_row": null,
            "max_height": null,
            "align_content": null,
            "visibility": null,
            "align_self": null,
            "height": null,
            "min_height": null,
            "padding": null,
            "grid_auto_rows": null,
            "grid_gap": null,
            "max_width": null,
            "order": null,
            "_view_module_version": "1.2.0",
            "grid_template_areas": null,
            "object_position": null,
            "object_fit": null,
            "grid_auto_columns": null,
            "margin": null,
            "display": null,
            "left": null
          }
        },
        "b5cb253c76a749b18a633f25066e8806": {
          "model_module": "@jupyter-widgets/controls",
          "model_name": "DescriptionStyleModel",
          "state": {
            "_view_name": "StyleView",
            "_model_name": "DescriptionStyleModel",
            "description_width": "",
            "_view_module": "@jupyter-widgets/base",
            "_model_module_version": "1.5.0",
            "_view_count": null,
            "_view_module_version": "1.2.0",
            "_model_module": "@jupyter-widgets/controls"
          }
        },
        "746987f3200a47c7931eae2e6fce3b0e": {
          "model_module": "@jupyter-widgets/base",
          "model_name": "LayoutModel",
          "state": {
            "_view_name": "LayoutView",
            "grid_template_rows": null,
            "right": null,
            "justify_content": null,
            "_view_module": "@jupyter-widgets/base",
            "overflow": null,
            "_model_module_version": "1.2.0",
            "_view_count": null,
            "flex_flow": null,
            "width": null,
            "min_width": null,
            "border": null,
            "align_items": null,
            "bottom": null,
            "_model_module": "@jupyter-widgets/base",
            "top": null,
            "grid_column": null,
            "overflow_y": null,
            "overflow_x": null,
            "grid_auto_flow": null,
            "grid_area": null,
            "grid_template_columns": null,
            "flex": null,
            "_model_name": "LayoutModel",
            "justify_items": null,
            "grid_row": null,
            "max_height": null,
            "align_content": null,
            "visibility": null,
            "align_self": null,
            "height": null,
            "min_height": null,
            "padding": null,
            "grid_auto_rows": null,
            "grid_gap": null,
            "max_width": null,
            "order": null,
            "_view_module_version": "1.2.0",
            "grid_template_areas": null,
            "object_position": null,
            "object_fit": null,
            "grid_auto_columns": null,
            "margin": null,
            "display": null,
            "left": null
          }
        },
        "727411f577424c4eac5f04705cdc7554": {
          "model_module": "@jupyter-widgets/controls",
          "model_name": "HBoxModel",
          "state": {
            "_view_name": "HBoxView",
            "_dom_classes": [],
            "_model_name": "HBoxModel",
            "_view_module": "@jupyter-widgets/controls",
            "_model_module_version": "1.5.0",
            "_view_count": null,
            "_view_module_version": "1.5.0",
            "box_style": "",
            "layout": "IPY_MODEL_af4154195a3d4b3fa6a38afc19babf8e",
            "_model_module": "@jupyter-widgets/controls",
            "children": [
              "IPY_MODEL_ea661ab8099d4ecbb907953dab0b202d",
              "IPY_MODEL_5dac85d28f274898b55fa913627ef8dc"
            ]
          }
        },
        "af4154195a3d4b3fa6a38afc19babf8e": {
          "model_module": "@jupyter-widgets/base",
          "model_name": "LayoutModel",
          "state": {
            "_view_name": "LayoutView",
            "grid_template_rows": null,
            "right": null,
            "justify_content": null,
            "_view_module": "@jupyter-widgets/base",
            "overflow": null,
            "_model_module_version": "1.2.0",
            "_view_count": null,
            "flex_flow": null,
            "width": null,
            "min_width": null,
            "border": null,
            "align_items": null,
            "bottom": null,
            "_model_module": "@jupyter-widgets/base",
            "top": null,
            "grid_column": null,
            "overflow_y": null,
            "overflow_x": null,
            "grid_auto_flow": null,
            "grid_area": null,
            "grid_template_columns": null,
            "flex": null,
            "_model_name": "LayoutModel",
            "justify_items": null,
            "grid_row": null,
            "max_height": null,
            "align_content": null,
            "visibility": null,
            "align_self": null,
            "height": null,
            "min_height": null,
            "padding": null,
            "grid_auto_rows": null,
            "grid_gap": null,
            "max_width": null,
            "order": null,
            "_view_module_version": "1.2.0",
            "grid_template_areas": null,
            "object_position": null,
            "object_fit": null,
            "grid_auto_columns": null,
            "margin": null,
            "display": null,
            "left": null
          }
        },
        "ea661ab8099d4ecbb907953dab0b202d": {
          "model_module": "@jupyter-widgets/controls",
          "model_name": "FloatProgressModel",
          "state": {
            "_view_name": "ProgressView",
            "style": "IPY_MODEL_809a74b4eda74a1a96b055b45728c35e",
            "_dom_classes": [],
            "description": "100%",
            "_model_name": "FloatProgressModel",
            "bar_style": "success",
            "max": 125,
            "_view_module": "@jupyter-widgets/controls",
            "_model_module_version": "1.5.0",
            "value": 125,
            "_view_count": null,
            "_view_module_version": "1.5.0",
            "orientation": "horizontal",
            "min": 0,
            "description_tooltip": null,
            "_model_module": "@jupyter-widgets/controls",
            "layout": "IPY_MODEL_71208d33b8e74484947247ba59335c07"
          }
        },
        "5dac85d28f274898b55fa913627ef8dc": {
          "model_module": "@jupyter-widgets/controls",
          "model_name": "HTMLModel",
          "state": {
            "_view_name": "HTMLView",
            "style": "IPY_MODEL_5aeb94bbf10944d6b441b660edb58b2a",
            "_dom_classes": [],
            "description": "",
            "_model_name": "HTMLModel",
            "placeholder": "​",
            "_view_module": "@jupyter-widgets/controls",
            "_model_module_version": "1.5.0",
            "value": " 125/125 [01:14&lt;00:00,  1.69ba/s]",
            "_view_count": null,
            "_view_module_version": "1.5.0",
            "description_tooltip": null,
            "_model_module": "@jupyter-widgets/controls",
            "layout": "IPY_MODEL_1831d05ab88247c99e270f551ad7f57a"
          }
        },
        "809a74b4eda74a1a96b055b45728c35e": {
          "model_module": "@jupyter-widgets/controls",
          "model_name": "ProgressStyleModel",
          "state": {
            "_view_name": "StyleView",
            "_model_name": "ProgressStyleModel",
            "description_width": "initial",
            "_view_module": "@jupyter-widgets/base",
            "_model_module_version": "1.5.0",
            "_view_count": null,
            "_view_module_version": "1.2.0",
            "bar_color": null,
            "_model_module": "@jupyter-widgets/controls"
          }
        },
        "71208d33b8e74484947247ba59335c07": {
          "model_module": "@jupyter-widgets/base",
          "model_name": "LayoutModel",
          "state": {
            "_view_name": "LayoutView",
            "grid_template_rows": null,
            "right": null,
            "justify_content": null,
            "_view_module": "@jupyter-widgets/base",
            "overflow": null,
            "_model_module_version": "1.2.0",
            "_view_count": null,
            "flex_flow": null,
            "width": null,
            "min_width": null,
            "border": null,
            "align_items": null,
            "bottom": null,
            "_model_module": "@jupyter-widgets/base",
            "top": null,
            "grid_column": null,
            "overflow_y": null,
            "overflow_x": null,
            "grid_auto_flow": null,
            "grid_area": null,
            "grid_template_columns": null,
            "flex": null,
            "_model_name": "LayoutModel",
            "justify_items": null,
            "grid_row": null,
            "max_height": null,
            "align_content": null,
            "visibility": null,
            "align_self": null,
            "height": null,
            "min_height": null,
            "padding": null,
            "grid_auto_rows": null,
            "grid_gap": null,
            "max_width": null,
            "order": null,
            "_view_module_version": "1.2.0",
            "grid_template_areas": null,
            "object_position": null,
            "object_fit": null,
            "grid_auto_columns": null,
            "margin": null,
            "display": null,
            "left": null
          }
        },
        "5aeb94bbf10944d6b441b660edb58b2a": {
          "model_module": "@jupyter-widgets/controls",
          "model_name": "DescriptionStyleModel",
          "state": {
            "_view_name": "StyleView",
            "_model_name": "DescriptionStyleModel",
            "description_width": "",
            "_view_module": "@jupyter-widgets/base",
            "_model_module_version": "1.5.0",
            "_view_count": null,
            "_view_module_version": "1.2.0",
            "_model_module": "@jupyter-widgets/controls"
          }
        },
        "1831d05ab88247c99e270f551ad7f57a": {
          "model_module": "@jupyter-widgets/base",
          "model_name": "LayoutModel",
          "state": {
            "_view_name": "LayoutView",
            "grid_template_rows": null,
            "right": null,
            "justify_content": null,
            "_view_module": "@jupyter-widgets/base",
            "overflow": null,
            "_model_module_version": "1.2.0",
            "_view_count": null,
            "flex_flow": null,
            "width": null,
            "min_width": null,
            "border": null,
            "align_items": null,
            "bottom": null,
            "_model_module": "@jupyter-widgets/base",
            "top": null,
            "grid_column": null,
            "overflow_y": null,
            "overflow_x": null,
            "grid_auto_flow": null,
            "grid_area": null,
            "grid_template_columns": null,
            "flex": null,
            "_model_name": "LayoutModel",
            "justify_items": null,
            "grid_row": null,
            "max_height": null,
            "align_content": null,
            "visibility": null,
            "align_self": null,
            "height": null,
            "min_height": null,
            "padding": null,
            "grid_auto_rows": null,
            "grid_gap": null,
            "max_width": null,
            "order": null,
            "_view_module_version": "1.2.0",
            "grid_template_areas": null,
            "object_position": null,
            "object_fit": null,
            "grid_auto_columns": null,
            "margin": null,
            "display": null,
            "left": null
          }
        },
        "643e9f6ff5fc46c3887a6e5712725849": {
          "model_module": "@jupyter-widgets/controls",
          "model_name": "HBoxModel",
          "state": {
            "_view_name": "HBoxView",
            "_dom_classes": [],
            "_model_name": "HBoxModel",
            "_view_module": "@jupyter-widgets/controls",
            "_model_module_version": "1.5.0",
            "_view_count": null,
            "_view_module_version": "1.5.0",
            "box_style": "",
            "layout": "IPY_MODEL_31dca21f3a6c4d2e8120b3f5be840942",
            "_model_module": "@jupyter-widgets/controls",
            "children": [
              "IPY_MODEL_1826befdf53345d2b06e07eabe3ae22b",
              "IPY_MODEL_4b9872ac2e7841d5b7f168b19f0cf334"
            ]
          }
        },
        "31dca21f3a6c4d2e8120b3f5be840942": {
          "model_module": "@jupyter-widgets/base",
          "model_name": "LayoutModel",
          "state": {
            "_view_name": "LayoutView",
            "grid_template_rows": null,
            "right": null,
            "justify_content": null,
            "_view_module": "@jupyter-widgets/base",
            "overflow": null,
            "_model_module_version": "1.2.0",
            "_view_count": null,
            "flex_flow": null,
            "width": null,
            "min_width": null,
            "border": null,
            "align_items": null,
            "bottom": null,
            "_model_module": "@jupyter-widgets/base",
            "top": null,
            "grid_column": null,
            "overflow_y": null,
            "overflow_x": null,
            "grid_auto_flow": null,
            "grid_area": null,
            "grid_template_columns": null,
            "flex": null,
            "_model_name": "LayoutModel",
            "justify_items": null,
            "grid_row": null,
            "max_height": null,
            "align_content": null,
            "visibility": null,
            "align_self": null,
            "height": null,
            "min_height": null,
            "padding": null,
            "grid_auto_rows": null,
            "grid_gap": null,
            "max_width": null,
            "order": null,
            "_view_module_version": "1.2.0",
            "grid_template_areas": null,
            "object_position": null,
            "object_fit": null,
            "grid_auto_columns": null,
            "margin": null,
            "display": null,
            "left": null
          }
        },
        "1826befdf53345d2b06e07eabe3ae22b": {
          "model_module": "@jupyter-widgets/controls",
          "model_name": "FloatProgressModel",
          "state": {
            "_view_name": "ProgressView",
            "style": "IPY_MODEL_44c7586413754a23bf1f95dfb68f6e9e",
            "_dom_classes": [],
            "description": "100%",
            "_model_name": "FloatProgressModel",
            "bar_style": "success",
            "max": 13,
            "_view_module": "@jupyter-widgets/controls",
            "_model_module_version": "1.5.0",
            "value": 13,
            "_view_count": null,
            "_view_module_version": "1.5.0",
            "orientation": "horizontal",
            "min": 0,
            "description_tooltip": null,
            "_model_module": "@jupyter-widgets/controls",
            "layout": "IPY_MODEL_75dc7d0420d44c34ac32bb31acc9b3cc"
          }
        },
        "4b9872ac2e7841d5b7f168b19f0cf334": {
          "model_module": "@jupyter-widgets/controls",
          "model_name": "HTMLModel",
          "state": {
            "_view_name": "HTMLView",
            "style": "IPY_MODEL_8c2b41f3857a441e9849348394460a41",
            "_dom_classes": [],
            "description": "",
            "_model_name": "HTMLModel",
            "placeholder": "​",
            "_view_module": "@jupyter-widgets/controls",
            "_model_module_version": "1.5.0",
            "value": " 13/13 [00:40&lt;00:00,  3.10s/ba]",
            "_view_count": null,
            "_view_module_version": "1.5.0",
            "description_tooltip": null,
            "_model_module": "@jupyter-widgets/controls",
            "layout": "IPY_MODEL_03bcc045ff204708b958e9087a456f2d"
          }
        },
        "44c7586413754a23bf1f95dfb68f6e9e": {
          "model_module": "@jupyter-widgets/controls",
          "model_name": "ProgressStyleModel",
          "state": {
            "_view_name": "StyleView",
            "_model_name": "ProgressStyleModel",
            "description_width": "initial",
            "_view_module": "@jupyter-widgets/base",
            "_model_module_version": "1.5.0",
            "_view_count": null,
            "_view_module_version": "1.2.0",
            "bar_color": null,
            "_model_module": "@jupyter-widgets/controls"
          }
        },
        "75dc7d0420d44c34ac32bb31acc9b3cc": {
          "model_module": "@jupyter-widgets/base",
          "model_name": "LayoutModel",
          "state": {
            "_view_name": "LayoutView",
            "grid_template_rows": null,
            "right": null,
            "justify_content": null,
            "_view_module": "@jupyter-widgets/base",
            "overflow": null,
            "_model_module_version": "1.2.0",
            "_view_count": null,
            "flex_flow": null,
            "width": null,
            "min_width": null,
            "border": null,
            "align_items": null,
            "bottom": null,
            "_model_module": "@jupyter-widgets/base",
            "top": null,
            "grid_column": null,
            "overflow_y": null,
            "overflow_x": null,
            "grid_auto_flow": null,
            "grid_area": null,
            "grid_template_columns": null,
            "flex": null,
            "_model_name": "LayoutModel",
            "justify_items": null,
            "grid_row": null,
            "max_height": null,
            "align_content": null,
            "visibility": null,
            "align_self": null,
            "height": null,
            "min_height": null,
            "padding": null,
            "grid_auto_rows": null,
            "grid_gap": null,
            "max_width": null,
            "order": null,
            "_view_module_version": "1.2.0",
            "grid_template_areas": null,
            "object_position": null,
            "object_fit": null,
            "grid_auto_columns": null,
            "margin": null,
            "display": null,
            "left": null
          }
        },
        "8c2b41f3857a441e9849348394460a41": {
          "model_module": "@jupyter-widgets/controls",
          "model_name": "DescriptionStyleModel",
          "state": {
            "_view_name": "StyleView",
            "_model_name": "DescriptionStyleModel",
            "description_width": "",
            "_view_module": "@jupyter-widgets/base",
            "_model_module_version": "1.5.0",
            "_view_count": null,
            "_view_module_version": "1.2.0",
            "_model_module": "@jupyter-widgets/controls"
          }
        },
        "03bcc045ff204708b958e9087a456f2d": {
          "model_module": "@jupyter-widgets/base",
          "model_name": "LayoutModel",
          "state": {
            "_view_name": "LayoutView",
            "grid_template_rows": null,
            "right": null,
            "justify_content": null,
            "_view_module": "@jupyter-widgets/base",
            "overflow": null,
            "_model_module_version": "1.2.0",
            "_view_count": null,
            "flex_flow": null,
            "width": null,
            "min_width": null,
            "border": null,
            "align_items": null,
            "bottom": null,
            "_model_module": "@jupyter-widgets/base",
            "top": null,
            "grid_column": null,
            "overflow_y": null,
            "overflow_x": null,
            "grid_auto_flow": null,
            "grid_area": null,
            "grid_template_columns": null,
            "flex": null,
            "_model_name": "LayoutModel",
            "justify_items": null,
            "grid_row": null,
            "max_height": null,
            "align_content": null,
            "visibility": null,
            "align_self": null,
            "height": null,
            "min_height": null,
            "padding": null,
            "grid_auto_rows": null,
            "grid_gap": null,
            "max_width": null,
            "order": null,
            "_view_module_version": "1.2.0",
            "grid_template_areas": null,
            "object_position": null,
            "object_fit": null,
            "grid_auto_columns": null,
            "margin": null,
            "display": null,
            "left": null
          }
        },
        "601ae0124c344a9bb349dda1615b0a63": {
          "model_module": "@jupyter-widgets/controls",
          "model_name": "HBoxModel",
          "state": {
            "_view_name": "HBoxView",
            "_dom_classes": [],
            "_model_name": "HBoxModel",
            "_view_module": "@jupyter-widgets/controls",
            "_model_module_version": "1.5.0",
            "_view_count": null,
            "_view_module_version": "1.5.0",
            "box_style": "",
            "layout": "IPY_MODEL_d26272b5f85a4bf8b52c54e4320dca2a",
            "_model_module": "@jupyter-widgets/controls",
            "children": [
              "IPY_MODEL_88c5ec9ba75e43bb88dcc2e490c1f4bd",
              "IPY_MODEL_165ed5bccb2b408c94a21dd4179ce4fd"
            ]
          }
        },
        "d26272b5f85a4bf8b52c54e4320dca2a": {
          "model_module": "@jupyter-widgets/base",
          "model_name": "LayoutModel",
          "state": {
            "_view_name": "LayoutView",
            "grid_template_rows": null,
            "right": null,
            "justify_content": null,
            "_view_module": "@jupyter-widgets/base",
            "overflow": null,
            "_model_module_version": "1.2.0",
            "_view_count": null,
            "flex_flow": null,
            "width": null,
            "min_width": null,
            "border": null,
            "align_items": null,
            "bottom": null,
            "_model_module": "@jupyter-widgets/base",
            "top": null,
            "grid_column": null,
            "overflow_y": null,
            "overflow_x": null,
            "grid_auto_flow": null,
            "grid_area": null,
            "grid_template_columns": null,
            "flex": null,
            "_model_name": "LayoutModel",
            "justify_items": null,
            "grid_row": null,
            "max_height": null,
            "align_content": null,
            "visibility": null,
            "align_self": null,
            "height": null,
            "min_height": null,
            "padding": null,
            "grid_auto_rows": null,
            "grid_gap": null,
            "max_width": null,
            "order": null,
            "_view_module_version": "1.2.0",
            "grid_template_areas": null,
            "object_position": null,
            "object_fit": null,
            "grid_auto_columns": null,
            "margin": null,
            "display": null,
            "left": null
          }
        },
        "88c5ec9ba75e43bb88dcc2e490c1f4bd": {
          "model_module": "@jupyter-widgets/controls",
          "model_name": "FloatProgressModel",
          "state": {
            "_view_name": "ProgressView",
            "style": "IPY_MODEL_ebaee6cc7e4e4f39a168fdc56e1e27c6",
            "_dom_classes": [],
            "description": "Downloading: 100%",
            "_model_name": "FloatProgressModel",
            "bar_style": "success",
            "max": 647693783,
            "_view_module": "@jupyter-widgets/controls",
            "_model_module_version": "1.5.0",
            "value": 647693783,
            "_view_count": null,
            "_view_module_version": "1.5.0",
            "orientation": "horizontal",
            "min": 0,
            "description_tooltip": null,
            "_model_module": "@jupyter-widgets/controls",
            "layout": "IPY_MODEL_9ebdfc261bca44ef94ef6bfc840b79a6"
          }
        },
        "165ed5bccb2b408c94a21dd4179ce4fd": {
          "model_module": "@jupyter-widgets/controls",
          "model_name": "HTMLModel",
          "state": {
            "_view_name": "HTMLView",
            "style": "IPY_MODEL_e4379d7f89624a98b9a20718636d20bf",
            "_dom_classes": [],
            "description": "",
            "_model_name": "HTMLModel",
            "placeholder": "​",
            "_view_module": "@jupyter-widgets/controls",
            "_model_module_version": "1.5.0",
            "value": " 648M/648M [00:12&lt;00:00, 51.9MB/s]",
            "_view_count": null,
            "_view_module_version": "1.5.0",
            "description_tooltip": null,
            "_model_module": "@jupyter-widgets/controls",
            "layout": "IPY_MODEL_50cc9e19a4bf47298fedbc9d18480bf2"
          }
        },
        "ebaee6cc7e4e4f39a168fdc56e1e27c6": {
          "model_module": "@jupyter-widgets/controls",
          "model_name": "ProgressStyleModel",
          "state": {
            "_view_name": "StyleView",
            "_model_name": "ProgressStyleModel",
            "description_width": "initial",
            "_view_module": "@jupyter-widgets/base",
            "_model_module_version": "1.5.0",
            "_view_count": null,
            "_view_module_version": "1.2.0",
            "bar_color": null,
            "_model_module": "@jupyter-widgets/controls"
          }
        },
        "9ebdfc261bca44ef94ef6bfc840b79a6": {
          "model_module": "@jupyter-widgets/base",
          "model_name": "LayoutModel",
          "state": {
            "_view_name": "LayoutView",
            "grid_template_rows": null,
            "right": null,
            "justify_content": null,
            "_view_module": "@jupyter-widgets/base",
            "overflow": null,
            "_model_module_version": "1.2.0",
            "_view_count": null,
            "flex_flow": null,
            "width": null,
            "min_width": null,
            "border": null,
            "align_items": null,
            "bottom": null,
            "_model_module": "@jupyter-widgets/base",
            "top": null,
            "grid_column": null,
            "overflow_y": null,
            "overflow_x": null,
            "grid_auto_flow": null,
            "grid_area": null,
            "grid_template_columns": null,
            "flex": null,
            "_model_name": "LayoutModel",
            "justify_items": null,
            "grid_row": null,
            "max_height": null,
            "align_content": null,
            "visibility": null,
            "align_self": null,
            "height": null,
            "min_height": null,
            "padding": null,
            "grid_auto_rows": null,
            "grid_gap": null,
            "max_width": null,
            "order": null,
            "_view_module_version": "1.2.0",
            "grid_template_areas": null,
            "object_position": null,
            "object_fit": null,
            "grid_auto_columns": null,
            "margin": null,
            "display": null,
            "left": null
          }
        },
        "e4379d7f89624a98b9a20718636d20bf": {
          "model_module": "@jupyter-widgets/controls",
          "model_name": "DescriptionStyleModel",
          "state": {
            "_view_name": "StyleView",
            "_model_name": "DescriptionStyleModel",
            "description_width": "",
            "_view_module": "@jupyter-widgets/base",
            "_model_module_version": "1.5.0",
            "_view_count": null,
            "_view_module_version": "1.2.0",
            "_model_module": "@jupyter-widgets/controls"
          }
        },
        "50cc9e19a4bf47298fedbc9d18480bf2": {
          "model_module": "@jupyter-widgets/base",
          "model_name": "LayoutModel",
          "state": {
            "_view_name": "LayoutView",
            "grid_template_rows": null,
            "right": null,
            "justify_content": null,
            "_view_module": "@jupyter-widgets/base",
            "overflow": null,
            "_model_module_version": "1.2.0",
            "_view_count": null,
            "flex_flow": null,
            "width": null,
            "min_width": null,
            "border": null,
            "align_items": null,
            "bottom": null,
            "_model_module": "@jupyter-widgets/base",
            "top": null,
            "grid_column": null,
            "overflow_y": null,
            "overflow_x": null,
            "grid_auto_flow": null,
            "grid_area": null,
            "grid_template_columns": null,
            "flex": null,
            "_model_name": "LayoutModel",
            "justify_items": null,
            "grid_row": null,
            "max_height": null,
            "align_content": null,
            "visibility": null,
            "align_self": null,
            "height": null,
            "min_height": null,
            "padding": null,
            "grid_auto_rows": null,
            "grid_gap": null,
            "max_width": null,
            "order": null,
            "_view_module_version": "1.2.0",
            "grid_template_areas": null,
            "object_position": null,
            "object_fit": null,
            "grid_auto_columns": null,
            "margin": null,
            "display": null,
            "left": null
          }
        },
        "9d892be46c0f47eda5c606c0c992e16a": {
          "model_module": "@jupyter-widgets/controls",
          "model_name": "HBoxModel",
          "state": {
            "_view_name": "HBoxView",
            "_dom_classes": [],
            "_model_name": "HBoxModel",
            "_view_module": "@jupyter-widgets/controls",
            "_model_module_version": "1.5.0",
            "_view_count": null,
            "_view_module_version": "1.5.0",
            "box_style": "",
            "layout": "IPY_MODEL_5409b374673a438aa55241200ab5724b",
            "_model_module": "@jupyter-widgets/controls",
            "children": [
              "IPY_MODEL_b88a67e1771f4d13b0edadd9b6539b99",
              "IPY_MODEL_23b2ba592c2a4a04885a4a1d528627d9"
            ]
          }
        },
        "5409b374673a438aa55241200ab5724b": {
          "model_module": "@jupyter-widgets/base",
          "model_name": "LayoutModel",
          "state": {
            "_view_name": "LayoutView",
            "grid_template_rows": null,
            "right": null,
            "justify_content": null,
            "_view_module": "@jupyter-widgets/base",
            "overflow": null,
            "_model_module_version": "1.2.0",
            "_view_count": null,
            "flex_flow": null,
            "width": null,
            "min_width": null,
            "border": null,
            "align_items": null,
            "bottom": null,
            "_model_module": "@jupyter-widgets/base",
            "top": null,
            "grid_column": null,
            "overflow_y": null,
            "overflow_x": null,
            "grid_auto_flow": null,
            "grid_area": null,
            "grid_template_columns": null,
            "flex": null,
            "_model_name": "LayoutModel",
            "justify_items": null,
            "grid_row": null,
            "max_height": null,
            "align_content": null,
            "visibility": null,
            "align_self": null,
            "height": null,
            "min_height": null,
            "padding": null,
            "grid_auto_rows": null,
            "grid_gap": null,
            "max_width": null,
            "order": null,
            "_view_module_version": "1.2.0",
            "grid_template_areas": null,
            "object_position": null,
            "object_fit": null,
            "grid_auto_columns": null,
            "margin": null,
            "display": null,
            "left": null
          }
        },
        "b88a67e1771f4d13b0edadd9b6539b99": {
          "model_module": "@jupyter-widgets/controls",
          "model_name": "FloatProgressModel",
          "state": {
            "_view_name": "ProgressView",
            "style": "IPY_MODEL_c55bc3f882aa4e219df4dbff5c185c43",
            "_dom_classes": [],
            "description": "Downloading: ",
            "_model_name": "FloatProgressModel",
            "bar_style": "success",
            "max": 1955,
            "_view_module": "@jupyter-widgets/controls",
            "_model_module_version": "1.5.0",
            "value": 1955,
            "_view_count": null,
            "_view_module_version": "1.5.0",
            "orientation": "horizontal",
            "min": 0,
            "description_tooltip": null,
            "_model_module": "@jupyter-widgets/controls",
            "layout": "IPY_MODEL_81721a75e43141038b129ffc61a07a1d"
          }
        },
        "23b2ba592c2a4a04885a4a1d528627d9": {
          "model_module": "@jupyter-widgets/controls",
          "model_name": "HTMLModel",
          "state": {
            "_view_name": "HTMLView",
            "style": "IPY_MODEL_4114e4e9da6d401da0d5c033769b6b76",
            "_dom_classes": [],
            "description": "",
            "_model_name": "HTMLModel",
            "placeholder": "​",
            "_view_module": "@jupyter-widgets/controls",
            "_model_module_version": "1.5.0",
            "value": " 4.93k/? [00:00&lt;00:00, 11.0kB/s]",
            "_view_count": null,
            "_view_module_version": "1.5.0",
            "description_tooltip": null,
            "_model_module": "@jupyter-widgets/controls",
            "layout": "IPY_MODEL_1e809f9bfcd54d4597fd964b6ac4787f"
          }
        },
        "c55bc3f882aa4e219df4dbff5c185c43": {
          "model_module": "@jupyter-widgets/controls",
          "model_name": "ProgressStyleModel",
          "state": {
            "_view_name": "StyleView",
            "_model_name": "ProgressStyleModel",
            "description_width": "initial",
            "_view_module": "@jupyter-widgets/base",
            "_model_module_version": "1.5.0",
            "_view_count": null,
            "_view_module_version": "1.2.0",
            "bar_color": null,
            "_model_module": "@jupyter-widgets/controls"
          }
        },
        "81721a75e43141038b129ffc61a07a1d": {
          "model_module": "@jupyter-widgets/base",
          "model_name": "LayoutModel",
          "state": {
            "_view_name": "LayoutView",
            "grid_template_rows": null,
            "right": null,
            "justify_content": null,
            "_view_module": "@jupyter-widgets/base",
            "overflow": null,
            "_model_module_version": "1.2.0",
            "_view_count": null,
            "flex_flow": null,
            "width": null,
            "min_width": null,
            "border": null,
            "align_items": null,
            "bottom": null,
            "_model_module": "@jupyter-widgets/base",
            "top": null,
            "grid_column": null,
            "overflow_y": null,
            "overflow_x": null,
            "grid_auto_flow": null,
            "grid_area": null,
            "grid_template_columns": null,
            "flex": null,
            "_model_name": "LayoutModel",
            "justify_items": null,
            "grid_row": null,
            "max_height": null,
            "align_content": null,
            "visibility": null,
            "align_self": null,
            "height": null,
            "min_height": null,
            "padding": null,
            "grid_auto_rows": null,
            "grid_gap": null,
            "max_width": null,
            "order": null,
            "_view_module_version": "1.2.0",
            "grid_template_areas": null,
            "object_position": null,
            "object_fit": null,
            "grid_auto_columns": null,
            "margin": null,
            "display": null,
            "left": null
          }
        },
        "4114e4e9da6d401da0d5c033769b6b76": {
          "model_module": "@jupyter-widgets/controls",
          "model_name": "DescriptionStyleModel",
          "state": {
            "_view_name": "StyleView",
            "_model_name": "DescriptionStyleModel",
            "description_width": "",
            "_view_module": "@jupyter-widgets/base",
            "_model_module_version": "1.5.0",
            "_view_count": null,
            "_view_module_version": "1.2.0",
            "_model_module": "@jupyter-widgets/controls"
          }
        },
        "1e809f9bfcd54d4597fd964b6ac4787f": {
          "model_module": "@jupyter-widgets/base",
          "model_name": "LayoutModel",
          "state": {
            "_view_name": "LayoutView",
            "grid_template_rows": null,
            "right": null,
            "justify_content": null,
            "_view_module": "@jupyter-widgets/base",
            "overflow": null,
            "_model_module_version": "1.2.0",
            "_view_count": null,
            "flex_flow": null,
            "width": null,
            "min_width": null,
            "border": null,
            "align_items": null,
            "bottom": null,
            "_model_module": "@jupyter-widgets/base",
            "top": null,
            "grid_column": null,
            "overflow_y": null,
            "overflow_x": null,
            "grid_auto_flow": null,
            "grid_area": null,
            "grid_template_columns": null,
            "flex": null,
            "_model_name": "LayoutModel",
            "justify_items": null,
            "grid_row": null,
            "max_height": null,
            "align_content": null,
            "visibility": null,
            "align_self": null,
            "height": null,
            "min_height": null,
            "padding": null,
            "grid_auto_rows": null,
            "grid_gap": null,
            "max_width": null,
            "order": null,
            "_view_module_version": "1.2.0",
            "grid_template_areas": null,
            "object_position": null,
            "object_fit": null,
            "grid_auto_columns": null,
            "margin": null,
            "display": null,
            "left": null
          }
        }
      }
    }
  },
  "cells": [
    {
      "cell_type": "code",
      "metadata": {
        "id": "ZprzvK12G3xm"
      },
      "source": [
        "!pip install -q datasets==1.2.1\n",
        "!pip install -q transformers==4.2.0\n",
        "!pip install -q rouge_score"
      ],
      "execution_count": 1,
      "outputs": []
    },
    {
      "cell_type": "code",
      "metadata": {
        "id": "io6O26coHEMh"
      },
      "source": [
        "import random\n",
        "import datasets\n",
        "\n",
        "import pandas as pd\n",
        "\n",
        "from transformers import AutoTokenizer\n",
        "from IPython.display import display, HTML\n",
        "from datasets import load_dataset, load_metric\n",
        "from transformers import AutoModelForSeq2SeqLM\n",
        "from transformers import Seq2SeqTrainer, Seq2SeqTrainingArguments"
      ],
      "execution_count": 2,
      "outputs": []
    },
    {
      "cell_type": "markdown",
      "metadata": {
        "id": "BdM9lw4YKtYL"
      },
      "source": [
        "### Data"
      ]
    },
    {
      "cell_type": "code",
      "metadata": {
        "colab": {
          "base_uri": "https://localhost:8080/",
          "height": 247,
          "referenced_widgets": [
            "c833558a9c944df0918d8bb16c7dffc7",
            "8e1eb427bad14f4fbad2e72baa596d3a",
            "8a79144474a94b20b0171a8bd0407f60",
            "0ac275ddbf4f48b38a782f3b0ba7c672",
            "7e31ab0a9ea0486a9e434daa8a5724cb",
            "7963e6e1813e4789ad0b257b3e742ea5",
            "f7b1b4d44b114bd294393f5c57ba6f30",
            "d491d90d798d47f0832f5847fc3d6ce0",
            "9a8f04878e2c4872b50bf140290d6247",
            "ec0a1b99ccdc48a298a3bad22da45309",
            "9e7a513fb5ed4acf93b559ad3db9fb8f",
            "9595c32532794d4b90f6abb938b5bb5e",
            "23335f9f2a494c82b30c7a60c72154d2",
            "9d3802edb7194b92b50cfda4a74879d7",
            "0315d2d195d84bceb62eab9f16093828",
            "242cbec871f24a48ba8bdcfaa0dda053",
            "e22316551d954c4092b999514dda88e1",
            "551fa85aa0624cc6bf928b8aaf3a8e87",
            "3b2be425d07d4f0fb4c8836cbcb96fb4",
            "e61b8cb61e3b42d9a735397aaa5b2d17",
            "a1ab6bfcf6974bc288dcf7cd69e0049d",
            "d7ff1686e47a4d6ea3c9b3918533491d",
            "fa12c41fc7f24f44a8b1f619bdd5829a",
            "fb93a74a888e49bfa22980fff5ec5b76",
            "56beb6c74f0348b2a52203f429f0e502",
            "aa936cda7a894a55812e943cbfc2505a",
            "7f439b5ef813470b8dee55d3e8b60e73",
            "cbeea4012d9548138e680368dc0c4e5f",
            "a1c3a6d5e7524fdb8570800958633bac",
            "1e09590ca4704ac9b67fb925e8398e5f",
            "95f5f6365a77444599dd96550f2a6a64",
            "e0ef19a838ec4d45b09121c96ac45dd5",
            "66eeda24e74c4a8fb9a3a5ef4086daa0",
            "5265546fae7e4d3fb32f1f4ab4444d83",
            "afb5965931344bb085ebb380757f0a19",
            "8a2e05f4a06f4f14b1bb6718c0c00b22",
            "e57ef048e24947659012db5f92b315a8",
            "5c4addc8c6454e97ad50eecea5236bea",
            "5ad167fafa594017b664368fa1f3de62",
            "e9246bb513634312aa580ac2b88c272b",
            "76037791ae134abb858aa92c8435cc54",
            "9e09adcfb4334df9b8f2c55de81a4fb9",
            "835f0dbfd50d41d79a1ffec48938e863",
            "eaaae9a2be94495186b64880f4640c7d",
            "cc4a3bdc0f4c4874980d45cc9174ffce",
            "d7f2d1da3048470a84107e77f66a2541",
            "307fdefe7fad49c3ab82954d504a0291",
            "bc39a945d4634847807947144838b7eb",
            "21897da912214e81ac69c5a30c6dca0e",
            "40d7d32ff4d942648c219abce8a53786",
            "0017f8bfdd6c4eb5a36eaabf0c9fbc5f",
            "5fd170312d774e1c8bdc12903b9973f5",
            "b668e4e45c6844a5bdb7095a6fcc0d78",
            "8561de0260ca43f089a707facd52b50b",
            "2c048b76fbcd4e9592dfefa0486cdd41",
            "4dee23e18dbb4234b3b6fc3d2a5c2359"
          ]
        },
        "id": "4h2ZeKpXHEoK",
        "outputId": "831e8b2e-d890-4a63-a242-c4935b20b0cb"
      },
      "source": [
        "train_dataset = load_dataset(\"scientific_papers\", \"pubmed\", split = \"train\")"
      ],
      "execution_count": 3,
      "outputs": [
        {
          "output_type": "display_data",
          "data": {
            "application/vnd.jupyter.widget-view+json": {
              "model_id": "c833558a9c944df0918d8bb16c7dffc7",
              "version_minor": 0,
              "version_major": 2
            },
            "text/plain": [
              "HBox(children=(FloatProgress(value=0.0, description='Downloading', max=2069.0, style=ProgressStyle(description…"
            ]
          },
          "metadata": {
            "tags": []
          }
        },
        {
          "output_type": "stream",
          "text": [
            "\n"
          ],
          "name": "stdout"
        },
        {
          "output_type": "display_data",
          "data": {
            "application/vnd.jupyter.widget-view+json": {
              "model_id": "9a8f04878e2c4872b50bf140290d6247",
              "version_minor": 0,
              "version_major": 2
            },
            "text/plain": [
              "HBox(children=(FloatProgress(value=0.0, description='Downloading', max=1231.0, style=ProgressStyle(description…"
            ]
          },
          "metadata": {
            "tags": []
          }
        },
        {
          "output_type": "stream",
          "text": [
            "\n",
            "Downloading and preparing dataset scientific_papers/pubmed (download: 4.20 GiB, generated: 2.33 GiB, post-processed: Unknown size, total: 6.53 GiB) to /root/.cache/huggingface/datasets/scientific_papers/pubmed/1.1.1/043e40ed208b8a66ee9e8228c86874946c99d2fc6155a1daee685795851cfdfc...\n"
          ],
          "name": "stdout"
        },
        {
          "output_type": "display_data",
          "data": {
            "application/vnd.jupyter.widget-view+json": {
              "model_id": "e22316551d954c4092b999514dda88e1",
              "version_minor": 0,
              "version_major": 2
            },
            "text/plain": [
              "HBox(children=(FloatProgress(value=0.0, description='Downloading', max=3624420843.0, style=ProgressStyle(descr…"
            ]
          },
          "metadata": {
            "tags": []
          }
        },
        {
          "output_type": "stream",
          "text": [
            "\n"
          ],
          "name": "stdout"
        },
        {
          "output_type": "display_data",
          "data": {
            "application/vnd.jupyter.widget-view+json": {
              "model_id": "56beb6c74f0348b2a52203f429f0e502",
              "version_minor": 0,
              "version_major": 2
            },
            "text/plain": [
              "HBox(children=(FloatProgress(value=0.0, description='Downloading', max=880225504.0, style=ProgressStyle(descri…"
            ]
          },
          "metadata": {
            "tags": []
          }
        },
        {
          "output_type": "stream",
          "text": [
            "\n"
          ],
          "name": "stdout"
        },
        {
          "output_type": "display_data",
          "data": {
            "application/vnd.jupyter.widget-view+json": {
              "model_id": "66eeda24e74c4a8fb9a3a5ef4086daa0",
              "version_minor": 0,
              "version_major": 2
            },
            "text/plain": [
              "HBox(children=(FloatProgress(value=1.0, bar_style='info', max=1.0), HTML(value='')))"
            ]
          },
          "metadata": {
            "tags": []
          }
        },
        {
          "output_type": "stream",
          "text": [
            "\r"
          ],
          "name": "stdout"
        },
        {
          "output_type": "display_data",
          "data": {
            "application/vnd.jupyter.widget-view+json": {
              "model_id": "76037791ae134abb858aa92c8435cc54",
              "version_minor": 0,
              "version_major": 2
            },
            "text/plain": [
              "HBox(children=(FloatProgress(value=1.0, bar_style='info', max=1.0), HTML(value='')))"
            ]
          },
          "metadata": {
            "tags": []
          }
        },
        {
          "output_type": "stream",
          "text": [
            "\r"
          ],
          "name": "stdout"
        },
        {
          "output_type": "display_data",
          "data": {
            "application/vnd.jupyter.widget-view+json": {
              "model_id": "21897da912214e81ac69c5a30c6dca0e",
              "version_minor": 0,
              "version_major": 2
            },
            "text/plain": [
              "HBox(children=(FloatProgress(value=1.0, bar_style='info', max=1.0), HTML(value='')))"
            ]
          },
          "metadata": {
            "tags": []
          }
        },
        {
          "output_type": "stream",
          "text": [
            "\rDataset scientific_papers downloaded and prepared to /root/.cache/huggingface/datasets/scientific_papers/pubmed/1.1.1/043e40ed208b8a66ee9e8228c86874946c99d2fc6155a1daee685795851cfdfc. Subsequent calls will reuse this data.\n"
          ],
          "name": "stdout"
        }
      ]
    },
    {
      "cell_type": "code",
      "metadata": {
        "colab": {
          "base_uri": "https://localhost:8080/"
        },
        "id": "xhUUPWhgHHCd",
        "outputId": "9510c98b-89b4-44f7-ffab-6f6b0208130b"
      },
      "source": [
        "val_dataset = load_dataset(\"scientific_papers\", \"pubmed\", split = \"validation\")"
      ],
      "execution_count": 4,
      "outputs": [
        {
          "output_type": "stream",
          "text": [
            "Reusing dataset scientific_papers (/root/.cache/huggingface/datasets/scientific_papers/pubmed/1.1.1/043e40ed208b8a66ee9e8228c86874946c99d2fc6155a1daee685795851cfdfc)\n"
          ],
          "name": "stderr"
        }
      ]
    },
    {
      "cell_type": "code",
      "metadata": {
        "id": "UA14quhMHZwN"
      },
      "source": [
        "def show_random_elements(dataset, num_examples=4):\n",
        "    assert num_examples <= len(dataset), \"Can't pick more elements than there are in the dataset.\"\n",
        "    picks = []\n",
        "    for _ in range(num_examples):\n",
        "        pick = random.randint(0, len(dataset)-1)\n",
        "        while pick in picks:\n",
        "            pick = random.randint(0, len(dataset)-1)\n",
        "        picks.append(pick)\n",
        "    \n",
        "    df = pd.DataFrame(dataset[picks])\n",
        "    for column, typ in dataset.features.items():\n",
        "        if isinstance(typ, datasets.ClassLabel):\n",
        "            df[column] = df[column].transform(lambda i: typ.names[i])\n",
        "    display(HTML(df.to_html()))"
      ],
      "execution_count": 5,
      "outputs": []
    },
    {
      "cell_type": "code",
      "metadata": {
        "colab": {
          "base_uri": "https://localhost:8080/",
          "height": 164,
          "referenced_widgets": [
            "d1e71b41c8254b1b8e2af65a33d8dedc",
            "10fe58dc495e4b77b3b66d75e7db6f20",
            "9be7b03e81cb438f8e253d7b85308010",
            "934debd562c341fd8b858328237268c5",
            "b24983465df846be8e18b9d3359b2ffc",
            "fa95c2a4f2df49b6ac145184dfdbc009",
            "930642cb97ef47d29d41e34df29049cf",
            "5b26982ca27542ee9aae93519b0fb9e2",
            "3e7c317564c64e908892ab65295bf443",
            "28df18efbd6b4fef80690fe48d686e0a",
            "9002b074aeec4d04bb661cdb0d3b6bba",
            "f763640cd0f94487a95f1d55cf0af364",
            "e588cdb6c4d74461ad54b7d88f38eafd",
            "0639adb83b5a43a3b090603c9d62c92b",
            "6d9e520a44e84dc3844dc545f1cc4d54",
            "87a8bfa0ac774db2a5804b1a3c885cd9",
            "aa238de5a91f45d99857c44e8bf2fd0f",
            "0f62fdffbb94405eac5e784a27f48b83",
            "669a7d47e55f46a3b2a4a69067c74928",
            "78addbc6f10444e19a042c9670abbba3",
            "5713bd4d02d741d7b423e2ea71bee11b",
            "d0c36c27b7b440d9bc8219f98030de5c",
            "b5cb253c76a749b18a633f25066e8806",
            "746987f3200a47c7931eae2e6fce3b0e"
          ]
        },
        "id": "UfNVydmaJ4NG",
        "outputId": "8a9f015e-e4e7-43f8-b772-e12c01991a91"
      },
      "source": [
        "tokenizer = AutoTokenizer.from_pretrained(\"allenai/led-base-16384\")"
      ],
      "execution_count": 6,
      "outputs": [
        {
          "output_type": "display_data",
          "data": {
            "application/vnd.jupyter.widget-view+json": {
              "model_id": "d1e71b41c8254b1b8e2af65a33d8dedc",
              "version_minor": 0,
              "version_major": 2
            },
            "text/plain": [
              "HBox(children=(FloatProgress(value=0.0, description='Downloading', max=1092.0, style=ProgressStyle(description…"
            ]
          },
          "metadata": {
            "tags": []
          }
        },
        {
          "output_type": "stream",
          "text": [
            "\n"
          ],
          "name": "stdout"
        },
        {
          "output_type": "display_data",
          "data": {
            "application/vnd.jupyter.widget-view+json": {
              "model_id": "3e7c317564c64e908892ab65295bf443",
              "version_minor": 0,
              "version_major": 2
            },
            "text/plain": [
              "HBox(children=(FloatProgress(value=0.0, description='Downloading', max=898822.0, style=ProgressStyle(descripti…"
            ]
          },
          "metadata": {
            "tags": []
          }
        },
        {
          "output_type": "stream",
          "text": [
            "\n"
          ],
          "name": "stdout"
        },
        {
          "output_type": "display_data",
          "data": {
            "application/vnd.jupyter.widget-view+json": {
              "model_id": "aa238de5a91f45d99857c44e8bf2fd0f",
              "version_minor": 0,
              "version_major": 2
            },
            "text/plain": [
              "HBox(children=(FloatProgress(value=0.0, description='Downloading', max=456318.0, style=ProgressStyle(descripti…"
            ]
          },
          "metadata": {
            "tags": []
          }
        },
        {
          "output_type": "stream",
          "text": [
            "\n"
          ],
          "name": "stdout"
        }
      ]
    },
    {
      "cell_type": "code",
      "metadata": {
        "colab": {
          "base_uri": "https://localhost:8080/",
          "height": 1000
        },
        "id": "xiYdQMFsJ_IP",
        "outputId": "8c92abbd-9d64-4341-e8db-db80ab23e525"
      },
      "source": [
        "show_random_elements(train_dataset)"
      ],
      "execution_count": 7,
      "outputs": [
        {
          "output_type": "display_data",
          "data": {
            "text/html": [
              "<table border=\"1\" class=\"dataframe\">\n",
              "  <thead>\n",
              "    <tr style=\"text-align: right;\">\n",
              "      <th></th>\n",
              "      <th>abstract</th>\n",
              "      <th>article</th>\n",
              "      <th>section_names</th>\n",
              "    </tr>\n",
              "  </thead>\n",
              "  <tbody>\n",
              "    <tr>\n",
              "      <th>0</th>\n",
              "      <td>exploring genetic pleiotropy can provide clues to a mechanism underlying the observed epidemiological association between type 2 diabetes and heightened fracture risk . \\n we examined genetic variants associated with bone mineral density ( bmd ) for association with type 2 diabetes and glycemic traits in large well - phenotyped and -genotyped consortia . \\n we undertook follow - up analysis in 19,000 individuals and assessed gene expression . \\n we queried single nucleotide polymorphisms ( snps ) associated with bmd at levels of genome - wide significance , variants in linkage disequilibrium ( r2 &gt; 0.5 ) , and bmd candidate genes . \\n snp rs6867040 , at the itga1 locus , was associated with a 0.0166 mmol / l ( 0.004 ) increase in fasting glucose per c allele in the combined analysis . \\n genetic variants in the itga1 locus were associated with its expression in the liver but not in adipose tissue . \\n itga1 variants appeared among the top loci associated with type 2 diabetes , fasting insulin , -cell function by homeostasis model assessment , and 2-h post  oral glucose tolerance test glucose and insulin levels . \\n itga1 has demonstrated genetic pleiotropy in prior studies , and its suggested role in liver fibrosis , insulin secretion , and bone healing lends credence to its contribution to both osteoporosis and type 2 diabetes . \\n these findings further underscore the link between skeletal and glucose metabolism and highlight a locus to direct future investigations .</td>\n",
              "      <td>in total , 1,778 snps were collated for association with type 2 diabetes and glycemic traits ( fig .\\na staged approach was used to examine bmd - related snps for association with type 2 diabetes and related traits .\\nbmd - related snps were collated from bmd gwass ( 1417 ) , nearby snps ( 50 kb ) in moderate - to - high ld ( r &gt; 0.5 ) , and snps from candidate genes ( 20 kb ) identified in gefos ( 20 ) .\\na total of 1,778 snps were tested for association with type 2 diabetes in diagram+ ( 21 ) and seven glycemic traits in magic ( 22,24 ) .\\nthirteen snps were taken forward for follow - up in a replication cohort ( n = 19,417 ) , cis - eqtl analysis in liver and adipose tissue , and association with bmi .\\na total of 35 snps initially were selected based on bmd gwass in populations of european ancestry ( 1417 ) .\\nif multiple snps were listed for one gene per trait , snps were kept for analysis if the correlation was low ( pairwise linkage disequilibrium [ ld ] r &lt; 0.5 ) ; if r  0.5 , only the snp with the lowest p value was kept unless the study indicated that multiple correlated snps had a high degree of explanatory power of the variance for the trait .\\nwe removed rs6696981 ( zbtb40 ) , rs4879055 and rs6929137 ( esr1 ) , rs6993813 and rs6469804 ( tnfrsf11 ) , rs9594759 ( rankl ) , rs1107748 ( sost ) , rs2566755 ( gpr177 ) , and rs7781370 ( flj42280 ) ( 14,15,17 ) .\\nthe final list of 26 bmd genome wide  associated snps was examined for association with type 2 diabetes and glycemic traits ( table 2 ) .\\ntwenty - six bmd - associated loci for association with diabetes and quantitative glycemic traits since the index snp may not be the causal variant and other genetic variants in the region may have a stronger influence on the traits examined , we tested the region around the index variant by selecting snps in moderate - to - strong ld ( r &gt; 0.5 ) .\\nwe chose variants in moderate - to - strong ld , rather than all of the variants in this region , to base our exploration on variants with a higher prior probability of true association and reduce the multiple testing burden .\\nall snps that were 50 kilobases ( kb ) upstream and downstream from and in moderate - to - strong ld with the 26 bmd - related snps were tested for association with type 2 diabetes and glycemic traits .\\nthese snps were identified using snp annotation and proxy search , snap ( http://www.broadinstitute.org/mpg/snap/ ) ( 19 ) ( supplementary table 1 ) .\\nin addition to selecting the 26 snps associated at genome - wide significance with bmd and the surrounding region , we selected candidate genes that were found to be associated ( p &lt; 2.39  10 after bonferroni correction ) with bmd in the gefos ( genetic factors for osteoporosis ) consortium ( 20 ) . this article identifies nine candidate genes , including esr1 , lrp4 , itga1 , lrp5 , sost , spp1 , tnfrsf11a ( rank ) , tnrfsf11b , and tnfsf11 ( rankl ) . for each gene , we identified all snps within and 20 kb upstream and downstream of any transcript of the gene .\\nall snps within those boundaries that were genotyped or imputed in the consortia were tested for association with type 2 diabetes and glycemic traits ( supplementary table 1 ) .\\nwe tested snps in the diagram+ ( diabetes genetics replication and meta - analysis ) consortium ( 21 ) for association with type 2 diabetes and in magic ( meta - analyses of glucose and insulin - related traits consortium ) ( 2224 ) for association with seven glycemic quantitative traits .\\nthese traits included fasting glucose , fasting insulin , homeostasis model assessments of -cell function ( homa - b ) and insulin resistance ( homa - ir ) ( 25 ) , hemoglobin a1c ( hba1c ) , and glucose and insulin levels 2 h post  glucose load ( 2-h glucose and 2-h insulin ) . the diagram+ consortium combined case - control data from eight type 2 diabetes gwass with up to 42,542 case and 98,912 control subjects of european ancestry ( 21 ) .\\nits discovery sample included up to 46,186 individuals from 17 population - based cohorts and 4 case - control studies ( 2224 ) .\\nit is noteworthy that the framingham heart study ( fhs ) , diabetes epidemiology : collaborative analysis of diagnostic criteria in europe ( decode ) study , erasmus rucphen family study , and twinsuk study provided data to both magic and the bmd datasets from where the genome - wide  associated snps were selected . using fhs as a representative cohort of european descent that contained both bmd and glycemic values , we found phenotypic correlations , r of 0.110.16 , between bone ( femoral neck and lumbar spine bmd ) and glycemic traits ( glucose and insulin ) . since the phenotypic correlation is low , we would not necessarily expect to see a genetic association solely based on the fact that a small portion of the participants were assessed for both traits .\\nin addition , examining the associations using meta - analyses of large consortia , rather than in the subset of overlapping participants , provides a more powerful approach .\\nthe study protocols were approved by the institutional review board of the respective cohorts institutions , and informed consent was obtained from each subject prior to participation .\\nafter the collation of the index , ld - based , and gene - based bmd - related snps , we tested 1,778 unique snps for association with type 2 diabetes and glycemic traits .\\nwe obtained effect estimates and p values from gwas meta - analyses provided by diagram+ and magic .\\nwe determined which snps to examine in follow - up studies by calculating a significance threshold for each group of snps selected ( index , ld - based , and gene - based ) .\\nwe used a bonferroni correction for the estimated number of independent tests after taking ld into account determined using a method proposed by nyholt ( 26 ) and li and ji ( 27 ) . for our primary analyses , we used a stricter threshold by accounting for the number of traits tested .\\nwe evaluated 26 bmd snps for association with type 2 diabetes and seven glycemic traits ( 26 tests multiplied by 8 traits = 208 ) , yielding thresholds to declare statistical significance at p = 2.4  10 ( 0.05/208 tests ) . for the ld- and gene - based secondary analyses\\n, we corrected for the number of independent snps tested but not for the number of traits examined .\\nthe p value threshold for the 513 ld - based snps ( 188 independent tests ) was 2.6  10 and for the 1,318 candidate gene  based snps ( 651 independent tests ) , 7.7  10 .\\na study - wide p value of 6.0  10 for 1,778 total snps ( 830 independent tests ) determined significance for the combined meta - analysis ( described below ) .\\nto follow up the bmd - related snps associated with type 2 diabetes and glycemic traits , we combined in silico gwas data from 12 additional cohorts of 19,417 nondiabetic participants ( amish family diabetes study , atherosclerosis risk in communities study [ aric ] , anglo - scandinavian cardiac outcomes trial [ ascot ] , busselton health study [ bhs ] , data from the epidemiological study on the insulin resistance syndrome [ desir ] study , french obese study , family heart study [ famhs ] , fenland study , finnish twins study , swedish twins study , geminakar study , and [ the supplmentation en vitamines et minraux antioxydants [ su.vi.max study ] ) ( detailed in supplementary table 2 ) .\\nwe then combined the discovery and replication meta - analysis results for overall association using metal ( 28 ) .\\nfollow - up snps were examined by cis - expression quantitative trait loci ( eqtl ) analysis in metabolically relevant tissues , liver , and adipose .\\nliver tissue samples came from the advanced study of aortic pathology ( asap ) cohort of 211 healthy adults undergoing aortic valve surgery .\\n, palo alto , ca ) , and quantity was measured by nanodrop ( thermo scientific , waltham , ma ) .\\nrna was purified using the rneasy mini kit ( qiagen , hilden , germany ) , including treatment with rnasefree dnase set ( qiagen ) according to the manufacturer s instructions .\\nexpression profiling was done on the affymetrix genechip human exon 1.0 st array ( affymetrix , inc .\\nexpression data were preprocessed using the robust multiarray analysis algorithm with quantile normalization , log2 transformation , and the  extended  set of meta probe sets .\\ngenotyping of the dna samples was done using illumina 610wquad arrays ( illumina , inc . , san diego , ca ) .\\neach snp was encoded as 0 , 1 , or 2 depending on genotype , and a linear regression model was fitted ( 29 ) .\\nadipose tissue samples came from the multiple tissue human expression resource ( muther ) ( 30 ) of 776 healthy female adult twins .\\nrna was extracted from homogenized subcutaneous adipose tissue samples using trizol reagent ( invitrogen , grand island , ny ) according to protocol provided by the manufacturer .\\nrna quality was assessed with the agilent 2100 bioanalyzer , and the concentrations were determined using nanodrop nd-1000 ( thermo scientific ) .\\nwhole - genome expression profiling of the samples was performed using the illumina human ht-12 v3 beadchips according to the protocol supplied by the manufacturer .\\nlog2-transformed expression signals were normalized separately per tissue as follows : quantile normalization was performed across technical replicates of each individual followed by quantile normalization across all individuals .\\nsubject dna was genotyped using a combination of illumina arrays ( humanhap300 , humanhap610q , 1m - duo , and 1.2mduo 1 m ) .\\nsnps were imputed using the impute software package ( version 2 ) ( 31 ) .\\nassociation between all snps ( minor allele frequency [ maf ] &gt; 5% , impute info &gt; 0.8 ) within a gene or within 1 mb of the gene transcription start or end site and normalized expression values were performed using the polygenic linear model incorporating a kinship matrix in genabel followed by the probabel mmscore score test with imputed genotypes .\\nwe also tested snps that were associated with fasting glucose for association with bmi using in silico gwas data from the giant ( the genetic investigation of anthropometric traits ) consortium ( 32 ) and for association with femoral neck and lumbar spine bmd in gefos ( 16 ) .\\nin total , 1,778 snps were collated for association with type 2 diabetes and glycemic traits ( fig .\\na staged approach was used to examine bmd - related snps for association with type 2 diabetes and related traits .\\nbmd - related snps were collated from bmd gwass ( 1417 ) , nearby snps ( 50 kb ) in moderate - to - high ld ( r &gt; 0.5 ) , and snps from candidate genes ( 20 kb ) identified in gefos ( 20 ) .\\na total of 1,778 snps were tested for association with type 2 diabetes in diagram+ ( 21 ) and seven glycemic traits in magic ( 22,24 ) .\\nthirteen snps were taken forward for follow - up in a replication cohort ( n = 19,417 ) , cis - eqtl analysis in liver and adipose tissue , and association with bmi .\\na total of 35 snps initially were selected based on bmd gwass in populations of european ancestry ( 1417 ) .\\nif multiple snps were listed for one gene per trait , snps were kept for analysis if the correlation was low ( pairwise linkage disequilibrium [ ld ] r &lt; 0.5 ) ; if r  0.5 , only the snp with the lowest p value was kept unless the study indicated that multiple correlated snps had a high degree of explanatory power of the variance for the trait .\\nwe removed rs6696981 ( zbtb40 ) , rs4879055 and rs6929137 ( esr1 ) , rs6993813 and rs6469804 ( tnfrsf11 ) , rs9594759 ( rankl ) , rs1107748 ( sost ) , rs2566755 ( gpr177 ) , and rs7781370 ( flj42280 ) ( 14,15,17 ) .\\nthe final list of 26 bmd genome wide  associated snps was examined for association with type 2 diabetes and glycemic traits ( table 2 ) .\\ntwenty - six bmd - associated loci for association with diabetes and quantitative glycemic traits since the index snp may not be the causal variant and other genetic variants in the region may have a stronger influence on the traits examined , we tested the region around the index variant by selecting snps in moderate - to - strong ld ( r &gt; 0.5 ) .\\nwe chose variants in moderate - to - strong ld , rather than all of the variants in this region , to base our exploration on variants with a higher prior probability of true association and reduce the multiple testing burden .\\nall snps that were 50 kilobases ( kb ) upstream and downstream from and in moderate - to - strong ld with the 26 bmd - related snps were tested for association with type 2 diabetes and glycemic traits .\\nthese snps were identified using snp annotation and proxy search , snap ( http://www.broadinstitute.org/mpg/snap/ ) ( 19 ) ( supplementary table 1 ) .\\nin addition to selecting the 26 snps associated at genome - wide significance with bmd and the surrounding region , we selected candidate genes that were found to be associated ( p &lt; 2.39  10 after bonferroni correction ) with bmd in the gefos ( genetic factors for osteoporosis ) consortium ( 20 ) . this article identifies nine candidate genes , including esr1 , lrp4 , itga1 , lrp5 , sost , spp1 , tnfrsf11a ( rank ) , tnrfsf11b , and tnfsf11 ( rankl ) . for each gene , we identified all snps within and 20 kb upstream and downstream of any transcript of the gene .\\nall snps within those boundaries that were genotyped or imputed in the consortia were tested for association with type 2 diabetes and glycemic traits ( supplementary table 1 ) .\\nwe tested snps in the diagram+ ( diabetes genetics replication and meta - analysis ) consortium ( 21 ) for association with type 2 diabetes and in magic ( meta - analyses of glucose and insulin - related traits consortium ) ( 2224 ) for association with seven glycemic quantitative traits .\\nthese traits included fasting glucose , fasting insulin , homeostasis model assessments of -cell function ( homa - b ) and insulin resistance ( homa - ir ) ( 25 ) , hemoglobin a1c ( hba1c ) , and glucose and insulin levels 2 h post  glucose load ( 2-h glucose and 2-h insulin ) .\\nthe diagram+ consortium combined case - control data from eight type 2 diabetes gwass with up to 42,542 case and 98,912 control subjects of european ancestry ( 21 ) .\\nits discovery sample included up to 46,186 individuals from 17 population - based cohorts and 4 case - control studies ( 2224 ) .\\nit is noteworthy that the framingham heart study ( fhs ) , diabetes epidemiology : collaborative analysis of diagnostic criteria in europe ( decode ) study , erasmus rucphen family study , and twinsuk study provided data to both magic and the bmd datasets from where the genome - wide  associated snps were selected . using fhs as a representative cohort of european descent that contained both bmd and glycemic values , we found phenotypic correlations , r of 0.110.16 , between bone ( femoral neck and lumbar spine bmd ) and glycemic traits ( glucose and insulin ) . since the phenotypic correlation is low , we would not necessarily expect to see a genetic association solely based on the fact that a small portion of the participants were assessed for both traits .\\nin addition , examining the associations using meta - analyses of large consortia , rather than in the subset of overlapping participants , provides a more powerful approach .\\nthe study protocols were approved by the institutional review board of the respective cohorts institutions , and informed consent was obtained from each subject prior to participation .\\nafter the collation of the index , ld - based , and gene - based bmd - related snps , we tested 1,778 unique snps for association with type 2 diabetes and glycemic traits .\\nwe obtained effect estimates and p values from gwas meta - analyses provided by diagram+ and magic .\\nwe determined which snps to examine in follow - up studies by calculating a significance threshold for each group of snps selected ( index , ld - based , and gene - based ) .\\nwe used a bonferroni correction for the estimated number of independent tests after taking ld into account determined using a method proposed by nyholt ( 26 ) and li and ji ( 27 ) . for our primary analyses , we used a stricter threshold by accounting for the number of traits tested .\\nwe evaluated 26 bmd snps for association with type 2 diabetes and seven glycemic traits ( 26 tests multiplied by 8 traits = 208 ) , yielding thresholds to declare statistical significance at p = 2.4  10 ( 0.05/208 tests ) .\\nfor the ld- and gene - based secondary analyses , we corrected for the number of independent snps tested but not for the number of traits examined .\\nthe p value threshold for the 513 ld - based snps ( 188 independent tests ) was 2.6  10 and for the 1,318 candidate gene  based snps ( 651 independent tests ) , 7.7  10 . a study - wide p value of 6.0  10 for 1,778 total snps ( 830 independent tests ) determined significance for the combined meta - analysis ( described below ) .\\nto follow up the bmd - related snps associated with type 2 diabetes and glycemic traits , we combined in silico gwas data from 12 additional cohorts of 19,417 nondiabetic participants ( amish family diabetes study , atherosclerosis risk in communities study [ aric ] , anglo - scandinavian cardiac outcomes trial [ ascot ] , busselton health study [ bhs ] , data from the epidemiological study on the insulin resistance syndrome [ desir ] study , french obese study , family heart study [ famhs ] , fenland study , finnish twins study , swedish twins study , geminakar study , and [ the supplmentation en vitamines et minraux antioxydants [ su.vi.max study ] ) ( detailed in supplementary table 2 ) .\\nwe then combined the discovery and replication meta - analysis results for overall association using metal ( 28 ) .\\nfollow - up snps were examined by cis - expression quantitative trait loci ( eqtl ) analysis in metabolically relevant tissues , liver , and adipose .\\nliver tissue samples came from the advanced study of aortic pathology ( asap ) cohort of 211 healthy adults undergoing aortic valve surgery .\\n, palo alto , ca ) , and quantity was measured by nanodrop ( thermo scientific , waltham , ma ) .\\nrna was purified using the rneasy mini kit ( qiagen , hilden , germany ) , including treatment with rnasefree dnase set ( qiagen ) according to the manufacturer s instructions .\\nexpression profiling was done on the affymetrix genechip human exon 1.0 st array ( affymetrix , inc . ,\\nexpression data were preprocessed using the robust multiarray analysis algorithm with quantile normalization , log2 transformation , and the  extended  set of meta probe sets .\\ngenotyping of the dna samples was done using illumina 610wquad arrays ( illumina , inc . , san diego , ca ) .\\neach snp was encoded as 0 , 1 , or 2 depending on genotype , and a linear regression model was fitted ( 29 ) .\\nadipose tissue samples came from the multiple tissue human expression resource ( muther ) ( 30 ) of 776 healthy female adult twins .\\nrna was extracted from homogenized subcutaneous adipose tissue samples using trizol reagent ( invitrogen , grand island , ny ) according to protocol provided by the manufacturer .\\nrna quality was assessed with the agilent 2100 bioanalyzer , and the concentrations were determined using nanodrop nd-1000 ( thermo scientific ) .\\nwhole - genome expression profiling of the samples was performed using the illumina human ht-12 v3 beadchips according to the protocol supplied by the manufacturer .\\nlog2-transformed expression signals were normalized separately per tissue as follows : quantile normalization was performed across technical replicates of each individual followed by quantile normalization across all individuals .\\nsubject dna was genotyped using a combination of illumina arrays ( humanhap300 , humanhap610q , 1m - duo , and 1.2mduo 1 m ) .\\n( http://hapmap.ncbi.nlm.nih.gov ) snps were imputed using the impute software package ( version 2 ) ( 31 ) .\\nassociation between all snps ( minor allele frequency [ maf ] &gt; 5% , impute info &gt; 0.8 ) within a gene or within 1 mb of the gene transcription start or end site and normalized expression values were performed using the polygenic linear model incorporating a kinship matrix in genabel followed by the probabel mmscore score test with imputed genotypes .\\nwe also tested snps that were associated with fasting glucose for association with bmi using in silico gwas data from the giant ( the genetic investigation of anthropometric traits ) consortium ( 32 ) and for association with femoral neck and lumbar spine bmd in gefos ( 16 ) .\\na total of 26 snps associated with bmd at genome - wide levels of significance were tested for association with type 2 diabetes and seven continuous glycemic parameters .\\nnone of the snps reached the a priori p value threshold of 2.4  10 using conservative bonferroni correction .\\nthree snps were nominally associated ( p &lt; 0.05 ) with two diabetes - related traits : the hip bmd - raising allele ( g ) of snp rs87939 ( ctnnb1 ) was nominally associated with lower fasting insulin and lower homa - ir , the hip bmd - raising allele ( a ) of snp rs1366594 ( mef2c ) was associated with higher fasting insulin and higher homa - ir , and the spine bmd - raising allele ( a ) of snp rs1999805 ( esr1 ) was associated with lower fasting insulin and lower homa - ir ( table 2 ) .\\nwe examined 513 snps in moderate - to - strong ld ( r  0.5 ) with the bmd index snps for association with type 2 diabetes and glycemic traits .\\nnone of the snps reached our prespecified p value threshold ( p = 2.6  10 ) .\\nthe g allele at snp rs2070852 ( arhgap1 ) , a near - perfect proxy for the index snp rs7932354 ( t ) ( r = 0.96 ) , was associated with higher fasting glucose (  = 0.0104 mmol / l [ se 0.004 ] , p = 9.0  10 ) ( as would be predicted by the nominal association of the index snp with the same trait ) .\\nthe minor alleles of three snps , rs4081640 , rs2371445 , and rs2371446 , in strong ld ( r &gt; 0.8 ) with the index snp rs487939 ( ctnnb1 ) , were associated with lower fasting insulin ( 0.016 [ 0.005 ] , p &lt; 0.002 ) and homa - ir ( 0.016 [ 0.005 ] , p &lt; 0.005 ) at slightly higher levels of significance compared with the index snp .\\nlikewise , the major alleles of three snps at esr1 ( rs3020348 , rs3020349 , and rs2982554 ) were associated with lower fasting insulin ( 0.01 [ 0.004 ] , p &lt; 0.01 ) at a slightly higher level of significance than the index snp rs1999805 ( r &gt; 0.9 ) .\\nno other snps correlated with the bmd - related index snps achieved significance levels &lt; 0.01 ( supplementary table 1 ) .\\nwe examined 1,318 snps from nine bmd candidate genes for association with type 2 diabetes and glycemic traits ( supplementary table 1 ) .\\nthirteen snps at the locus itga1 were associated with fasting glucose at significance levels below our prespecified ( bonferroni - corrected ) threshold of 7.7  10 , of which 8 were below the study - wide significance threshold ( table 3 and fig .\\n2 ) . by assembling an in silico replication sample of 19,417 individuals , we achieved &gt; 75% power (  = 0.05 ) to detect 1 sd difference in fasting glucose .\\ntherefore , the top 13 itga1 snps were examined for association with fasting glucose in the 12 additional cohorts .\\nthe major c allele of snp rs6867040 was nominally associated with higher fasting glucose ( p = 0.03 ) in a directionally consistent manner . none of the 13 snps reached genome - wide significance ( p &lt; 5  10 ) in the combined meta - analysis ( table 3 ) .\\nit is notable that variants in this locus , itga1 , were noted to be among the top 10 most significant associations for five additional traits : type 2 diabetes , fasting insulin , homa - b , and 2-h glucose and insulin levels ( table 4 ) .\\nsnps in itga1 associated with fasting glucose stage 1 and taken forward for replication snps at bmd - associated itga1 associated with fasting glucose .\\nthirteen snps ( red diamonds ) in itga1 were associated with fasting glucose levels ( p &lt; 7.7  10 ) in the magic discovery cohorts , with 1 snp ( rs6867040 ) replicating at nominal significance ( p &lt; 0.05 ) in 12 replication cohorts .\\nsnp rs13179969 ( blue diamond ) ( itga1 ) was associated with lumbar spine bmd in gefos at 9.6  10 ( 20 ) .\\ntop 10 bmd - related snps , direction of effect , and level of significance for association with type 2 diabetes and glycemic traits to investigate the mechanism by which itga1 might influence type 2 diabetes and related traits , we examined the effect of these 13 snps on cis - gene expression of itga1 in liver and adipose tissue using eqtl analysis .\\nitga1 expression was measured in adipose tissue using a 50base pair probe ( chromosome 5:52,284,98652,285,035 ) available on the illumina array and in liver tissue with a set of probes covering the length of the itga1 region ( including the gene pelo ) on the affymetrix array .\\nthe major allele of six snps was associated with increased expression (  ranged from 0.089 to 0.107 [ se 0.0430.044 ] ) of itga1/pelo in liver tissue at p &lt; 0.05 , but no snps were associated with itga1 expression in adipose tissue ( table 5 ) . of note , in adipose tissue , the major alleles of the 13 snps were highly associated with lower pelo expression ( effect estimates 0.05 [ se 0.01 ] , lowest p &lt; 2.0  10 ) . to determine whether pelo or itga1 gene expression was driving the association seen in liver tissue of the itga1 expression , we examined probes for each exon individually .\\nwe noted that for all of the genetic variants , the snps appeared to have a stronger association with the itga1-specific probes than pelo - specific probes ( an example figure of one of the snps , rs10512997 , is provided in the supplementary data ) .\\nitga1 and pelo are both expressed in liver , adipose , and pancreatic islets , although itga1 appears to have higher expression in these tissues ( supplementary data ) .\\nassociation of itga1 genetic variation with itga1 rna expression and bmi we examined 13 snps in itga1 for association with bmi in the giant consortium and bmd in the gefos consortium .\\nthe major allele of seven snps was associated with higher bmi at p &lt; 0.05 ( table 5 ) . none of these snps were associated with femoral neck and lumbar spine bmd , although they trended toward lowering bmd .\\nby exploring genetic pleiotropy , we revealed a locus that may provide clues to a mechanism underlying the observed epidemiological association between type 2 diabetes and heightened fracture risk .\\nwe compiled a comprehensive list of bmd - related snps composed of genetic variants associated with bmd at levels of genome - wide significance , variants in moderate - to - strong ld with the index snps , and snps in bmd candidate genes . by examining these bmd - related snps for association with type 2 diabetes and glycemic traits\\n, we discovered that snps in the itga1 locus , a bmd candidate gene , are suggestively associated with fasting glucose at study - wide levels of significance .\\nthe major alleles of these 13 highly correlated snps ( ceu hapmap [ utah residents with ancestry from northern and western europe ] r &gt; 0.7 ) consistently raised fasting glucose in the discovery and replication stages .\\nin addition , genetic variants of itga1 appear among the top 10 genetic variants for association with five additional traits : type 2 diabetes , fasting insulin levels , homa - b , 2-h glucose levels , and 2-h insulin levels . the major alleles at these snps appear to be associated with higher itga1 expression in the liver and higher bmi .\\nwe highlight that genetic variation in itga1 may not only explain increased bone fragility but also contribute to fasting glucose levels .\\nitga1 encodes the -1 subunit integrin , which heterodimerizes to form the 11-integrin cell surface receptor for laminin and collagen .\\nthey are also signaling molecules for regulation of apoptosis , gene expression , cell proliferation , invasion and metastasis , and angiogenesis ( 33 ) .\\nless is known about the pelo gene in humans , which overlaps the itga1 sequence at the 5 end ( fig .\\npelo is thought to be involved in mitosis and meiosis ( e.g. , spermatogenesis ) in many tissues ( 34 ) , but its involvement in bone and glucose disease is unknown .\\nthe itga1 locus was initially chosen for our study because it was found to contain an intronic snp , rs13179969 , whose g major allele had been associated with lower lumbar spine bmd at levels of study - wide significance ( p = 9.6  10 ) ( 20 ) .\\nthis snp was not associated with fasting glucose in our study , nor is it in strong ld with the 13 snps followed up in this study ( r &lt; 0.05 , hapmap ceu ) ( fig .\\n2 ) . despite low ld between these snps , they point to a locus , itga1 , in which in vivo and in vitro models have a suggested role in both bone disease and glucose homeostasis .\\nnull itga1 mice have impaired fracture healing and cartilage remodeling ( 35 ) , although it is not yet clear what role this gene product has on bmd or bone structure in animal models .\\nfurthermore , integrins have been examined in an effort to culture and expand human -cells for human transplantation ex vivo ( 36 ) .\\nthe 11-integrins appear to play a role in -cell insulin secretion , migration , and mesenchymal transformation ( 37 ) .\\nfasting glucose is an estimate of hepatic glucose production after an overnight fast and can indicate hepatic and peripheral insulin resistance ( 38 ) .\\nour follow - up gene expression studies suggest that itga1 genetic variation may affect fasting glucose via the liver rather than adipose tissue .\\nwe found that the major alleles of six of the snps tested were correlated with increased hepatic expression of itga1 ( p &lt; 0.05 ) . in addition , the same top three snps were associated with both type 2 diabetes and 2-h insulin level , suggesting that the mechanism may involve insulin resistance .\\nintegrins are thought to play a key role in the evolution of liver fibrosis brought on by inflammation as seen in insulin resistance  associated nonalcoholic steatohepatitis ( 39 ) . in mice , the influence of itga1 and itga2 ( encoding the -2 component of 21-integrin ) on the effect of inflammation on insulin resistance in muscle induced by a high - fat diet has been examined recently ( 40 ) .\\nthe high - fat diet induced extracellular matrix changes by increasing collagen accumulation in muscle .\\nthe itga2 mice on a high - fat diet had lower basal glucose than itga2 mice , suggesting that the extracellular matrix \\ngiven our study s gene expression findings and the role of integrins in the liver in response to inflammation and insulin resistance , further investigation of the liver in itga1 null mice in response to inflammation could reveal more information about the role of itga1 in hepatic glucose production .\\nultimately , our study remains hypothesis generating and highlights a novel locus that links bmd and fasting glucose that warrants further investigation .\\nthis study suggests that itga1 may exhibit genetic pleiotropy through its association with bmd and fasting glucose .\\ntrue pleiotropy is difficult to confirm , especially if a causal relationship exists between fasting glucose and bmd , as such a finding suggests the possibility of a mediating effect of one phenotype on the other .\\nthe evidence of such a causal relationship between fasting glucose and bone density is not completely consistent .\\nalthough in vitro studies show that chronic hyperglycemia may impair osteoblast function ( 41,42 ) , clinical studies demonstrate that individuals with type 2 diabetes have lower bone turnover ( 43 ) , which usually indicates a more optimal skeletal state . on the other hand ,\\nthose with poorly controlled diabetes have been shown to have improvement in bmd measured by bone densitometry after 1 year of tightened control ( 44 ) .\\ntherefore , it is not possible to clearly establish a direct link between hyperglycemia and bmd ( 45 ) .\\nlikewise , if there was a common intermediate phenotype driving the relationship between bmd and fasting glucose , then our findings may not indicate true genetic pleiotropy .\\nbmi could be considered a potential intermediate phenotype because it is correlated with both type 2 diabetes pathogenesis and bmd ( 46,47 ) .\\nwe examined the itga1-related snps for association with bmi in the giant consortium ( 32 ) .\\nseveral of the variants reached a nominal level of significance ( lowest p = 0.007 ) for association with bmi ( table 4 ) .\\nthese data suggest that itga1 may act on bmd or fasting glucose through the intermediate phenotype of bmi .\\nalthough the itga1 locus has not been associated with bmi in the past , the intronic snp rs7723398 ( r &lt; 0.3 per ceu with the snps followed up in this study ) has been found to be associated with another anthropometric trait , brachial circumference ( p = 9.7  10 ) , in a croatian population ( 48 ) .\\nthe strengths of our study include the comprehensive bone - related snp selection from recently published gwas data and the ability to test them in very large , well - phenotyped type 2 diabetes and glycemic traits consortia .\\nwe were able to replicate our findings from the discovery phase in an additional 19,000 individuals .\\nour results may help explain the , as yet not quite well understood , epidemiological link between type 2 diabetes and bone disease .\\nthis study has highlighted the necessity to examine genetic variants not reaching the genome - wide significance threshold because this may uncover potential findings buried in the p value distribution .\\ngiven that the magic discovery dataset has been published since the completion of our analyses , further studies like ours can be pursued ( www.magicinvestigators.org ) .\\nfurthermore , the bmd - related locus that was associated with fasting glucose was selected from a candidate gene study .\\nthis illustrates the importance of examining candidate genes in discovering genetic pleiotropy rather than solely examining loci associated at levels of genome - wide significance .\\nwe are limited by having chosen snps from gwass examining only bmd . even though bmd is predictive of fracture in people with type 2 diabetes ( 10 ) ,\\nstudies show that individuals with type 2 diabetes have a higher risk of fracture despite higher bmd in general ( 4 ) . by examining genetic variants related to bmd\\nonly , we may miss the non  bmd related genetic contribution to fracture risk . in addition , our findings do not explain the observed paradox of generally higher bmd and yet higher fracture risk among people with type 2 diabetes ( 4 ) .\\na direct genetic test of this paradox using itga1 snps is not possible because the snps that influence fasting glucose and bmd at this locus are not correlated . in addition\\n, a follow - up study examining fracture - related genetic variants for association with type 2 diabetes and glycemic traits will be warranted when large fracture gwass become available . in a similar manner , the examination of glycemia - related snps for association with bmd and fracture phenotypes may further explain the relationship between bone disease and type 2 diabetes , and these studies are currently under way . despite the large sample size , none of the snps reached genome - wide significance in the combined analysis .\\nwe may need a larger sample size to determine if the itga1 snps that were associated with fasting glucose will replicate in other populations and attain genome - wide significance because our replication sample may have been too small to detect the association found in the discovery stage .\\nwe estimate that we need an additional 12,000 participants to see an association between the itga1 snps and fasting glucose at the same effect sizes seen in the discovery stage . fortunately ,\\nongoing deployment of the custom - made metabo - chip ( comprising &gt; 200,000 snps related to cardiovascular disease , obesity , and type 2 diabetes ) across many thousands of samples with relevant phenotypes may provide sufficient power to uncover novel associations at genome - wide significance levels .\\nthe itga1 snps rs6881900 and rs10940273 , found to be associated with fasting glucose in our study , are present in the metabo - chip .\\nthis provides an exciting opportunity to understand the relationship of itga1 with glycemic traits , as well as other metabolic phenotypes in cardiovascular disease and obesity .\\nin sum , we have identified a new locus candidate , itga1 , influencing both fasting glucose and bmd , that may begin to explain the genetic contribution to the epidemiological observations linking type 2 diabetes and osteoporosis . the ongoing analysis of metabo - chip genotypes across large samples will help determine if itga1 proves to be a new locus associated with fasting glucose at levels of genome - wide significance .\\nnew insights into the genetic pleiotropy of both disease states may further underscore the link between skeletal and glucose metabolism , highlight the complexity of this relationship , provide a focus for future investigations , raise awareness for adverse effects in one system while treating another , and reveal potential targets for disease therapies in both diseases .</td>\n",
              "      <td>RESEARCH DESIGN AND METHODS\\nSNP selection.\\nStudy populations.\\nTesting for association.\\nFollow-up strategy.\\nRESULTS\\nDISCUSSION\\nSupplementary Material</td>\n",
              "    </tr>\n",
              "    <tr>\n",
              "      <th>1</th>\n",
              "      <td>rnai by short hairpin rna ( shrna ) is a powerful tool not only for studying gene functions in various organisms , including mammals , but also for the treatment of severe disorders . \\n however , shrna - expressing vectors can induce type i interferon ( ifn ) expression by activation of innate immune responses , leading to off - target effects and unexpected side effects . \\n several strategies have been developed to prevent type i ifn induction . \\n on the other hand , it has remained unclear whether type i ifns have effects on shrna - mediated rnai . here , \\n we show that the type i ifns significantly inhibit shrna - mediated rnai . \\n treatment with recombinant human ifn- significantly inhibited shrna - mediated knockdown of target genes , while it did not inhibit small interfering rna ( sirna)-mediated knockdown . following treatment with ifn- , \\n increased and decreased copy numbers of shrna and its processed form , respectively , were found in the cells transfected with shrna - expressing plasmids . \\n dicer protein levels were not altered by ifn-. these results indicate that type i ifns inhibit shrna - mediated rnai via inhibition of dicer - mediated processing of shrna to sirna . \\n our findings should provide important clues for efficient rnai - mediated knockdown of target genes in both basic researches and clinical gene therapy .</td>\n",
              "      <td>chemically synthesized small interfering rnas ( sirnas ) or vectors expressing short hairpin rna ( shrna ) are widely used to induce rnai in  vitro and in  vivo not only for gene - function analysis in basic research but also for the treatment of severe disorders due to their superior knockdown efficiencies.1 , 2 , 3 sirnas are transfected into cells using transfection reagents in the form of 21- to 23-bp double - stranded rna ( dsrna ) , whereas shrnas are delivered by non - viral or viral vectors encoding shrna . following the introduction of shrna - expressing vectors into cells ,\\nshrnas are transcribed mainly via the polymerase ( pol ) iii promoter , exported from the nucleus to the cytoplasm by exportin 5 , and processed by the endoribonuclease dicer to sirnas .\\nthe generated sirnas are then incorporated into the rna - induced silencing complex ( risc ) and guide the risc to the target mrna in an sirna - sequence - specific manner , leading to knockdown of the target gene.1 , 2 , 3 among the risc components , argonaute 2 ( ago2 ) cleaves target mrna , while ago1 , ago3 , and ago4 do not possess cleavage activities . following introduction of non - viral and viral vectors into cells , innate immune responses , including type i interferon ( ifn ) responses ,\\nare triggered.5 , 6 the induction of type i ifn responses results in upregulation of a large number of ifn - stimulated genes ( isgs ) , suggesting that expression levels of various non - target genes as well as target genes are altered by type i ifns .\\nthe type i ifn responses might affect shrna - mediated rnai by positively or negatively regulating the rnai pathway . in this study , we demonstrate that the type i ifns significantly inhibit shrna - mediated rnai via inhibition of dicer - mediated processing of shrna to sirna , although sirna - mediated knockdown was not impeded by type i ifns .\\nthese data suggest that care should be taken when using shrna - expressing vectors in either basic research or clinical gene therapy , since they can induce type i ifn production that may in turn inhibit the knockdown efficiencies of shrnas .\\nin order to examine whether type i ifn expression was induced following introduction of shrna - expressing plasmids and sirnas , a549 and h1299 cells were transfected with a plasmid expressing shrna against luciferase ( shluc ) ( phmu6-shluc ) or a control sirna ( sicontrol ) .\\nqrt - pcr analysis showed that transfection with the shluc - expressing plasmid significantly induced high levels of ifn- and isg expression ( figures 1a and 1b ) , whereas significant levels of upregulation of ifn- and isg expression were not found following transfection with the sicontrol ( figures 1c and 1d ) .\\nnext , we examined whether an shrna - expressing plasmid would induce type i ifn responses in  vivo .\\nintramuscular administration of the shluc - expressing plasmid induced high levels of ifn expression ( more than 100-fold compared to the pbs - administered group ) ( figure  1e ) .\\nthese results indicate that introduction of shrna - expressing plasmids , but not sirnas , induces type i ifn responses , leading to elevation in isg expression levels . in order to examine whether type\\ni ifns affect shrna - mediated knockdown efficiencies , h1299 and a549 cells were transfected with shrna - expressing plasmids , followed by treatment with recombinant human ifn-. the cell viabilities ( figure  s2 ) and transfection efficiencies , which were assessed by the percentages of gfp - positive cells following transfection with a gfp - expressing plasmid ( figure  s3 ) , were not significantly altered after 43-hr exposure to 10 u / ml ifn-. in h1299 cells , transfection with an shrna against c - myc ( shmyc)-expressing plasmid ( phmu6-shmyc ) led to significant knockdown of the c - myc gene in the absence of ifn- stimulation ( figures 2a and 2b ) .\\nsurprisingly , c - myc - knockdown efficiencies were reduced by 35% when cells were treated with ifn- ( figure  2a ) . in agreement with the shrna - mediated alteration of c - myc mrna levels , knockdown of c - myc at the protein level\\nmrna and protein levels of c - myc were not significantly altered after treatment with 10 u / ml ifn- ( figures 2a and 2b ) .\\nthe reduction in the knockdown efficiencies of phmu6-shmyc by ifn- was dependent on the doses of ifn- ( figure  2c ) .\\nifn- inhibited target gene knockdown in a549 cells when mediated not only by shmyc but also by shrna against p53 ( shp53 ) ( figures 2d and 2e ) .\\ntreatment with recombinant human ifn- , which is another type i ifn , also inhibited shmyc - mediated knockdown in h1299 cells ( figure  3a ) . on the other hand\\n, a type ii ifn ( ifn- ) did not alter the knockdown efficiencies of an shmyc - expressing plasmid , although a slight but statistically significant inhibition of shmyc - mediated knockdown was found following treatment with tumor necrosis factor  ( tnf- ) , which is a representative inflammatory cytokine ( figure  3b ) .\\nnext , in order to examine whether the results described above were found only when the u6 promoter was used as an shrna - expressing promoter , we tested a plasmid containing an h1-promoter - driven shmyc - expression cassette ( phmh1-shmyc ) .\\ntreatment with ifn- significantly inhibited shmyc - mediated knockdown of the c - myc gene following transfection with phmh1-shmyc ( figures 4a and 4b ) , suggesting that type i ifns inhibit knockdown by an shrna driven by any type of pol iii promoter .\\nthese results suggest that type i ifns inhibit shrna - mediated knockdown , at least within 43  hr after type i ifn treatment . following transfection with shrna - expressing plasmids ,\\nan shrna is transcribed and processed to sirna by dicer , leading to the knockdown of target genes .\\nwe next examined the effects of type i ifns on chemically synthesized sirna - mediated knockdown .\\nwhen a549 cells were transfected with an sirna against p53 ( sip53 ) , followed by incubation in the presence of recombinant human ifn- , p53 was significantly knocked down at comparable levels in the presence or absence of ifn- ( figure  5a ) .\\nsimilar results were found in an sirna against c - myc ( simyc)-transfected cells ( figure  5b ) .\\nthese results suggest that type i ifns do not inhibit sirna - mediated knockdown and that steps before the incorporation of sirna into risc are impaired by type i ifns .\\nnext , in order to examine the copy numbers of shrna and the processing product , sirna , northern blotting analysis was performed following transfection with shrna - expressing plasmids .\\ncopy numbers of shp53 and shmyc were increased by ifn- stimulation in h1299 cells transfected with shp53- and shmyc - expressing plasmids , respectively ( figure  6a ) .\\nin contrast , ifn- stimulation reduced the copy numbers of the sip53 and simyc , which were produced from shp53 and shmyc , respectively , by dicer - mediated processing ( figure  6a ) .\\nqrt - pcr analysis also demonstrated that ifn- treatment led to significant decreases in the copy numbers of simyc in h1299 cells following transfection with an shmyc - expressing plasmid ( figure  6b ) .\\nsignificant reductions in the copy numbers of simyc and sip53 were also found in ifn--stimulated a549 cells following transfection with shmyc- and shp53-expressing plasmids , respectively ( figure  s4 ) .\\nthese results suggest that type i ifns inhibit the processing of shrna to sirna . similarly to the processing of shrna to sirna , microrna ( mirna ) is also processed from precursor mirna ( pre - mirna ) to mirna by dicer . in order to examine whether type i ifns\\nalso inhibit the processing of pre - mirna to mirna , we examined the copy numbers of the representative mirnas let-7a , mir-27a , and mir-17 following ifn- stimulation by northern blotting and qrt - pcr analyses and found that ifn- stimulation hardly reduced the copy numbers of these mirnas ( figure  s5 ) .\\nprocessing of shrna is mediated by a complex composed of dicer , ago2 , and other proteins , including the dsrna - binding protein trbp.7 , 8 in order to examine whether the expression levels of dicer , ago2 , and trbp were altered after ifn- stimulation , the expression levels of dicer , ago2 , and trbp in ifn--stimulated cells were determined by qrt - pcr and western blotting analyses .\\nneither dicer nor ago2 expression was altered by ifn- stimulation at the mrna or protein level ( figures 7a and 7b ) .\\ntrbp protein levels were also not altered by ifn- stimulation ( figure  7c ) .\\nrecently , it was reported that ago2 is modified by poly - adp - ribose after viral infection , leading to a decrease of the rnai activity;9 , 10 however , ifn- stimulation did not appear to elevate the levels of poly - adp - ribosylated ago2 in this study ( figure  s6a ) .\\nsimilar levels of mobility shift of ago2 were observed in the presence and absence of ifn- by western blotting analysis using phos - tag gels , indicating that the phosphorylation levels of ago2 were comparable between the ifn--treated group and vehicle - treated group ( figure  s6b ) .\\nthese results suggest that the expression levels of dicer , ago2 , and trbp , which are representative components of the rnai pathway , are not significantly affected by ifn- stimulation .\\ndsrna - dependent protein kinase ( pkr ) is rapidly upregulated by type i ifns at the mrna and protein levels ( figures s1a and s7a ) .\\ntrbp , which supports dicer function , binds to pkr and functions as an inhibitor of pkr , raising the possibility that pkr might capture trbp and competitively impair its ability to process an shrna following type - i - ifn - mediated upregulation of pkr .\\nwe evaluated the processing efficiencies of an shrna to an sirna in pkr - knockdown cells in order to examine the involvement of pkr in type i ifn - mediated inhibition of the processing of an shrna .\\ncomparable levels of sip53 were produced from shp53 in pkr - knockdown cells with or without ifn- treatment ( figure  s7b ) , indicating that sirna - mediated pkr knockdown did not cancel the ifn--mediated inhibition of the processing of an shrna .\\nthese results suggest that pkr has no effect on type i ifn - mediated inhibition of the processing of an shrna .\\nthe adenovirus ( ad ) vector is a powerful framework for shrna - mediated knockdown due to its superior transduction efficiencies.12 , 13 , 14 we examined whether an shrna - expressing ad vector would induce type i ifn responses . intravenous administration of an ad vector expressing shluc ( ad - shluc ) induced 500-fold higher levels of expression of ifn- in the spleen compared with administration of pbs ( figure  8a ) . in order to examine whether type i ifns inhibit the knockdown efficiencies of ad vectors expressing shrna , a549 cells were transduced with an ad vector expressing shp53 ( ad - shp53 ) , followed by treatment with recombinant human ifn-. the transduction efficiencies of the ad vector were not altered by treatment with ifn- ( figure  s8 ) .\\nthe copy numbers of the sirna produced by processing from shp53 were significantly reduced following ifn- stimulation in the cells following transduction with ad - shp53 ( figure  8b ) .\\nan 15% decrease in the knockdown efficiencies of ad - shp53 was observed following treatment with ifn- ( figure  8c ) .\\nad - shp53-mediated knockdown of p53 protein was also inhibited by ifn- stimulation ( figure  8d ) .\\nthese results suggest that type i ifns also inhibit ad - vector - expressing shrna - mediated knockdown via inhibition of the processing of shrna to sirna .\\nthe aim of this study was to investigate the effects of type i ifns on shrna - mediated rnai and to provide insights that could lead to more efficient knockdown by shrna .\\nthe results showed that type i ifns inhibit the processing of shrna to sirna ( figure  4 ) , leading to a reduction in the knockdown efficiencies of shrna - expressing plasmids ( figures 1 and 2 ) and shrna - expressing ad vectors ( figure  6 ) . on the other hand , synthetic sirna - mediated knockdown of target genes\\nthis study demonstrated that ifn- treatment leads to apparent inhibition of the processing of shrna to sirna ( figure  4 ) .\\nseveral previous studies also suggested that the rnai pathway was negatively regulated by innate immune responses .\\nreported that treatment with type i ifn or transfection with poly(i : c ) , a synthetic analog of double - stranded rna that strongly induces type i ifn production , suppressed dicer protein levels in the trophoblast cells ; however , they did not examine whether the dicer expression levels were suppressed by type i ifns in other types of mammalian cells .\\nwe demonstrated that mrna and protein levels of dicer were not significantly reduced by ifn- stimulation in h1299 and a549 cells ( figures 5a and 5b ) .\\ntype - i - ifn - mediated suppression of dicer expression might occur only in limited types of cells .\\ndemonstrated that infection with sendai virus and herpes simplex virus leads to a reduction in mammalian rnai activity via modification of ago2 by poly - adp - ribose and that this effect is mediated by rig - i / mitochondrial anti - viral signaling adaptor ( mavs)-dependent signaling .\\nthe rig - i - mavs pathway is involved in type i ifn production following virus infection ; however , we demonstrated that ifn- stimulation did not significantly induce the ribosylation of ago2 by poly - adp ( figure  5c ) .\\nthis suggests that the modification of ago2 by poly - adp - ribose is triggered not by the type i ifn production pathway but by other downstream pathways via rig - i - mavs signaling .\\nseveral studies have demonstrated that type i ifn responses are induced following introduction of sirna and shrna.17 , 18 however , transfection with an sirna did not also induce detectable levels of ifn responses in the cultured cells in this study ( figures 1c and 1d ) .\\nprevious studies also demonstrated that introduction of sirna alone did not induce type i ifn expression.19 , 20 sirna - induced type i ifn responses would be caused under restricted situations . on the other hand , introduction of an shrna - expressing plasmid significantly induced type i ifn responses ( figures 1a , 1b , and 1e ) .\\nthe type i ifn responses induced by the shrna - expressing vector might affect the knockdown efficiencies of shrnas .\\nas shown in figure  s5a , processing of pre - mirnas was hardly affected by ifn- treatment .\\nthis might have been due to the high processing efficiency of pre - mirnas to mature mirnas .\\nas shown in figure  s5a , pre - let-7a , -mir-27a , and -mir-17 were not significantly detected by northern blotting analysis , whereas detectable levels of mature let-7a , mir-27a , and mir-17 were found .\\nthese results suggest that ifn- did not sufficiently inhibit pre - mirna processing under this condition and that the ifn--mediated inhibition of the processing of shrna was different from that of pre - mirna .\\nviral and non - viral vectors expressing an shrna are a promising agent for severe disorders .\\nvarious pre - clinical studies using shrna - expressing vectors have been reported.1 , 2 , 3 for example , several studies demonstrated that shrnas against mrnas of hepatitis b virus ( hbv ) and hepatitis c virus ( hcv ) efficiently inhibited the virus replication in culture cells and in mice.21 , 22 , 23 on the other hand , treatment with pegylated ifn- ( peg - ifn ) is often chosen for therapy against persistent infection with hbv and hcv.24 , 25 , 26 the combination of therapies with peg - ifn and shrna against hbv and hcv should be performed with caution , because peg - ifn inhibits the therapeutic efficacy of shrna against hbv and hcv .\\nviral and non - viral vectors expressing an shrna have also been widely tested as potential anti - cancer agents . on the other hand ,\\nifn therapy has been demonstrated to mediate significant tumor regression and is now in clinical use .\\nthe drug packaging insert for peg - ifn ( pegintron , msd ) reported that 10 u / ml of ifn- was detected in the serum following repetitive administration of peg - ifn in patients with hbv , hcv , or melanoma ( http://database.japic.or.jp/pdf/newpins/00050436.pdf ) .\\npepinsky et  al . also reported that following intravenous administration of peg - ifn to rhesus monkeys , 1010 u / ml peg - ifn was observed by 24  hr post - administration . in this study ,\\nthe knockdown efficiencies of the shrnas were reduced when cells were treated with ifn- at more than 10 u / ml ( figure  2c ) .\\nwe should exercise care when applying shrna - expressing vectors to patients undergoing an ifn therapy or other therapies associated with the production of type i ifns .\\nwe and other groups have demonstrated that ad vectors have numerous advantages as a delivery vehicle of shrna.12 , 13 , 14 for example , ad vectors can efficiently transduce dividing and non - dividing cells , and high titers of ad vectors are easily obtained .\\nhowever , in spite of their superior transduction profiles , especially in  vivo , the knockdown efficiencies of shrna - expressing ad vectors are not higher than expected .\\none of the reasons for this fact is that va - rnas , which are small rnas transcribed from the ad genome , inhibit shrna - mediated knockdown.14 , 30 our present investigations reveal another reason : the type - i - ifn - mediated inhibition of shrna processing .\\na number of previous reports demonstrated that the administration of ad vectors can trigger severe innate immune responses associated with high levels of production of type i ifns.5 , 31 type i ifn production following treatment with an ad vector leads to the inhibition of ad - vector - mediated rnai .\\nin order to avoid the potential inhibition of ad - vector - mediated rnai efficacy by type i ifns , a promising approach would be to deliver shrnas using ad vectors that were engineered to reduce ad - vector - induced innate immune responses .\\nthus , a helper - dependent ad ( hd - ad ) vector , in which all the ad genes are deleted , would be promising as an shrna delivery vector , since an hd - ad vector has been shown to attenuate innate and adaptive immune responses . in this study ,\\nifn--mediated inhibition of the knockdown efficiencies of shmyc was statistically significant , but not larger than expected based on the level of ifn--mediated reduction in simyc copy numbers ( figure  2a ) .\\nmore than 50% reduction in simyc copy numbers was observed after ifn- treatment ( figure  6b ) .\\neven if the simyc copy numbers were in fact reduced to this degree , sufficient levels of simyc for knockdown of c - myc were produced in ifn--stimulated cells .\\nin addition , the effects of type i ifns on shrna - mediated rnai differ between cell types , target genes , and delivery vectors . in summary\\n, we have demonstrated that type i ifns inhibit shrna - mediated rnai via inhibition of the processing of shrna to sirna .\\nthis study suggests that it is important to avoid ifn responses for the efficient knockdown of target genes not only in basic research but also in medical studies .\\nhek293 ( a transformed embryonic kidney cell line ) and a549 ( a human lung adenocarcinoma epithelial cell line ) cells were cultured in dmem supplemented with 10% fetal bovine serum ( fbs ) , streptomycin ( 100  g / ml ) , and penicillin ( 100  u / ml ) .\\nh1299 ( a non - small cell lung carcinoma cell line ) cells were cultured in rpmi 1640 supplemented with 10% fbs , streptomycin ( 100  g / ml ) , and penicillin ( 100  u / ml ) .\\nthe mouse experimental procedures used in this study were approved by the animal experimentation committee of osaka university and performed in accordance with the institutional guidelines for animal experiments at osaka university .\\nthe plasmids expressing shrna against luciferase ( shluc ) , p53 ( shp53 ) , and c - myc ( shmyc ) were previously constructed.12 , 33 briefly , in order to insert the sequences that encode shluc , shp53 , and shmyc , the corresponding oligonucleotides were synthesized , annealed , and cloned under the human u6 and h1 promoter sequences in the two types of plasmids , phm5-u6 and -h1,12 , 33 resulting in phm - u6-shluc , -u6-shp53 , -u6-shmyc , phm - h1-shluc , -h1-shp53 , and -h1-shmyc .\\nthe ad vectors expressing shluc and shp53 under the human u6 promoter ( ad - shluc and -shp53 , respectively ) were previously prepared by an in  vitro improved ligation method.14 , 35 , 36 the ad vector expressing gfp ( ad - gfp ) was also previously prepared .\\nthese ad vectors were amplified in hek293 cells and purified by two rounds of cesium - chloride - gradient ultracentrifugation , dialyzed , and stored at 80c .\\ndetermination of infectious units ( ifu ) was accomplished using an adeno - x rapid titer kit ( clontech laboratories ) .\\ncontrol sirna ( sicontrol ) was purchased from qiagen ( allstars negative control sirna , qiagen ) .\\nsip53 , simyc , and sirna against pkr ( sipkr ) were obtained from gene design .\\nthe target sequences of sip53 , simyc , and sipkr were 5-ctacttcctgaaaacaacg-3 , 5-gatgaggaagaaatcgatg-3 , and 5-ggtgaaggtagatcaaaga-3 , respectively .\\ncells were transfected with sirnas at 50  nm or shrna - expressing plasmids at doses identical to those of the control plasmids using lipofectamine 2000 ( life technologies ) according to the manufacturer s instructions .\\nafter 5-hr incubation , cells were treated with recombinant cytokines , including ifn- , and incubated for a total of 48  hr .\\ncells were transfected with sirnas or shrna - expressing plasmids or were transduced with ad vectors at the indicated titers .\\nafter 5-hr incubation , the cells were treated with recombinant ifn- and incubated for a total of 48  hr .\\ncdna was synthesized using 500  ng total rna with a superscript vilo cdna synthesis kit ( life technologies ) .\\nreal - time rt - pcr analysis was performed using fast sybr green master mix ( life technologies ) and a steponeplus real - time pcr system ( life technologies ) as previously described .\\nsirna copy numbers were determined by qrt - pcr using mir - x mirna first - strand synthesis and sybr qrt - pcr ( clontech - takara ) and primers specific for the sip53 and simyc .\\n100  g shluc - expressing plasmid ( phmu6-shluc ) and 4   10 ifu ad - shluc were intramuscularly and intravenously administered to mice , respectively .\\ntotal rna was extracted from the muscles and spleens 3  hr after intramuscular and intravenous administration , respectively .\\nbriefly , whole - cell extracts were prepared and electrophoresed on 10% sds - polyacrylamide gels under reducing conditions , followed by electrotransfer to polyvinylidene fluoride ( pvdf ) membranes ( millipore ) .\\nafter blocking with 5% skim milk prepared in tbs - t ( tween-20 , 0.1% ) , the membrane was incubated with primary antibodies ( table s2 ) , followed by incubation in the presence of horseradish peroxidase ( hrp)-labeled anti - rabbit or anti - mouse immunoglobulin g ( igg ) antibody ( cell signaling technology ) .\\nphosphorylation levels of ago2 were determined by western blotting analysis using phos - tag polyacrylamide gels ( wako ) , as previously described .\\nafter electrophoresis , bands of rna were transferred to hybond - n+ membranes ( roche ) .\\nthe membranes were then probed with p - labeled synthetic oligonucleotides that were complementary to the sequence of sip53 , simyc , let-7a , or human u6 small nuclear rna ( sip53 : 5-gactccagtggtaatctac-3 ; simyc : 5-gatgaggaagaaatcgatg-3 ; let-7a : aactatacaacctactacctca ; u6 : 5-tgctaatcttctctgtatcgt-3 ) .\\nwhole - cell extracts were prepared from ifn--stimulated cells , and ago2 was immunoprecipitated using a mouse anti - ago2 antibody ( table s2 ) and a microrna isolation kit ( human ago2 ) ( wako ) .\\nafter immunoprecipitation , poly - adp - ribosylation levels of the immunoprecipitated ago2 were determined by western blotting analysis using a mouse anti - padpr antibody ( table s2 ) .\\nm.m . designed and performed the experiments , analyzed data , and wrote the manuscript ; f.s . designed and supervised the projects , analyzed data , and wrote the manuscript ; k.w . and k.t . supported the experiments ; m.t . analyzed data ; and h.m . supervised the projects , interpreted data , and wrote the manuscript .</td>\n",
              "      <td>Introduction\\nResults\\nDiscussion\\nMaterials and Methods\\nAuthor Contributions\\nConflicts of Interest</td>\n",
              "    </tr>\n",
              "    <tr>\n",
              "      <th>2</th>\n",
              "      <td>introductionneurofibromatosis type 1 ( nf1 ) is an autosomal dominant disorder , with multisystem involvement , including cutaneous manifestations of hyperpigmentation and neurofibromas . \\n multiple cutaneous lesions are often disfiguring and lead to emotional distress and social isolation . \\n treatment of nf1 is predominantly surgical but alternative treatments should be considered for patients with large numbers of lesions as cold steel excision of multiple lesions can be cumbersome and may not be practical . \\n the authors report a series of patients with multiple neurofibromas successfully treated using a co2 laser.methodsdata on co2 laser treatments , follow - up , and recurrence following treatment was collected retrospectively . \\n a post - treatment telephone survey was carried out to assess patient satisfaction using a standardized set of questions and a scoring tool.resultsfive of seven patients who underwent co2 laser treatment of their multiple neurofibromas responded to the post - treatment survey . \\n all five patients ( age range 3656  years , mean age 45.2  years , three men : two women ) had multiple variable - sized neurofibromas . \\n the mean number of lesions per patient was 114 ( range 20200 lesions ) . \\n the mean number of treatment sessions was 2.2 ( range 14 sessions ) and mean follow - up was 14.4  months ( range 624  months ) . \\n three patients ( 60% ) reported no recurrence up to 2  years post - laser treatment . \\n two patients ( 40% ) had recurrences of a few lesions ( 10% of treated lesions per patient ) . \\n the mean patient satisfaction score was 9.2 out of 10 ( range 810 ) . \\n all patients mentioned that they would recommend co2 laser treatment to others with multiple neurofibromas . \\n hypopigmentation or depigmentation at treatment sites were the only reported adverse effects.conclusionbased on current results , the authors feel that co2 laser treatment achieves a high level of patient satisfaction with a low recurrence of treated lesions .</td>\n",
              "      <td>neurofibromatosis type 1 ( nf1 ) , formerly known as von recklinghausen s disease , is an autosomal dominant inherited condition with an incidence of 1:2,5001:3,000 , and a prevalence of 1:4,0001:5,000 .\\nclinical manifestations of nf1 involve multiple systems , including the nervous system , bone , and skin , with patients developing manifestations of hyperpigmentation and neurofibromas .\\nthe national institute of health ( nih ) consensus development conference have determined the diagnostic criteria for nf1 , which requires two or more of the following : six or more caf au lait macules ; two or more cutaneous / subcutaneous neurofibromas , or one plexiform neurofibroma ; axillary / groin freckling ; optic glioma ; two or more lisch nodules in the eyes ; bony dysplasia ; and a first - degree relative with nf1 .\\ncutaneous neurofibromas can affect any part of the body and can vary in size , number , and distribution .\\nsignificant disfigurement can result from the growth of hundreds of cutaneous neurofibromas , leading to social isolation and emotional distress .\\ntreatment of cutaneous neurofibromas is predominantly surgical but alternative treatments need to be considered for patients with multiple lesions often in excess of 100 , in whom surgical intervention may not be possible or desirable .\\nthe co2 laser has been shown to be effective in treating large numbers of small - to - medium sized neurofibromas with cosmetic outcomes equal to or even better than surgical excision [ 2 , 7 ] . however , evidence for co2 effectiveness , effect of treatment on patient satisfaction , and rate of recurrence post - treatment is scarce .\\nthe authors evaluated a series of patients with multiple neurofibromas that were successfully treated using co2 laser treatment under general anesthetic , and assessed patient satisfaction with the treatment and rate of recurrence post - treatment .\\nthe authors inclusion criteria included patients who were diagnosed with nf1 , fulfilled the nih consensus development conference nf1 diagnostic criteria , had more than 100 neurofibromas of varying sizes , and were treated with co2 laser treatment over the last 4  years .\\ninformed consent was obtained from five patients ( 71% response rate ) for a post - treatment telephone survey .\\nall patients underwent test patches with the co2 laser and were reviewed at 36  months when the results were assessed .\\nthe sharplan 40 c silktouch laser ( laser industries ltd . , tel aviv , israel ) was used in its freehand continuous mode ( 1020  w with rapid side - to - side hand movements ) or in scanner settings ( 125  mm hand piece , 714  w , 3  mm spot ) to ablate the small neurofibromas .\\nthe incision was then extended as the neurofibroma was held with forceps and the entire dumbbell - shaped lesion was excised using the laser .\\nbleeding was rarely encountered and was easily controlled using the defocused laser beam or vicryl ( johnson &amp; johnson , nj , usa ) .\\npostoperatively , antibacterial ointment ( mupirocin , bactroban ; smithkline beecham corporation , philadelphia , pa , usa ) was applied under hydrocolloid dressings as the laser wounds healed with secondary intention .\\nwounds that were considered large enough for delayed secondary intention healing were sutured with vicryl .\\nall patients were followed up 3 and 6  months later to review the wound , scarring , and cosmetic outcome of treated neurofibroma lesions .\\nfive patients completed the post - treatment telephone survey , which was conducted by the same doctor .\\npatients were asked to rate their satisfaction of co2 laser treatment ( score 010 ) and whether they would recommend co2 laser treatment to other patients .\\nretrospective data on co2 laser treatments , follow - up , and recurrence following treatment was obtained .\\nthe authors inclusion criteria included patients who were diagnosed with nf1 , fulfilled the nih consensus development conference nf1 diagnostic criteria , had more than 100 neurofibromas of varying sizes , and were treated with co2 laser treatment over the last 4  years .\\ninformed consent was obtained from five patients ( 71% response rate ) for a post - treatment telephone survey .\\nall patients underwent test patches with the co2 laser and were reviewed at 36  months when the results were assessed .\\nif satisfactory , patients were then invited for co2 laser treatment under general anesthetic . the sharplan 40 c silktouch laser ( laser industries ltd . , tel aviv , israel ) was used in its freehand continuous mode ( 1020  w with rapid side - to - side hand movements ) or in scanner settings ( 125  mm hand piece , 714  w , 3  mm spot ) to ablate the small neurofibromas .\\nthe incision was then extended as the neurofibroma was held with forceps and the entire dumbbell - shaped lesion was excised using the laser .\\nbleeding was rarely encountered and was easily controlled using the defocused laser beam or vicryl ( johnson &amp; johnson , nj , usa ) .\\npostoperatively , antibacterial ointment ( mupirocin , bactroban ; smithkline beecham corporation , philadelphia , pa , usa ) was applied under hydrocolloid dressings as the laser wounds healed with secondary intention .\\nwounds that were considered large enough for delayed secondary intention healing were sutured with vicryl .\\nall patients were followed up 3 and 6  months later to review the wound , scarring , and cosmetic outcome of treated neurofibroma lesions .\\nfive patients completed the post - treatment telephone survey , which was conducted by the same doctor .\\npatients were asked to rate their satisfaction of co2 laser treatment ( score 010 ) and whether they would recommend co2 laser treatment to other patients .\\nretrospective data on co2 laser treatments , follow - up , and recurrence following treatment was obtained .\\nall patients had more than 100 neurofibromas of varying sizes . the mean age of patients was 45.2 ( age range 3656 ) with a male / female ratio of 3:2 .\\nfour patients had truncal neurofibromas and one had treatment for neurofibromas on facial , neck , and upper limb skin .\\nthe mean follow - up period was 14.4  months ( range 624  months ) .\\nthree patients ( 60% ) had no lesional recurrence 2  years post - co2 laser treatment .\\ntwo patients ( 40% ) had recurrence of a few of the treated lesions ( 10% of treated lesions per patient ) .\\npreoperative and postoperative photos are shown in figs .  1 , 2 and 3 .\\nthe wounds were erythematous for approximately 36  months , and matured into hypopigmented and sometimes atrophic scars . there were no significant complications .\\nall five patients reported that treatment - induced scarring was cosmetically preferable to neurofibroma lesions .\\n1patient 1 . before ( a ) and 6  months after ( b ) excision of neurofibromas with the co2 laserfig . \\n2patient 2 . before ( a ) and 6  months after ( b ) excision of neurofibromas with the co2 laserfig . \\n3patient 3 . before ( a ) and 6  months after ( b ) excision of neurofibromas with the co2 laser patient 1 . before ( a ) and 6  months after ( b ) excision of neurofibromas with the co2 laser patient 2 . before ( a ) and 6  months after ( b ) excision of neurofibromas with the co2 laser patient 3 .\\nbefore ( a ) and 6  months after ( b ) excision of neurofibromas with the co2 laser the mean patient satisfaction score was 9.2 out of 10 ( range 810 ) .\\nall five patients ( 100% ) commented that they would recommend co2 laser treatment to other patients with neurofibromas .\\nall patients had more than 100 neurofibromas of varying sizes . the mean age of patients was 45.2 ( age range 3656 ) with a male / female ratio of 3:2 .\\nfour patients had truncal neurofibromas and one had treatment for neurofibromas on facial , neck , and upper limb skin .\\nthe mean follow - up period was 14.4  months ( range 624  months ) .\\nthree patients ( 60% ) had no lesional recurrence 2  years post - co2 laser treatment .\\ntwo patients ( 40% ) had recurrence of a few of the treated lesions ( 10% of treated lesions per patient ) .\\npreoperative and postoperative photos are shown in figs .  1 , 2 and 3 .\\nthe wounds were erythematous for approximately 36  months , and matured into hypopigmented and sometimes atrophic scars . there were no significant complications .\\nall five patients reported that treatment - induced scarring was cosmetically preferable to neurofibroma lesions .\\n1patient 1 . before ( a ) and 6  months after ( b ) excision of neurofibromas with the co2 laserfig . \\n2patient 2 . before ( a ) and 6  months after ( b ) excision of neurofibromas with the co2 laserfig . \\n3patient 3 . before ( a ) and 6  months after ( b ) excision of neurofibromas with the co2 laser patient 1 . before ( a ) and 6  months after ( b ) excision of neurofibromas with the co2 laser patient 2 . before ( a ) and 6  months after ( b ) excision of neurofibromas with the co2 laser patient 3 . before ( a ) and 6  months after ( b ) excision of neurofibromas with the co2 laser\\nall five patients ( 100% ) commented that they would recommend co2 laser treatment to other patients with neurofibromas .\\nsurgical excision is the standard procedure for removal of lesions , with advantages of a neat linear scar and a specimen for histology .\\nco2 laser treatment is suitable for removing large numbers of neurofibromas in a short time with good cosmetic outcomes and a low complication rate [ 2 , 8 ] .\\nthe current study confirmed that co2 laser treatment under general anesthetic for hundreds of small - to - medium - sized cutaneous neurofibromas has a high patient satisfaction and recommendation rate .\\nprevious studies have demonstrated that co2 laser treatment improved patients self - confidence , social , and sexual lives [ 2 , 8 ] .\\nreported that the depigmented scars from laser treatment were more acceptable to patients than scars from surgical excision , a finding was echoed by patients in the current study .\\npreviously reported physical and psychological benefits following co2 laser are summarized in table  1 [ 2 , 8 ] .\\npatients in the current study reported high satisfaction levels , suggesting that co2 laser treatment can potentially improve patients psychological well-being.table  1comparison of results from the current study with the published literaturestudiesmain findingsmoreno et al .\\n82% reported good level of improvement in symptoms ( e.g. , pain , pruritus ) , and social activity73% reported good level of improvement in sexual activity100% reported good level of improvement from feeling of despair73% satisfaction and recommendation ratealgermissen et al .\\nmost reported an increase in self - confidence and acceptance from the social surroundingchiang et al .\\n( this study)9.2 mean satisfaction score ( score out of 10)100% recommendation rate comparison of results from the current study with the published literature to the authors knowledge , there have been no previous reports of recurrences following co2 laser treatment .\\nthe current study showed that 40% of patients had regrowth of some lesions within 2  years , but these represented 10% of treated lesions per patient .\\npatient skin type and skin color was not documented at the start of treatment and , hence , the authors were unable to assess the potential relationship between post - treatment pigmentary changes and skin color .\\nthere may also be a potential bias with the use of a telephone survey in assessing patient satisfaction levels .\\nin addition , the short follow - up post - treatment in the current study may not allow the authors to fully assess the recurrence of neurofibroma lesions .\\nfuture studies with a larger number of patients , longer follow - up period , and studies that offer comparative data of co2 laser treatment with surgical treatment of cutaneous neurofibromas are needed for further clarification of the effectiveness of co2 laser treatment for cutaneous neurofibromas .\\nthe authors found that co2 laser treatment for cutaneous neurofibromas is associated with a low recurrence rate , achieves a high level of patient satisfaction , and potentially offers a useful alternative to surgical excision , particularly in patients with multiple lesions .\\nthis article is distributed under the terms of the creative commons attribution noncommercial license which permits any noncommercial use , distribution , and reproduction in any medium , provided the original author(s ) and source are credited .</td>\n",
              "      <td>Introduction\\nMaterials and Methods\\nPatients\\nCarbon Dioxide Laser Treatment Procedure\\nData Collection\\nResults\\nClinical Outcomes\\nPatient Satisfaction\\nDiscussion\\nConclusion\\nConflict of interest\\nOpen Access</td>\n",
              "    </tr>\n",
              "    <tr>\n",
              "      <th>3</th>\n",
              "      <td>a rare case of bilateral third cranial nerve palsy due to a ruptured anterior communicating artery aneurysm is presented . \\n a 68-yr - old woman was semicomatose with bilaterally fixed dilated pupil , abducted eyes , and ptosis . \\n a computed tomography demonstrated extensive hemorrhage spreading around the both sylvian and interhemisheric fissure without focal mass effect . \\n intracranial pressure via extraventricular drainage before surgery was 15 - 50 mmhg . \\n three months later , brain mri showed infarction of left posterior cerebral artery territory and lacuna infarction of the pons . \\n eleven months after aneurysm repair , nerve palsy improved slowly and recovered partially . \\n the patient communicated well with simple words . \\n the author reviewed and discussed the possible mechanism of this rare neuro - ophthalmological manifestation in view of a false localizing sign .</td>\n",
              "      <td>the oculomotor nerve dysfunction is a well recognized manifestation of the internal carotid - posterior communicating artery ( ica - pcoma ) junction aneurysm and is considered to be a valuable localizing sign caused by direct pressure on the nerve .\\nremote intracranial aneurysms from the ocular motor system may also occasionally cause ocular motor disturbance , most commonly abducens nerve palsy , which has been known to be simply a false localizing sign due to general intracranial hypertension ( 1 , 2 ) . the author reviewed and discussed the possible mechanism of this rare bilateral third cranial nerve palsy due to a ruptured anterior communicating artery ( acoma ) aneurysm in view of a false localizing sign .\\na 68-yr - old female was found unconscious . she was intubated and ventilated . pulse rate and\\nthere was no history of diabetes mellitus , hypertension , heart disease , stroke , or cancer . on neurological examination , she was semicomatose with flexion to painful stimulation .\\nboth pupils appeared centrally fixed , dilated ( 6 mm ) , and nonreactive to direct or indirect light stimuli .\\ncomputed tomographic ( ct ) scanning demonstrated extensive subarachnoid hemorrhage spreading around the both sylvian , basal , and interhemispheric cistern ( fig .\\ninitial intracranial pressure ( icp ) was 45 mm hg , and subsequently , the pressure remained between 15 and 25 mm hg after intermittent cerebrospinal fluid ( csf ) drainage .\\nseven hours after evd , the right pupil became reactive to light , but left pupil was nonreactive to light with 4 mm in size .\\nafter opening the sylvian fissure , it was observed that the basal cistern was obstructed with clot .\\n, both pupils were dilated ( 6 mm ) with sudden elevation of icp to 50 mm hg during temporary closure of ventricular catheter .\\nthereafter , the right pupil gradually decreased ( 2 mm ) and reacted to light but the left one was still dilated without direct or indirect light reflex , in which pupil size changed a little in accordance with intermittent ventricular drainage .\\nthe ventricular catheter was removed on the 14th postoperative day when it was still measured at 25 mm hg .\\nher left pupil decreased to 3 mm in size but did not react to direct or indirect light .\\nas her consciousness began to improve slowly after shunting over a period of weeks , it was noted that she was unable to open her both eyes , indicating bilateral ptosis . at this point , the author came to recognize these events and finally confirmed external ophthalmoplegia of the right eye and complete ophthalmoplegia of the left eye .\\nthree months after surgery , follow - up magnetic resonance imaging ( mri ) demonstrated infarction of left medial occipital lobe and lacunar infarction of the pons ( fig .\\n3 ) . the final examination performed in one year showed that the patient communicated well with simple words , and that the left arm and leg remained at grade 4 + and the right side at grade 4 .\\nalso , both of her ophthalmoplegia recovered partially , resulting in intermittent spontaneous eye opening , lateral deviation in the right eye , centrally fixed pupil in the left eye , and both isocoric and reactive pupil ( fig .\\nbilateral third cranial nerve palsy as a false localizing sign due to a ruptured anterior communicating artery aneurysm is very rare because acoma aneurysms are not in the vicinity of the oculomotor nerve .\\nsuzuki and iwabuchi ( 3 ) recorded false localizing third cranial nerve palsy in two patients with ruptured aneurysms .\\nthese patients had a1 and acoma aneurysms and were presented with unilateral partial cranial nerve iii palsy and bilateral total ophthalmoplegia , respectively .\\nthey explained in patient with a1 aneurysm and megadolichobasilar anomaly that the oculomotor nerve might be more easily displaced or squeezed between the posterior cerebral and superior cerebellar arteries by increased icp . in another expired patient ,\\na remarkable descent of the terminal portion of the basilar artery was found , indicating downward axial displacement of the midbrain by supratentorial hypertension , resulting in total ophthalmoplegia . a single case of an acoma aneurysm rupture in which bilateral oculomotor nerve palsy was presented\\na number of mechanisms of a third nerve palsy in patients with an intracranial aneurysm have been classified by fox ( 5 ) .\\ndirect peripheral causes include , 1 ) local pressure by the aneurysm , and 2 ) hemorrhagic dissection of the nerve .\\ndirect central causes include bleeding into midbrain parenchyma or direct pressure of a large basilar artery on the nucleus .\\nindirect peripheral causes include increased icp ( from clot , edema , hydrocephalus ) causing uncal herniation .\\nthe case of coyne and wallace ( 4 ) showed close similarity to the present case with respect to the pathogenesis but a little difference from clinical signs and course of the bilateral oculomotor nerve palsy . in their report , raised icp without brain herniation and compression of the third nerves within the perimesencephalic cisterns by focal subarachnoid clot were suggested as possible underlying mechanisms of the palsies .\\nwhen the peripheral oculomotor nerve is involved by an aneurysm , usually the pupilloconstricter fibers are involved first , followed by palsy of the levator palpebrae , superior rectus , and medial rectus , in order .\\nin contrast , when there is an intramedullary lesion , the pupilloconstricter fibers can be saved ( 7 , 8) . while the phenomenon of a pupil - sparing oculomotor nerve palsy caused by an aneurysm has been well documented , it is nonetheless an uncommon event ( 9 - 11 ) . in diabetes , a pupil - sparing oculomotor nerve palsy leads to loss of myelin and axons within that central portion , but may spare the peripheral regions where pupillary fibers travel ( 12 ) . in the present patient , it is likely that the microvascular supply to the inner nerve fibers of right third nerve was compromised while more peripheral fibers still received an adequate vascular supply .\\nit is clinically difficult to ascertain the exact pathophysiologic mechanism responsible for the present case .\\nthis nerve injury might be caused by 1 ) direct compression of the nerve derived from the extensive clot in the basal cistern , 2 ) uncal herniation , 3 ) remote effect due to increased icp , and less likely , 4 ) vasospasm of branches of basilar artery . in the present patient ,\\nthese several features typically seen in other reports were found to be co - existing .\\nmost likely , brain herniation , along with dense hemorrhage and increased icp , is a mechanism of the left oculomotor nerve palsy .\\nhowever , relatively good improvement of this patient 's neurological deficits and the absence of midbrain and uncal lesion on mri suggest that focal vasospasm is one rare possibility of infarction of this medial occipital lobe and lacunar infarction of the pons . in contrast , the remote effect due to increased icp could conceivably account for pupillary change of the right eye according to ventricular drainage . eye opening on command or painful stimulus is most significant within the first 72 hr following an injury . after this time\\ndelay in the diagnosis of this condition after surgery could be common because of lack of recognition of ptosis in an unconscious patient . despite considerable variety in the degree of recovery ,\\nit seems to be possible that early operative decompression of the cistern and direct neck clipping are the therapeutic maneuvers most likely to produce ultimate ocular recovery in the present case . in conclusion ,\\nthe incidence of bilateral third cranial nerve palsy due to a ruptured acoma aneurysm as a false localizing sign is very rare .\\nit will be difficult to evaluate the result if the neuro - ophthalmological examination was limited by the poor clinical grade of the patients with ruptured intracranial aneurysms .\\ntherefore , more meticulous neuro - ophthalmological examination should be done to evaluate cranial nerve palsy .</td>\n",
              "      <td>INTRODUCTION\\nCASE REPORT\\nDISCUSSION</td>\n",
              "    </tr>\n",
              "  </tbody>\n",
              "</table>"
            ],
            "text/plain": [
              "<IPython.core.display.HTML object>"
            ]
          },
          "metadata": {
            "tags": []
          }
        }
      ]
    },
    {
      "cell_type": "code",
      "metadata": {
        "id": "pxH2W2nXKPiT"
      },
      "source": [
        "# Model Params\n",
        "max_input_length = 8192\n",
        "max_output_length = 512\n",
        "batch_size = 2"
      ],
      "execution_count": 8,
      "outputs": []
    },
    {
      "cell_type": "markdown",
      "metadata": {
        "id": "2cy0uHsDKyNe"
      },
      "source": [
        "### Preprocessing"
      ]
    },
    {
      "cell_type": "markdown",
      "metadata": {
        "id": "2gy3j59xK9M7"
      },
      "source": [
        "In addition to the usual attention_mask, LED can make use of an additional global_attention_mask defining which input tokens are attended globally and which are attended only locally, just as it's the case of Longformer. For summarization, we follow recommendations of the paper and use global attention only for the very first token. Finally, we make sure that no loss is computed on padded tokens by setting their index to -100."
      ]
    },
    {
      "cell_type": "code",
      "metadata": {
        "id": "bmdEZMGNKvdl"
      },
      "source": [
        "def process_data_to_model_inputs(batch):\n",
        "    # tokenize the inputs and labels\n",
        "    inputs = tokenizer(\n",
        "        batch[\"article\"],\n",
        "        padding=\"max_length\",\n",
        "        truncation=True,\n",
        "        max_length=max_input_length,\n",
        "    )\n",
        "    outputs = tokenizer(\n",
        "        batch[\"abstract\"],\n",
        "        padding=\"max_length\",\n",
        "        truncation=True,\n",
        "        max_length=max_output_length,\n",
        "    )\n",
        "\n",
        "    batch[\"input_ids\"] = inputs.input_ids\n",
        "    batch[\"attention_mask\"] = inputs.attention_mask\n",
        "\n",
        "    # create 0 global_attention_mask lists\n",
        "    batch[\"global_attention_mask\"] = len(batch[\"input_ids\"]) * [\n",
        "        [0 for _ in range(len(batch[\"input_ids\"][0]))]\n",
        "    ]\n",
        "\n",
        "    # since above lists are references, the following line changes the 0 index for all samples\n",
        "    batch[\"global_attention_mask\"][0][0] = 1\n",
        "    batch[\"labels\"] = outputs.input_ids\n",
        "\n",
        "    # We have to make sure that the PAD token is ignored\n",
        "    batch[\"labels\"] = [\n",
        "        [-100 if token == tokenizer.pad_token_id else token for token in labels]\n",
        "        for labels in batch[\"labels\"]\n",
        "    ]\n",
        "\n",
        "    return batch"
      ],
      "execution_count": 11,
      "outputs": []
    },
    {
      "cell_type": "code",
      "metadata": {
        "id": "c1-G5EhqLgLU"
      },
      "source": [
        "# For demonstration purposes\n",
        "train_dataset = train_dataset.select(range(250))\n",
        "val_dataset = val_dataset.select(range(25))"
      ],
      "execution_count": 9,
      "outputs": []
    },
    {
      "cell_type": "code",
      "metadata": {
        "colab": {
          "base_uri": "https://localhost:8080/",
          "height": 66,
          "referenced_widgets": [
            "727411f577424c4eac5f04705cdc7554",
            "af4154195a3d4b3fa6a38afc19babf8e",
            "ea661ab8099d4ecbb907953dab0b202d",
            "5dac85d28f274898b55fa913627ef8dc",
            "809a74b4eda74a1a96b055b45728c35e",
            "71208d33b8e74484947247ba59335c07",
            "5aeb94bbf10944d6b441b660edb58b2a",
            "1831d05ab88247c99e270f551ad7f57a"
          ]
        },
        "id": "fS1lJV4qLjBu",
        "outputId": "48484c39-db24-4647-9624-13005e446bcd"
      },
      "source": [
        "train_dataset = train_dataset.map(\n",
        "    process_data_to_model_inputs,\n",
        "    batched=True,\n",
        "    batch_size=batch_size,\n",
        "    remove_columns=[\"article\", \"abstract\", \"section_names\"],\n",
        ")"
      ],
      "execution_count": 12,
      "outputs": [
        {
          "output_type": "display_data",
          "data": {
            "application/vnd.jupyter.widget-view+json": {
              "model_id": "727411f577424c4eac5f04705cdc7554",
              "version_minor": 0,
              "version_major": 2
            },
            "text/plain": [
              "HBox(children=(FloatProgress(value=0.0, max=125.0), HTML(value='')))"
            ]
          },
          "metadata": {
            "tags": []
          }
        },
        {
          "output_type": "stream",
          "text": [
            "\n"
          ],
          "name": "stdout"
        }
      ]
    },
    {
      "cell_type": "code",
      "metadata": {
        "colab": {
          "base_uri": "https://localhost:8080/",
          "height": 66,
          "referenced_widgets": [
            "643e9f6ff5fc46c3887a6e5712725849",
            "31dca21f3a6c4d2e8120b3f5be840942",
            "1826befdf53345d2b06e07eabe3ae22b",
            "4b9872ac2e7841d5b7f168b19f0cf334",
            "44c7586413754a23bf1f95dfb68f6e9e",
            "75dc7d0420d44c34ac32bb31acc9b3cc",
            "8c2b41f3857a441e9849348394460a41",
            "03bcc045ff204708b958e9087a456f2d"
          ]
        },
        "id": "BdBASL5qLnWB",
        "outputId": "4e91a930-5a4c-45c9-a248-5e27b51aa8aa"
      },
      "source": [
        "val_dataset = val_dataset.map(\n",
        "    process_data_to_model_inputs,\n",
        "    batched=True,\n",
        "    batch_size=batch_size,\n",
        "    remove_columns=[\"article\", \"abstract\", \"section_names\"],\n",
        ")"
      ],
      "execution_count": 13,
      "outputs": [
        {
          "output_type": "display_data",
          "data": {
            "application/vnd.jupyter.widget-view+json": {
              "model_id": "643e9f6ff5fc46c3887a6e5712725849",
              "version_minor": 0,
              "version_major": 2
            },
            "text/plain": [
              "HBox(children=(FloatProgress(value=0.0, max=13.0), HTML(value='')))"
            ]
          },
          "metadata": {
            "tags": []
          }
        },
        {
          "output_type": "stream",
          "text": [
            "\n"
          ],
          "name": "stdout"
        }
      ]
    },
    {
      "cell_type": "code",
      "metadata": {
        "id": "pFH3D0nvLs_k"
      },
      "source": [
        "train_dataset.set_format(\n",
        "    type=\"torch\",\n",
        "    columns=[\"input_ids\", \"attention_mask\", \"global_attention_mask\", \"labels\"],\n",
        ")\n",
        "val_dataset.set_format(\n",
        "    type=\"torch\",\n",
        "    columns=[\"input_ids\", \"attention_mask\", \"global_attention_mask\", \"labels\"],\n",
        ")"
      ],
      "execution_count": 14,
      "outputs": []
    },
    {
      "cell_type": "code",
      "metadata": {
        "colab": {
          "base_uri": "https://localhost:8080/",
          "height": 66,
          "referenced_widgets": [
            "601ae0124c344a9bb349dda1615b0a63",
            "d26272b5f85a4bf8b52c54e4320dca2a",
            "88c5ec9ba75e43bb88dcc2e490c1f4bd",
            "165ed5bccb2b408c94a21dd4179ce4fd",
            "ebaee6cc7e4e4f39a168fdc56e1e27c6",
            "9ebdfc261bca44ef94ef6bfc840b79a6",
            "e4379d7f89624a98b9a20718636d20bf",
            "50cc9e19a4bf47298fedbc9d18480bf2"
          ]
        },
        "id": "b_ztQ_3-Lvr_",
        "outputId": "188fef38-52fa-42e7-8182-b4be5599b383"
      },
      "source": [
        "# Model\n",
        "led = AutoModelForSeq2SeqLM.from_pretrained(\"allenai/led-base-16384\", gradient_checkpointing=True, use_cache=False)"
      ],
      "execution_count": 15,
      "outputs": [
        {
          "output_type": "display_data",
          "data": {
            "application/vnd.jupyter.widget-view+json": {
              "model_id": "601ae0124c344a9bb349dda1615b0a63",
              "version_minor": 0,
              "version_major": 2
            },
            "text/plain": [
              "HBox(children=(FloatProgress(value=0.0, description='Downloading', max=647693783.0, style=ProgressStyle(descri…"
            ]
          },
          "metadata": {
            "tags": []
          }
        },
        {
          "output_type": "stream",
          "text": [
            "\n"
          ],
          "name": "stdout"
        }
      ]
    },
    {
      "cell_type": "markdown",
      "metadata": {
        "id": "F4YBYkZ9MDLH"
      },
      "source": [
        "During training, we want to evaluate the model on Rouge, the most common metric used in summarization, to make sure the model is indeed improving during training. For this, we set fitting generation parameters. We'll use beam search with a small beam of just 2 to save memory. Also, we force the model to generate at least 100 tokens, but no more than 512."
      ]
    },
    {
      "cell_type": "code",
      "metadata": {
        "id": "dCzCE-pkL20L"
      },
      "source": [
        "# set generate hyperparameters\n",
        "led.config.num_beams = 2\n",
        "led.config.max_length = 512\n",
        "led.config.min_length = 100\n",
        "led.config.length_penalty = 2.0\n",
        "led.config.early_stopping = True\n",
        "led.config.no_repeat_ngram_size = 3"
      ],
      "execution_count": 16,
      "outputs": []
    },
    {
      "cell_type": "code",
      "metadata": {
        "colab": {
          "base_uri": "https://localhost:8080/",
          "height": 66,
          "referenced_widgets": [
            "9d892be46c0f47eda5c606c0c992e16a",
            "5409b374673a438aa55241200ab5724b",
            "b88a67e1771f4d13b0edadd9b6539b99",
            "23b2ba592c2a4a04885a4a1d528627d9",
            "c55bc3f882aa4e219df4dbff5c185c43",
            "81721a75e43141038b129ffc61a07a1d",
            "4114e4e9da6d401da0d5c033769b6b76",
            "1e809f9bfcd54d4597fd964b6ac4787f"
          ]
        },
        "id": "Wg8LNgTgMHCE",
        "outputId": "f92f70a0-ea11-495e-d67b-d7b7064664a0"
      },
      "source": [
        "# metric\n",
        "rouge = load_metric(\"rouge\")"
      ],
      "execution_count": 17,
      "outputs": [
        {
          "output_type": "display_data",
          "data": {
            "application/vnd.jupyter.widget-view+json": {
              "model_id": "9d892be46c0f47eda5c606c0c992e16a",
              "version_minor": 0,
              "version_major": 2
            },
            "text/plain": [
              "HBox(children=(FloatProgress(value=0.0, description='Downloading', max=1955.0, style=ProgressStyle(description…"
            ]
          },
          "metadata": {
            "tags": []
          }
        },
        {
          "output_type": "stream",
          "text": [
            "\n"
          ],
          "name": "stdout"
        }
      ]
    },
    {
      "cell_type": "code",
      "metadata": {
        "id": "IshPh-xNMKa9"
      },
      "source": [
        "def compute_metrics(pred):\n",
        "    labels_ids = pred.label_ids\n",
        "    pred_ids = pred.predictions\n",
        "\n",
        "    pred_str = tokenizer.batch_decode(pred_ids, skip_special_tokens=True)\n",
        "    labels_ids[labels_ids == -100] = tokenizer.pad_token_id\n",
        "    label_str = tokenizer.batch_decode(labels_ids, skip_special_tokens=True)\n",
        "\n",
        "    rouge_output = rouge.compute(\n",
        "        predictions=pred_str, references=label_str, rouge_types=[\"rouge2\"]\n",
        "    )[\"rouge2\"].mid\n",
        "\n",
        "    return {\n",
        "        \"rouge2_precision\": round(rouge_output.precision, 4),\n",
        "        \"rouge2_recall\": round(rouge_output.recall, 4),\n",
        "        \"rouge2_fmeasure\": round(rouge_output.fmeasure, 4),\n",
        "    }"
      ],
      "execution_count": 18,
      "outputs": []
    },
    {
      "cell_type": "code",
      "metadata": {
        "id": "W9jAum9TMa4a"
      },
      "source": [
        ""
      ],
      "execution_count": null,
      "outputs": []
    }
  ]
}