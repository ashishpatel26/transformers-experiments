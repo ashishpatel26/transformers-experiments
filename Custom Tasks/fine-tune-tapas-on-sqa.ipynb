{
  "nbformat": 4,
  "nbformat_minor": 0,
  "metadata": {
    "colab": {
      "name": "fine-tune-tapas-on-sqa.ipynb",
      "provenance": []
    },
    "kernelspec": {
      "name": "python3",
      "display_name": "Python 3"
    },
    "accelerator": "GPU"
  },
  "cells": [
    {
      "cell_type": "markdown",
      "metadata": {
        "id": "aVPTjd6KfbrU"
      },
      "source": [
        "Don't forget to install pytorch-scatter as it's a dependency for the TAPAS model"
      ]
    },
    {
      "cell_type": "code",
      "metadata": {
        "colab": {
          "base_uri": "https://localhost:8080/"
        },
        "id": "pZ-ke7rGfiPC",
        "outputId": "7859058a-94ce-4e08-cc8a-8450d79c2015"
      },
      "source": [
        "!pip install torch-scatter -f -q https://pytorch-geometric.com/whl/torch-1.8.0+cu101.html\n",
        "!pip install -q transformers"
      ],
      "execution_count": 1,
      "outputs": [
        {
          "output_type": "stream",
          "text": [
            "Looking in links: -q\n",
            "Collecting https://pytorch-geometric.com/whl/torch-1.8.0+cu101.html\n",
            "  Downloading https://pytorch-geometric.com/whl/torch-1.8.0+cu101.html\n",
            "\u001b[31m  ERROR: Cannot unpack file /tmp/pip-unpack-6kuof7q5/torch-1.8.0+cu101.html (downloaded from /tmp/pip-req-build-q_m6ygcp, content-type: text/html); cannot detect archive format\u001b[0m\n",
            "\u001b[31mERROR: Cannot determine archive format of /tmp/pip-req-build-q_m6ygcp\u001b[0m\n",
            "\u001b[K     |████████████████████████████████| 2.1MB 9.7MB/s \n",
            "\u001b[K     |████████████████████████████████| 3.3MB 11.8MB/s \n",
            "\u001b[K     |████████████████████████████████| 901kB 48.9MB/s \n",
            "\u001b[?25h"
          ],
          "name": "stdout"
        }
      ]
    },
    {
      "cell_type": "code",
      "metadata": {
        "id": "LKrDgBXefzlU"
      },
      "source": [
        "import os\n",
        "import ast\n",
        "import torch\n",
        "import collections\n",
        "import requests, zipfile, io\n",
        "\n",
        "import numpy as np\n",
        "import pandas as pd\n",
        "\n",
        "from transformers import TapasTokenizer\n",
        "from transformers import TapasForQuestionAnswering,AdamW"
      ],
      "execution_count": 2,
      "outputs": []
    },
    {
      "cell_type": "markdown",
      "metadata": {
        "id": "L4uLz2M4gY1d"
      },
      "source": [
        "### Download SQA Dataset"
      ]
    },
    {
      "cell_type": "code",
      "metadata": {
        "id": "r7euVtZkf2A6"
      },
      "source": [
        "def download_files(dir_name):\n",
        "  if not os.path.exists(dir_name): \n",
        "    # 28 training examples from the SQA training set + table csv data\n",
        "    urls = [\"https://www.dropbox.com/s/2p6ez9xro357i63/sqa_train_set_28_examples.zip?dl=1\",\n",
        "            \"https://www.dropbox.com/s/abhum8ssuow87h6/table_csv.zip?dl=1\"\n",
        "    ]\n",
        "    for url in urls:\n",
        "      r = requests.get(url)\n",
        "      z = zipfile.ZipFile(io.BytesIO(r.content))\n",
        "      z.extractall()\n",
        "\n",
        "dir_name = \"sqa_data\"\n",
        "download_files(dir_name)"
      ],
      "execution_count": 3,
      "outputs": []
    },
    {
      "cell_type": "markdown",
      "metadata": {
        "id": "xZVS1rBvgcK8"
      },
      "source": [
        "### Data Preprocessing"
      ]
    },
    {
      "cell_type": "code",
      "metadata": {
        "colab": {
          "base_uri": "https://localhost:8080/",
          "height": 204
        },
        "id": "knkoX6Rhgd2T",
        "outputId": "05748951-ed0b-4d72-dad3-b3a7255284f8"
      },
      "source": [
        "data = pd.read_excel(\"sqa_train_set_28_examples.xlsx\")\n",
        "data.head()"
      ],
      "execution_count": 4,
      "outputs": [
        {
          "output_type": "execute_result",
          "data": {
            "text/html": [
              "<div>\n",
              "<style scoped>\n",
              "    .dataframe tbody tr th:only-of-type {\n",
              "        vertical-align: middle;\n",
              "    }\n",
              "\n",
              "    .dataframe tbody tr th {\n",
              "        vertical-align: top;\n",
              "    }\n",
              "\n",
              "    .dataframe thead th {\n",
              "        text-align: right;\n",
              "    }\n",
              "</style>\n",
              "<table border=\"1\" class=\"dataframe\">\n",
              "  <thead>\n",
              "    <tr style=\"text-align: right;\">\n",
              "      <th></th>\n",
              "      <th>id</th>\n",
              "      <th>annotator</th>\n",
              "      <th>position</th>\n",
              "      <th>question</th>\n",
              "      <th>table_file</th>\n",
              "      <th>answer_coordinates</th>\n",
              "      <th>answer_text</th>\n",
              "    </tr>\n",
              "  </thead>\n",
              "  <tbody>\n",
              "    <tr>\n",
              "      <th>0</th>\n",
              "      <td>nt-639</td>\n",
              "      <td>0</td>\n",
              "      <td>0</td>\n",
              "      <td>where are the players from?</td>\n",
              "      <td>table_csv/203_149.csv</td>\n",
              "      <td>['(0, 4)', '(1, 4)', '(2, 4)', '(3, 4)', '(4, ...</td>\n",
              "      <td>['Louisiana State University', 'Valley HS (Las...</td>\n",
              "    </tr>\n",
              "    <tr>\n",
              "      <th>1</th>\n",
              "      <td>nt-639</td>\n",
              "      <td>0</td>\n",
              "      <td>1</td>\n",
              "      <td>which player went to louisiana state university?</td>\n",
              "      <td>table_csv/203_149.csv</td>\n",
              "      <td>['(0, 1)']</td>\n",
              "      <td>['Ben McDonald']</td>\n",
              "    </tr>\n",
              "    <tr>\n",
              "      <th>2</th>\n",
              "      <td>nt-639</td>\n",
              "      <td>1</td>\n",
              "      <td>0</td>\n",
              "      <td>who are the players?</td>\n",
              "      <td>table_csv/203_149.csv</td>\n",
              "      <td>['(0, 1)', '(1, 1)', '(2, 1)', '(3, 1)', '(4, ...</td>\n",
              "      <td>['Ben McDonald', 'Tyler Houston', 'Roger Salke...</td>\n",
              "    </tr>\n",
              "    <tr>\n",
              "      <th>3</th>\n",
              "      <td>nt-639</td>\n",
              "      <td>1</td>\n",
              "      <td>1</td>\n",
              "      <td>which ones are in the top 26 picks?</td>\n",
              "      <td>table_csv/203_149.csv</td>\n",
              "      <td>['(0, 1)', '(1, 1)', '(2, 1)', '(3, 1)', '(4, ...</td>\n",
              "      <td>['Ben McDonald', 'Tyler Houston', 'Roger Salke...</td>\n",
              "    </tr>\n",
              "    <tr>\n",
              "      <th>4</th>\n",
              "      <td>nt-639</td>\n",
              "      <td>1</td>\n",
              "      <td>2</td>\n",
              "      <td>and of those, who is from louisiana state univ...</td>\n",
              "      <td>table_csv/203_149.csv</td>\n",
              "      <td>['(0, 1)']</td>\n",
              "      <td>['Ben McDonald']</td>\n",
              "    </tr>\n",
              "  </tbody>\n",
              "</table>\n",
              "</div>"
            ],
            "text/plain": [
              "       id  ...                                        answer_text\n",
              "0  nt-639  ...  ['Louisiana State University', 'Valley HS (Las...\n",
              "1  nt-639  ...                                   ['Ben McDonald']\n",
              "2  nt-639  ...  ['Ben McDonald', 'Tyler Houston', 'Roger Salke...\n",
              "3  nt-639  ...  ['Ben McDonald', 'Tyler Houston', 'Roger Salke...\n",
              "4  nt-639  ...                                   ['Ben McDonald']\n",
              "\n",
              "[5 rows x 7 columns]"
            ]
          },
          "metadata": {
            "tags": []
          },
          "execution_count": 4
        }
      ]
    },
    {
      "cell_type": "markdown",
      "metadata": {
        "id": "5nAd47PHhQeo"
      },
      "source": [
        "\n",
        "As you can see, each row corresponds to a question related to a table.\n",
        "\n",
        "- The position column identifies whether the question is the first, second, ... in a sequence of questions related to a table.\n",
        "= The table_file column identifies the name of the table file, which refers to a CSV file in the table_csv directory.\n",
        "= The answer_coordinates and answer_text columns indicate the answer to the question. The answer_coordinates is a list of tuples, each tuple being a (row_index, column_index) pair. The answer_text column is a list of strings, indicating the cell values.\n",
        "\n",
        "However, the answer_coordinates and answer_text columns are currently not recognized as real Python lists of Python tuples and strings respectively. Let's do that first using the .literal_eval()function of the ast module:"
      ]
    },
    {
      "cell_type": "code",
      "metadata": {
        "colab": {
          "base_uri": "https://localhost:8080/",
          "height": 359
        },
        "id": "VFe5z4xJhVzJ",
        "outputId": "dab05768-dcb5-4077-a115-9d856f369eb2"
      },
      "source": [
        "def _parse_answer_coordinates(answer_coordinate_str):\n",
        "  \"\"\"Parses the answer_coordinates of a question.\n",
        "  Args:\n",
        "    answer_coordinate_str: A string representation of a Python list of tuple\n",
        "      strings.\n",
        "      For example: \"['(1, 4)','(1, 3)', ...]\"\n",
        "  \"\"\"\n",
        "\n",
        "  try:\n",
        "    answer_coordinates = []\n",
        "    # make a list of strings\n",
        "    coords = ast.literal_eval(answer_coordinate_str)\n",
        "    # parse each string as a tuple\n",
        "    for row_index, column_index in sorted(\n",
        "        ast.literal_eval(coord) for coord in coords):\n",
        "      answer_coordinates.append((row_index, column_index))\n",
        "  except SyntaxError:\n",
        "    raise ValueError('Unable to evaluate %s' % answer_coordinate_str)\n",
        "  \n",
        "  return answer_coordinates\n",
        "\n",
        "\n",
        "def _parse_answer_text(answer_text):\n",
        "  \"\"\"Populates the answer_texts field of `answer` by parsing `answer_text`.\n",
        "  Args:\n",
        "    answer_text: A string representation of a Python list of strings.\n",
        "      For example: \"[u'test', u'hello', ...]\"\n",
        "    answer: an Answer object.\n",
        "  \"\"\"\n",
        "  try:\n",
        "    answer = []\n",
        "    for value in ast.literal_eval(answer_text):\n",
        "      answer.append(value)\n",
        "  except SyntaxError:\n",
        "    raise ValueError('Unable to evaluate %s' % answer_text)\n",
        "\n",
        "  return answer\n",
        "\n",
        "data['answer_coordinates'] = data['answer_coordinates'].apply(lambda coords_str: _parse_answer_coordinates(coords_str))\n",
        "data['answer_text'] = data['answer_text'].apply(lambda txt: _parse_answer_text(txt))\n",
        "\n",
        "data.head(10)"
      ],
      "execution_count": 5,
      "outputs": [
        {
          "output_type": "execute_result",
          "data": {
            "text/html": [
              "<div>\n",
              "<style scoped>\n",
              "    .dataframe tbody tr th:only-of-type {\n",
              "        vertical-align: middle;\n",
              "    }\n",
              "\n",
              "    .dataframe tbody tr th {\n",
              "        vertical-align: top;\n",
              "    }\n",
              "\n",
              "    .dataframe thead th {\n",
              "        text-align: right;\n",
              "    }\n",
              "</style>\n",
              "<table border=\"1\" class=\"dataframe\">\n",
              "  <thead>\n",
              "    <tr style=\"text-align: right;\">\n",
              "      <th></th>\n",
              "      <th>id</th>\n",
              "      <th>annotator</th>\n",
              "      <th>position</th>\n",
              "      <th>question</th>\n",
              "      <th>table_file</th>\n",
              "      <th>answer_coordinates</th>\n",
              "      <th>answer_text</th>\n",
              "    </tr>\n",
              "  </thead>\n",
              "  <tbody>\n",
              "    <tr>\n",
              "      <th>0</th>\n",
              "      <td>nt-639</td>\n",
              "      <td>0</td>\n",
              "      <td>0</td>\n",
              "      <td>where are the players from?</td>\n",
              "      <td>table_csv/203_149.csv</td>\n",
              "      <td>[(0, 4), (1, 4), (2, 4), (3, 4), (4, 4), (5, 4...</td>\n",
              "      <td>[Louisiana State University, Valley HS (Las Ve...</td>\n",
              "    </tr>\n",
              "    <tr>\n",
              "      <th>1</th>\n",
              "      <td>nt-639</td>\n",
              "      <td>0</td>\n",
              "      <td>1</td>\n",
              "      <td>which player went to louisiana state university?</td>\n",
              "      <td>table_csv/203_149.csv</td>\n",
              "      <td>[(0, 1)]</td>\n",
              "      <td>[Ben McDonald]</td>\n",
              "    </tr>\n",
              "    <tr>\n",
              "      <th>2</th>\n",
              "      <td>nt-639</td>\n",
              "      <td>1</td>\n",
              "      <td>0</td>\n",
              "      <td>who are the players?</td>\n",
              "      <td>table_csv/203_149.csv</td>\n",
              "      <td>[(0, 1), (1, 1), (2, 1), (3, 1), (4, 1), (5, 1...</td>\n",
              "      <td>[Ben McDonald, Tyler Houston, Roger Salkeld, J...</td>\n",
              "    </tr>\n",
              "    <tr>\n",
              "      <th>3</th>\n",
              "      <td>nt-639</td>\n",
              "      <td>1</td>\n",
              "      <td>1</td>\n",
              "      <td>which ones are in the top 26 picks?</td>\n",
              "      <td>table_csv/203_149.csv</td>\n",
              "      <td>[(0, 1), (1, 1), (2, 1), (3, 1), (4, 1), (5, 1...</td>\n",
              "      <td>[Ben McDonald, Tyler Houston, Roger Salkeld, J...</td>\n",
              "    </tr>\n",
              "    <tr>\n",
              "      <th>4</th>\n",
              "      <td>nt-639</td>\n",
              "      <td>1</td>\n",
              "      <td>2</td>\n",
              "      <td>and of those, who is from louisiana state univ...</td>\n",
              "      <td>table_csv/203_149.csv</td>\n",
              "      <td>[(0, 1)]</td>\n",
              "      <td>[Ben McDonald]</td>\n",
              "    </tr>\n",
              "    <tr>\n",
              "      <th>5</th>\n",
              "      <td>nt-639</td>\n",
              "      <td>2</td>\n",
              "      <td>0</td>\n",
              "      <td>who are the players in the top 26?</td>\n",
              "      <td>table_csv/203_149.csv</td>\n",
              "      <td>[(0, 1), (1, 1), (2, 1), (3, 1), (4, 1), (5, 1...</td>\n",
              "      <td>[Ben McDonald, Tyler Houston, Roger Salkeld, J...</td>\n",
              "    </tr>\n",
              "    <tr>\n",
              "      <th>6</th>\n",
              "      <td>nt-639</td>\n",
              "      <td>2</td>\n",
              "      <td>1</td>\n",
              "      <td>of those, which one was from louisiana state u...</td>\n",
              "      <td>table_csv/203_149.csv</td>\n",
              "      <td>[(0, 1)]</td>\n",
              "      <td>[Ben McDonald]</td>\n",
              "    </tr>\n",
              "    <tr>\n",
              "      <th>7</th>\n",
              "      <td>nt-11649</td>\n",
              "      <td>0</td>\n",
              "      <td>0</td>\n",
              "      <td>what are all the names of the teams?</td>\n",
              "      <td>table_csv/204_135.csv</td>\n",
              "      <td>[(0, 1), (1, 1), (2, 1), (3, 1), (4, 1), (5, 1...</td>\n",
              "      <td>[Cordoba CF, CD Malaga, Granada CF, UD Las Pal...</td>\n",
              "    </tr>\n",
              "    <tr>\n",
              "      <th>8</th>\n",
              "      <td>nt-11649</td>\n",
              "      <td>0</td>\n",
              "      <td>1</td>\n",
              "      <td>of these, which teams had any losses?</td>\n",
              "      <td>table_csv/204_135.csv</td>\n",
              "      <td>[(0, 1), (1, 1), (2, 1), (3, 1), (4, 1), (5, 1...</td>\n",
              "      <td>[Cordoba CF, CD Malaga, Granada CF, UD Las Pal...</td>\n",
              "    </tr>\n",
              "    <tr>\n",
              "      <th>9</th>\n",
              "      <td>nt-11649</td>\n",
              "      <td>0</td>\n",
              "      <td>2</td>\n",
              "      <td>of these teams, which had more than 21 losses?</td>\n",
              "      <td>table_csv/204_135.csv</td>\n",
              "      <td>[(15, 1)]</td>\n",
              "      <td>[CD Villarrobledo]</td>\n",
              "    </tr>\n",
              "  </tbody>\n",
              "</table>\n",
              "</div>"
            ],
            "text/plain": [
              "         id  ...                                        answer_text\n",
              "0    nt-639  ...  [Louisiana State University, Valley HS (Las Ve...\n",
              "1    nt-639  ...                                     [Ben McDonald]\n",
              "2    nt-639  ...  [Ben McDonald, Tyler Houston, Roger Salkeld, J...\n",
              "3    nt-639  ...  [Ben McDonald, Tyler Houston, Roger Salkeld, J...\n",
              "4    nt-639  ...                                     [Ben McDonald]\n",
              "5    nt-639  ...  [Ben McDonald, Tyler Houston, Roger Salkeld, J...\n",
              "6    nt-639  ...                                     [Ben McDonald]\n",
              "7  nt-11649  ...  [Cordoba CF, CD Malaga, Granada CF, UD Las Pal...\n",
              "8  nt-11649  ...  [Cordoba CF, CD Malaga, Granada CF, UD Las Pal...\n",
              "9  nt-11649  ...                                 [CD Villarrobledo]\n",
              "\n",
              "[10 rows x 7 columns]"
            ]
          },
          "metadata": {
            "tags": []
          },
          "execution_count": 5
        }
      ]
    },
    {
      "cell_type": "markdown",
      "metadata": {
        "id": "P04pBRQJhpLK"
      },
      "source": [
        "\n",
        "Let's create a new dataframe that groups questions which are asked in a sequence related to the table. We can do this by adding a sequence_id column, which is a combination of the id and annotator columns:"
      ]
    },
    {
      "cell_type": "code",
      "metadata": {
        "colab": {
          "base_uri": "https://localhost:8080/",
          "height": 204
        },
        "id": "icPg-_AIhplU",
        "outputId": "e89b563b-b8a9-44ad-eabb-455bade229ab"
      },
      "source": [
        "def get_sequence_id(example_id, annotator):\n",
        "  if \"-\" in str(annotator):\n",
        "    raise ValueError('\"-\" not allowed in annotator.')\n",
        "  return f\"{example_id}-{annotator}\"\n",
        "\n",
        "data['sequence_id'] = data.apply(lambda x: get_sequence_id(x.id, x.annotator), axis=1)\n",
        "data.head()"
      ],
      "execution_count": 6,
      "outputs": [
        {
          "output_type": "execute_result",
          "data": {
            "text/html": [
              "<div>\n",
              "<style scoped>\n",
              "    .dataframe tbody tr th:only-of-type {\n",
              "        vertical-align: middle;\n",
              "    }\n",
              "\n",
              "    .dataframe tbody tr th {\n",
              "        vertical-align: top;\n",
              "    }\n",
              "\n",
              "    .dataframe thead th {\n",
              "        text-align: right;\n",
              "    }\n",
              "</style>\n",
              "<table border=\"1\" class=\"dataframe\">\n",
              "  <thead>\n",
              "    <tr style=\"text-align: right;\">\n",
              "      <th></th>\n",
              "      <th>id</th>\n",
              "      <th>annotator</th>\n",
              "      <th>position</th>\n",
              "      <th>question</th>\n",
              "      <th>table_file</th>\n",
              "      <th>answer_coordinates</th>\n",
              "      <th>answer_text</th>\n",
              "      <th>sequence_id</th>\n",
              "    </tr>\n",
              "  </thead>\n",
              "  <tbody>\n",
              "    <tr>\n",
              "      <th>0</th>\n",
              "      <td>nt-639</td>\n",
              "      <td>0</td>\n",
              "      <td>0</td>\n",
              "      <td>where are the players from?</td>\n",
              "      <td>table_csv/203_149.csv</td>\n",
              "      <td>[(0, 4), (1, 4), (2, 4), (3, 4), (4, 4), (5, 4...</td>\n",
              "      <td>[Louisiana State University, Valley HS (Las Ve...</td>\n",
              "      <td>nt-639-0</td>\n",
              "    </tr>\n",
              "    <tr>\n",
              "      <th>1</th>\n",
              "      <td>nt-639</td>\n",
              "      <td>0</td>\n",
              "      <td>1</td>\n",
              "      <td>which player went to louisiana state university?</td>\n",
              "      <td>table_csv/203_149.csv</td>\n",
              "      <td>[(0, 1)]</td>\n",
              "      <td>[Ben McDonald]</td>\n",
              "      <td>nt-639-0</td>\n",
              "    </tr>\n",
              "    <tr>\n",
              "      <th>2</th>\n",
              "      <td>nt-639</td>\n",
              "      <td>1</td>\n",
              "      <td>0</td>\n",
              "      <td>who are the players?</td>\n",
              "      <td>table_csv/203_149.csv</td>\n",
              "      <td>[(0, 1), (1, 1), (2, 1), (3, 1), (4, 1), (5, 1...</td>\n",
              "      <td>[Ben McDonald, Tyler Houston, Roger Salkeld, J...</td>\n",
              "      <td>nt-639-1</td>\n",
              "    </tr>\n",
              "    <tr>\n",
              "      <th>3</th>\n",
              "      <td>nt-639</td>\n",
              "      <td>1</td>\n",
              "      <td>1</td>\n",
              "      <td>which ones are in the top 26 picks?</td>\n",
              "      <td>table_csv/203_149.csv</td>\n",
              "      <td>[(0, 1), (1, 1), (2, 1), (3, 1), (4, 1), (5, 1...</td>\n",
              "      <td>[Ben McDonald, Tyler Houston, Roger Salkeld, J...</td>\n",
              "      <td>nt-639-1</td>\n",
              "    </tr>\n",
              "    <tr>\n",
              "      <th>4</th>\n",
              "      <td>nt-639</td>\n",
              "      <td>1</td>\n",
              "      <td>2</td>\n",
              "      <td>and of those, who is from louisiana state univ...</td>\n",
              "      <td>table_csv/203_149.csv</td>\n",
              "      <td>[(0, 1)]</td>\n",
              "      <td>[Ben McDonald]</td>\n",
              "      <td>nt-639-1</td>\n",
              "    </tr>\n",
              "  </tbody>\n",
              "</table>\n",
              "</div>"
            ],
            "text/plain": [
              "       id  ...  sequence_id\n",
              "0  nt-639  ...     nt-639-0\n",
              "1  nt-639  ...     nt-639-0\n",
              "2  nt-639  ...     nt-639-1\n",
              "3  nt-639  ...     nt-639-1\n",
              "4  nt-639  ...     nt-639-1\n",
              "\n",
              "[5 rows x 8 columns]"
            ]
          },
          "metadata": {
            "tags": []
          },
          "execution_count": 6
        }
      ]
    },
    {
      "cell_type": "markdown",
      "metadata": {
        "id": "YUYzUpJHhxMN"
      },
      "source": [
        "let's group table-question pairs by sequence id, and remove some columns we don't need "
      ]
    },
    {
      "cell_type": "code",
      "metadata": {
        "colab": {
          "base_uri": "https://localhost:8080/",
          "height": 390
        },
        "id": "wz23TjKjhyM3",
        "outputId": "5099bd5c-6949-4388-aecc-2b914aa1e0b0"
      },
      "source": [
        "grouped = data.groupby(by='sequence_id').agg(lambda x: x.tolist())\n",
        "grouped = grouped.drop(columns=['id', 'annotator', 'position'])\n",
        "grouped['table_file'] = grouped['table_file'].apply(lambda x: x[0])\n",
        "grouped.head(10)"
      ],
      "execution_count": 7,
      "outputs": [
        {
          "output_type": "execute_result",
          "data": {
            "text/html": [
              "<div>\n",
              "<style scoped>\n",
              "    .dataframe tbody tr th:only-of-type {\n",
              "        vertical-align: middle;\n",
              "    }\n",
              "\n",
              "    .dataframe tbody tr th {\n",
              "        vertical-align: top;\n",
              "    }\n",
              "\n",
              "    .dataframe thead th {\n",
              "        text-align: right;\n",
              "    }\n",
              "</style>\n",
              "<table border=\"1\" class=\"dataframe\">\n",
              "  <thead>\n",
              "    <tr style=\"text-align: right;\">\n",
              "      <th></th>\n",
              "      <th>question</th>\n",
              "      <th>table_file</th>\n",
              "      <th>answer_coordinates</th>\n",
              "      <th>answer_text</th>\n",
              "    </tr>\n",
              "    <tr>\n",
              "      <th>sequence_id</th>\n",
              "      <th></th>\n",
              "      <th></th>\n",
              "      <th></th>\n",
              "      <th></th>\n",
              "    </tr>\n",
              "  </thead>\n",
              "  <tbody>\n",
              "    <tr>\n",
              "      <th>ns-1292-0</th>\n",
              "      <td>[who are all the athletes?, where are they fro...</td>\n",
              "      <td>table_csv/204_521.csv</td>\n",
              "      <td>[[(0, 1), (1, 1), (2, 1), (3, 1), (4, 1), (5, ...</td>\n",
              "      <td>[[Tommy Green, Janis Dalins, Ugo Frigerio, Kar...</td>\n",
              "    </tr>\n",
              "    <tr>\n",
              "      <th>nt-10730-0</th>\n",
              "      <td>[what was the production numbers of each revol...</td>\n",
              "      <td>table_csv/203_253.csv</td>\n",
              "      <td>[[(0, 4), (1, 4), (2, 4), (3, 4), (4, 4), (5, ...</td>\n",
              "      <td>[[1,900 (estimated), 14,500 (estimated), 6,000...</td>\n",
              "    </tr>\n",
              "    <tr>\n",
              "      <th>nt-10730-1</th>\n",
              "      <td>[what three revolver models had the least amou...</td>\n",
              "      <td>table_csv/203_253.csv</td>\n",
              "      <td>[[(0, 0), (6, 0), (7, 0)], [(0, 0)]]</td>\n",
              "      <td>[[Remington-Beals Army Model Revolver, New Mod...</td>\n",
              "    </tr>\n",
              "    <tr>\n",
              "      <th>nt-10730-2</th>\n",
              "      <td>[what are all of the remington models?, how ma...</td>\n",
              "      <td>table_csv/203_253.csv</td>\n",
              "      <td>[[(0, 0), (1, 0), (2, 0), (3, 0), (4, 0), (5, ...</td>\n",
              "      <td>[[Remington-Beals Army Model Revolver, Remingt...</td>\n",
              "    </tr>\n",
              "    <tr>\n",
              "      <th>nt-11649-0</th>\n",
              "      <td>[what are all the names of the teams?, of thes...</td>\n",
              "      <td>table_csv/204_135.csv</td>\n",
              "      <td>[[(0, 1), (1, 1), (2, 1), (3, 1), (4, 1), (5, ...</td>\n",
              "      <td>[[Cordoba CF, CD Malaga, Granada CF, UD Las Pa...</td>\n",
              "    </tr>\n",
              "    <tr>\n",
              "      <th>nt-11649-1</th>\n",
              "      <td>[what are the losses?, what team had more than...</td>\n",
              "      <td>table_csv/204_135.csv</td>\n",
              "      <td>[[(0, 6), (1, 6), (2, 6), (3, 6), (4, 6), (5, ...</td>\n",
              "      <td>[[6, 6, 9, 10, 10, 12, 12, 11, 13, 14, 15, 14,...</td>\n",
              "    </tr>\n",
              "    <tr>\n",
              "      <th>nt-11649-2</th>\n",
              "      <td>[what were all the teams?, what were the loss ...</td>\n",
              "      <td>table_csv/204_135.csv</td>\n",
              "      <td>[[(0, 1), (1, 1), (2, 1), (3, 1), (4, 1), (5, ...</td>\n",
              "      <td>[[Cordoba CF, CD Malaga, Granada CF, UD Las Pa...</td>\n",
              "    </tr>\n",
              "    <tr>\n",
              "      <th>nt-639-0</th>\n",
              "      <td>[where are the players from?, which player wen...</td>\n",
              "      <td>table_csv/203_149.csv</td>\n",
              "      <td>[[(0, 4), (1, 4), (2, 4), (3, 4), (4, 4), (5, ...</td>\n",
              "      <td>[[Louisiana State University, Valley HS (Las V...</td>\n",
              "    </tr>\n",
              "    <tr>\n",
              "      <th>nt-639-1</th>\n",
              "      <td>[who are the players?, which ones are in the t...</td>\n",
              "      <td>table_csv/203_149.csv</td>\n",
              "      <td>[[(0, 1), (1, 1), (2, 1), (3, 1), (4, 1), (5, ...</td>\n",
              "      <td>[[Ben McDonald, Tyler Houston, Roger Salkeld, ...</td>\n",
              "    </tr>\n",
              "    <tr>\n",
              "      <th>nt-639-2</th>\n",
              "      <td>[who are the players in the top 26?, of those,...</td>\n",
              "      <td>table_csv/203_149.csv</td>\n",
              "      <td>[[(0, 1), (1, 1), (2, 1), (3, 1), (4, 1), (5, ...</td>\n",
              "      <td>[[Ben McDonald, Tyler Houston, Roger Salkeld, ...</td>\n",
              "    </tr>\n",
              "  </tbody>\n",
              "</table>\n",
              "</div>"
            ],
            "text/plain": [
              "                                                      question  ...                                        answer_text\n",
              "sequence_id                                                     ...                                                   \n",
              "ns-1292-0    [who are all the athletes?, where are they fro...  ...  [[Tommy Green, Janis Dalins, Ugo Frigerio, Kar...\n",
              "nt-10730-0   [what was the production numbers of each revol...  ...  [[1,900 (estimated), 14,500 (estimated), 6,000...\n",
              "nt-10730-1   [what three revolver models had the least amou...  ...  [[Remington-Beals Army Model Revolver, New Mod...\n",
              "nt-10730-2   [what are all of the remington models?, how ma...  ...  [[Remington-Beals Army Model Revolver, Remingt...\n",
              "nt-11649-0   [what are all the names of the teams?, of thes...  ...  [[Cordoba CF, CD Malaga, Granada CF, UD Las Pa...\n",
              "nt-11649-1   [what are the losses?, what team had more than...  ...  [[6, 6, 9, 10, 10, 12, 12, 11, 13, 14, 15, 14,...\n",
              "nt-11649-2   [what were all the teams?, what were the loss ...  ...  [[Cordoba CF, CD Malaga, Granada CF, UD Las Pa...\n",
              "nt-639-0     [where are the players from?, which player wen...  ...  [[Louisiana State University, Valley HS (Las V...\n",
              "nt-639-1     [who are the players?, which ones are in the t...  ...  [[Ben McDonald, Tyler Houston, Roger Salkeld, ...\n",
              "nt-639-2     [who are the players in the top 26?, of those,...  ...  [[Ben McDonald, Tyler Houston, Roger Salkeld, ...\n",
              "\n",
              "[10 rows x 4 columns]"
            ]
          },
          "metadata": {
            "tags": []
          },
          "execution_count": 7
        }
      ]
    },
    {
      "cell_type": "markdown",
      "metadata": {
        "id": "ggeTAJxIiB_S"
      },
      "source": [
        "\n",
        "Each row in the dataframe above now consists of a table and one or more questions which are asked in a sequence. Let's visualize the first row, i.e. a table, together with its queries:"
      ]
    },
    {
      "cell_type": "code",
      "metadata": {
        "id": "qyOZJCltiCUA"
      },
      "source": [
        ""
      ],
      "execution_count": null,
      "outputs": []
    }
  ]
}