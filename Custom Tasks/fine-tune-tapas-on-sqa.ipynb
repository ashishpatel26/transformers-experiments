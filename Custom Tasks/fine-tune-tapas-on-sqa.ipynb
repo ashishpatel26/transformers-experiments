{
  "nbformat": 4,
  "nbformat_minor": 0,
  "metadata": {
    "colab": {
      "name": "fine-tune-tapas-on-sqa.ipynb",
      "provenance": []
    },
    "kernelspec": {
      "name": "python3",
      "display_name": "Python 3"
    },
    "accelerator": "GPU"
  },
  "cells": [
    {
      "cell_type": "markdown",
      "metadata": {
        "id": "aVPTjd6KfbrU"
      },
      "source": [
        "Don't forget to install pytorch-scatter as it's a dependency for the TAPAS model"
      ]
    },
    {
      "cell_type": "code",
      "metadata": {
        "colab": {
          "base_uri": "https://localhost:8080/"
        },
        "id": "pZ-ke7rGfiPC",
        "outputId": "7859058a-94ce-4e08-cc8a-8450d79c2015"
      },
      "source": [
        "!pip install torch-scatter -f -q https://pytorch-geometric.com/whl/torch-1.8.0+cu101.html\n",
        "!pip install -q transformers"
      ],
      "execution_count": 1,
      "outputs": [
        {
          "output_type": "stream",
          "text": [
            "Looking in links: -q\n",
            "Collecting https://pytorch-geometric.com/whl/torch-1.8.0+cu101.html\n",
            "  Downloading https://pytorch-geometric.com/whl/torch-1.8.0+cu101.html\n",
            "\u001b[31m  ERROR: Cannot unpack file /tmp/pip-unpack-6kuof7q5/torch-1.8.0+cu101.html (downloaded from /tmp/pip-req-build-q_m6ygcp, content-type: text/html); cannot detect archive format\u001b[0m\n",
            "\u001b[31mERROR: Cannot determine archive format of /tmp/pip-req-build-q_m6ygcp\u001b[0m\n",
            "\u001b[K     |████████████████████████████████| 2.1MB 9.7MB/s \n",
            "\u001b[K     |████████████████████████████████| 3.3MB 11.8MB/s \n",
            "\u001b[K     |████████████████████████████████| 901kB 48.9MB/s \n",
            "\u001b[?25h"
          ],
          "name": "stdout"
        }
      ]
    },
    {
      "cell_type": "code",
      "metadata": {
        "id": "LKrDgBXefzlU"
      },
      "source": [
        "import os\n",
        "import ast\n",
        "import torch\n",
        "import collections\n",
        "import requests, zipfile, io\n",
        "\n",
        "import numpy as np\n",
        "import pandas as pd\n",
        "\n",
        "from transformers import TapasTokenizer\n",
        "from transformers import TapasForQuestionAnswering,AdamW"
      ],
      "execution_count": 2,
      "outputs": []
    },
    {
      "cell_type": "code",
      "metadata": {
        "id": "r7euVtZkf2A6"
      },
      "source": [
        "def download_files(dir_name):\n",
        "  if not os.path.exists(dir_name): \n",
        "    # 28 training examples from the SQA training set + table csv data\n",
        "    urls = [\"https://www.dropbox.com/s/2p6ez9xro357i63/sqa_train_set_28_examples.zip?dl=1\",\n",
        "            \"https://www.dropbox.com/s/abhum8ssuow87h6/table_csv.zip?dl=1\"\n",
        "    ]\n",
        "    for url in urls:\n",
        "      r = requests.get(url)\n",
        "      z = zipfile.ZipFile(io.BytesIO(r.content))\n",
        "      z.extractall()\n",
        "\n",
        "dir_name = \"sqa_data\"\n",
        "download_files(dir_name)"
      ],
      "execution_count": 3,
      "outputs": []
    },
    {
      "cell_type": "code",
      "metadata": {
        "id": "QrWdFUbCgL8M"
      },
      "source": [
        ""
      ],
      "execution_count": null,
      "outputs": []
    }
  ]
}