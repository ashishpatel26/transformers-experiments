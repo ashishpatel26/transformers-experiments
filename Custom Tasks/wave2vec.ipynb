{
  "nbformat": 4,
  "nbformat_minor": 0,
  "metadata": {
    "colab": {
      "name": "wave2vec.ipynb",
      "provenance": [],
      "toc_visible": true
    },
    "kernelspec": {
      "name": "python3",
      "display_name": "Python 3"
    },
    "accelerator": "GPU"
  },
  "cells": [
    {
      "cell_type": "code",
      "metadata": {
        "id": "JqZesf8SWF3g"
      },
      "source": [
        "!pip -q install transformers\n",
        "!pip -q install youtube_dl\n",
        "!pip -q install moviepy==2.0.0.dev2"
      ],
      "execution_count": 1,
      "outputs": []
    },
    {
      "cell_type": "code",
      "metadata": {
        "id": "6gO6TlBcWHcV"
      },
      "source": [
        "import os\n",
        "import torch\n",
        "import librosa\n",
        "\n",
        "import moviepy.editor as mp\n",
        "\n",
        "from IPython.display import Audio\n",
        "from transformers import Wav2Vec2Tokenizer, Wav2Vec2ForCTC"
      ],
      "execution_count": 2,
      "outputs": []
    },
    {
      "cell_type": "code",
      "metadata": {
        "id": "yKJSVvYIWWyE"
      },
      "source": [
        "# Substitute below YT link\n",
        "clip = \"https://www.youtube.com/watch?v=7Ood-IE7sx4\"\n",
        "\n",
        "# Substitue below for start/end seconds\n",
        "start = 1\n",
        "end = 60"
      ],
      "execution_count": 3,
      "outputs": []
    },
    {
      "cell_type": "code",
      "metadata": {
        "colab": {
          "base_uri": "https://localhost:8080/"
        },
        "id": "uCqUir5lXXHo",
        "outputId": "daef8c61-f3c1-4d0d-fda1-739223ff82d7"
      },
      "source": [
        "os.system('youtube-dl {} --recode-video mp4'.format(clip))\n",
        "os.system('mv *.mp4 clip.mp4')"
      ],
      "execution_count": 4,
      "outputs": [
        {
          "output_type": "execute_result",
          "data": {
            "text/plain": [
              "256"
            ]
          },
          "metadata": {
            "tags": []
          },
          "execution_count": 4
        }
      ]
    },
    {
      "cell_type": "markdown",
      "metadata": {
        "id": "W2_LZffYXlRj"
      },
      "source": [
        "### Load Model and Tokenizer"
      ]
    },
    {
      "cell_type": "code",
      "metadata": {
        "colab": {
          "base_uri": "https://localhost:8080/"
        },
        "id": "TTCAw-T1Xpjp",
        "outputId": "245badf6-bf40-46dc-8ee6-f2b7e8fbd208"
      },
      "source": [
        "# Load Wav2Vec from huggingface\n",
        "tokenizer = Wav2Vec2Tokenizer.from_pretrained(\"facebook/wav2vec2-base-960h\")\n",
        "model = Wav2Vec2ForCTC.from_pretrained(\"facebook/wav2vec2-base-960h\")"
      ],
      "execution_count": 5,
      "outputs": [
        {
          "output_type": "stream",
          "text": [
            "/usr/local/lib/python3.7/dist-packages/transformers/models/wav2vec2/tokenization_wav2vec2.py:358: FutureWarning: The class `Wav2Vec2Tokenizer` is deprecated and will be removed in version 5 of Transformers. Please use `Wav2Vec2Processor` or `Wav2Vec2CTCTokenizer` instead.\n",
            "  FutureWarning,\n",
            "Some weights of Wav2Vec2ForCTC were not initialized from the model checkpoint at facebook/wav2vec2-base-960h and are newly initialized: ['wav2vec2.masked_spec_embed']\n",
            "You should probably TRAIN this model on a down-stream task to be able to use it for predictions and inference.\n"
          ],
          "name": "stderr"
        }
      ]
    },
    {
      "cell_type": "markdown",
      "metadata": {
        "id": "Ke0NrFQYXzcP"
      },
      "source": [
        "### Extract Audio"
      ]
    },
    {
      "cell_type": "code",
      "metadata": {
        "colab": {
          "base_uri": "https://localhost:8080/"
        },
        "id": "aqeYEo16X1dh",
        "outputId": "343499b6-8a92-4b64-acbe-b62f9915d155"
      },
      "source": [
        "clip = mp.VideoFileClip(\"clip.mp4\")\n",
        "end = min(clip.duration, end)\n",
        "\n",
        "# Save the paths for later\n",
        "clip_paths = []\n",
        "\n",
        "# Extract Audio-only from mp4\n",
        "for i in range(start, int(end), 10):\n",
        "  sub_end = min(i+10, end)\n",
        "  sub_clip = clip.subclip(i,sub_end)\n",
        "\n",
        "  sub_clip.audio.write_audiofile(\"audio_\" + str(i) + \".mp3\")\n",
        "  clip_paths.append(\"audio_\" + str(i) + \".mp3\")"
      ],
      "execution_count": 6,
      "outputs": [
        {
          "output_type": "stream",
          "text": [
            "chunk:  45%|████▌     | 100/221 [00:00<00:00, 997.53it/s, now=None]"
          ],
          "name": "stderr"
        },
        {
          "output_type": "stream",
          "text": [
            "MoviePy - Writing audio in audio_1.mp3\n"
          ],
          "name": "stdout"
        },
        {
          "output_type": "stream",
          "text": [
            ""
          ],
          "name": "stderr"
        },
        {
          "output_type": "stream",
          "text": [
            "MoviePy - Done.\n"
          ],
          "name": "stdout"
        },
        {
          "output_type": "stream",
          "text": [
            "chunk:  43%|████▎     | 95/221 [00:00<00:00, 935.28it/s, now=None]"
          ],
          "name": "stderr"
        },
        {
          "output_type": "stream",
          "text": [
            "MoviePy - Writing audio in audio_11.mp3\n"
          ],
          "name": "stdout"
        },
        {
          "output_type": "stream",
          "text": [
            ""
          ],
          "name": "stderr"
        },
        {
          "output_type": "stream",
          "text": [
            "MoviePy - Done.\n"
          ],
          "name": "stdout"
        },
        {
          "output_type": "stream",
          "text": [
            "chunk:  44%|████▍     | 97/221 [00:00<00:00, 938.54it/s, now=None]"
          ],
          "name": "stderr"
        },
        {
          "output_type": "stream",
          "text": [
            "MoviePy - Writing audio in audio_21.mp3\n"
          ],
          "name": "stdout"
        },
        {
          "output_type": "stream",
          "text": [
            ""
          ],
          "name": "stderr"
        },
        {
          "output_type": "stream",
          "text": [
            "MoviePy - Done.\n"
          ],
          "name": "stdout"
        },
        {
          "output_type": "stream",
          "text": [
            "chunk:  57%|█████▋    | 125/221 [00:00<00:00, 1244.62it/s, now=None]"
          ],
          "name": "stderr"
        },
        {
          "output_type": "stream",
          "text": [
            "MoviePy - Writing audio in audio_31.mp3\n"
          ],
          "name": "stdout"
        },
        {
          "output_type": "stream",
          "text": [
            ""
          ],
          "name": "stderr"
        },
        {
          "output_type": "stream",
          "text": [
            "MoviePy - Done.\n"
          ],
          "name": "stdout"
        },
        {
          "output_type": "stream",
          "text": [
            "chunk:  49%|████▉     | 109/221 [00:00<00:00, 1086.75it/s, now=None]"
          ],
          "name": "stderr"
        },
        {
          "output_type": "stream",
          "text": [
            "MoviePy - Writing audio in audio_41.mp3\n"
          ],
          "name": "stdout"
        },
        {
          "output_type": "stream",
          "text": [
            ""
          ],
          "name": "stderr"
        },
        {
          "output_type": "stream",
          "text": [
            "MoviePy - Done.\n"
          ],
          "name": "stdout"
        },
        {
          "output_type": "stream",
          "text": [
            "chunk:  53%|█████▎    | 105/199 [00:00<00:00, 1029.89it/s, now=None]"
          ],
          "name": "stderr"
        },
        {
          "output_type": "stream",
          "text": [
            "MoviePy - Writing audio in audio_51.mp3\n"
          ],
          "name": "stdout"
        },
        {
          "output_type": "stream",
          "text": [
            "                                                                   "
          ],
          "name": "stderr"
        },
        {
          "output_type": "stream",
          "text": [
            "MoviePy - Done.\n"
          ],
          "name": "stdout"
        },
        {
          "output_type": "stream",
          "text": [
            "\r"
          ],
          "name": "stderr"
        }
      ]
    },
    {
      "cell_type": "code",
      "metadata": {
        "id": "GXpvZbPQZv_v"
      },
      "source": [
        ""
      ],
      "execution_count": null,
      "outputs": []
    }
  ]
}