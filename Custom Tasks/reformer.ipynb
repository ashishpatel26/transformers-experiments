{
 "cells": [
  {
   "cell_type": "code",
   "execution_count": 1,
   "metadata": {},
   "outputs": [],
   "source": [
    "import os\n",
    "import nlp\n",
    "import torch\n",
    "import psutil\n",
    "import pyarrow\n",
    "import humanize\n",
    "\n",
    "import GPUtil as GPU\n",
    "\n",
    "from transformers import (\n",
    "    ReformerModelWithLMHead,\n",
    "    ReformerTokenizer,\n",
    "    ReformerConfig,\n",
    "    Trainer,\n",
    "    DataCollator,\n",
    "    TrainingArguments,\n",
    ")"
   ]
  },
  {
   "cell_type": "code",
   "execution_count": 2,
   "metadata": {},
   "outputs": [],
   "source": [
    "GPUs = GPU.getGPUs()"
   ]
  },
  {
   "cell_type": "code",
   "execution_count": 3,
   "metadata": {},
   "outputs": [],
   "source": [
    "gpu = GPUs[0]"
   ]
  },
  {
   "cell_type": "code",
   "execution_count": 4,
   "metadata": {},
   "outputs": [
    {
     "name": "stdout",
     "output_type": "stream",
     "text": [
      "Gen RAM Free: 29.9 GB  | Proc size: 326.0 MB\n",
      "GPU RAM Free: 9336MB | Used: 674MB | Util   7% | Total 10010MB\n"
     ]
    }
   ],
   "source": [
    "process = psutil.Process(os.getpid())\n",
    "print(\"Gen RAM Free: \" + humanize.naturalsize( psutil.virtual_memory().available ),\\\n",
    "      \" | Proc size: \" + humanize.naturalsize( process.memory_info().rss))\n",
    "print(\"GPU RAM Free: {0:.0f}MB | Used: {1:.0f}MB | Util {2:3.0f}% | Total {3:.0f}MB\".format(\\\n",
    "        gpu.memoryFree, gpu.memoryUsed, gpu.memoryUtil*100, gpu.memoryTotal))"
   ]
  },
  {
   "cell_type": "code",
   "execution_count": 5,
   "metadata": {},
   "outputs": [],
   "source": [
    "dataset = nlp.load_dataset(\"crime_and_punish\", split=\"train\")"
   ]
  },
  {
   "cell_type": "code",
   "execution_count": 6,
   "metadata": {},
   "outputs": [
    {
     "name": "stderr",
     "output_type": "stream",
     "text": [
      "Special tokens have been added in the vocabulary, make sure the associated word embedding are fine-tuned or trained.\n"
     ]
    }
   ],
   "source": [
    "tokenizer = ReformerTokenizer.from_pretrained(\"google/reformer-crime-and-punishment\")"
   ]
  },
  {
   "cell_type": "markdown",
   "metadata": {},
   "source": [
    "\n",
    "Because want to pack all data into a single sample, we use the handy map() function to reduce the dataset into one sample and pad the sample to a length of 524288. We then expand the same sample to 8 training samples so that we can accumulate gradients during training. Finally, we make the dataset ready for training, by only keeping the columns needed for training."
   ]
  },
  {
   "cell_type": "code",
   "execution_count": 7,
   "metadata": {},
   "outputs": [
    {
     "data": {
      "application/vnd.jupyter.widget-view+json": {
       "model_id": "d69c66e37d57466e92d11ff8e8df074b",
       "version_major": 2,
       "version_minor": 0
      },
      "text/plain": [
       "HBox(children=(HTML(value=''), FloatProgress(value=0.0, max=1.0), HTML(value='')))"
      ]
     },
     "metadata": {},
     "output_type": "display_data"
    },
    {
     "name": "stdout",
     "output_type": "stream",
     "text": [
      "\n"
     ]
    }
   ],
   "source": [
    "sequence_length = 2 ** 19  # 524288\n",
    "\n",
    "# define our map function to reduce the dataset to one sample\n",
    "def flatten_and_tokenize(batch):\n",
    "  all_input_text = [\"\".join(batch[\"line\"])]\n",
    "  input_ids_dict = tokenizer.batch_encode_plus(\n",
    "      all_input_text, padding = 'max_length', max_length=sequence_length\n",
    "  )\n",
    "\n",
    "    # duplicate data 8 times to have have 8 examples in dataset\n",
    "  for key in input_ids_dict.keys():\n",
    "    input_ids_dict[key] = [8 * [x] for x in input_ids_dict[key]][0]\n",
    "\n",
    "  return input_ids_dict\n",
    "\n",
    "# reduce the dataset and set batch_size to all inputs\n",
    "dataset = dataset.map(\n",
    "  flatten_and_tokenize, batched=True, batch_size=-1, remove_columns=[\"line\"]\n",
    ")\n",
    "\n",
    "# prepare dataset to be in torch format\n",
    "dataset.set_format(type=\"torch\", columns=[\"input_ids\", \"attention_mask\"])"
   ]
  },
  {
   "cell_type": "code",
   "execution_count": null,
   "metadata": {},
   "outputs": [],
   "source": []
  }
 ],
 "metadata": {
  "kernelspec": {
   "display_name": "Python 3",
   "language": "python",
   "name": "python3"
  },
  "language_info": {
   "codemirror_mode": {
    "name": "ipython",
    "version": 3
   },
   "file_extension": ".py",
   "mimetype": "text/x-python",
   "name": "python",
   "nbconvert_exporter": "python",
   "pygments_lexer": "ipython3",
   "version": "3.8.5"
  }
 },
 "nbformat": 4,
 "nbformat_minor": 4
}
