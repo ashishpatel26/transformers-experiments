{
  "nbformat": 4,
  "nbformat_minor": 0,
  "metadata": {
    "kernelspec": {
      "display_name": "Python 3",
      "language": "python",
      "name": "python3"
    },
    "language_info": {
      "codemirror_mode": {
        "name": "ipython",
        "version": 3
      },
      "file_extension": ".py",
      "mimetype": "text/x-python",
      "name": "python",
      "nbconvert_exporter": "python",
      "pygments_lexer": "ipython3",
      "version": "3.8.5"
    },
    "colab": {
      "name": "reformer.ipynb",
      "provenance": []
    },
    "accelerator": "GPU",
    "widgets": {
      "application/vnd.jupyter.widget-state+json": {
        "27b591e75844420cb2390b2693c6aa7a": {
          "model_module": "@jupyter-widgets/controls",
          "model_name": "HBoxModel",
          "state": {
            "_view_name": "HBoxView",
            "_dom_classes": [],
            "_model_name": "HBoxModel",
            "_view_module": "@jupyter-widgets/controls",
            "_model_module_version": "1.5.0",
            "_view_count": null,
            "_view_module_version": "1.5.0",
            "box_style": "",
            "layout": "IPY_MODEL_7e68a27f171345c0a1a34ff7f831ae0b",
            "_model_module": "@jupyter-widgets/controls",
            "children": [
              "IPY_MODEL_1ad7811b18e040fea2848219ddd9745d",
              "IPY_MODEL_b9d412335e5a41caa5f1fb5646f7a4ca"
            ]
          }
        },
        "7e68a27f171345c0a1a34ff7f831ae0b": {
          "model_module": "@jupyter-widgets/base",
          "model_name": "LayoutModel",
          "state": {
            "_view_name": "LayoutView",
            "grid_template_rows": null,
            "right": null,
            "justify_content": null,
            "_view_module": "@jupyter-widgets/base",
            "overflow": null,
            "_model_module_version": "1.2.0",
            "_view_count": null,
            "flex_flow": null,
            "width": null,
            "min_width": null,
            "border": null,
            "align_items": null,
            "bottom": null,
            "_model_module": "@jupyter-widgets/base",
            "top": null,
            "grid_column": null,
            "overflow_y": null,
            "overflow_x": null,
            "grid_auto_flow": null,
            "grid_area": null,
            "grid_template_columns": null,
            "flex": null,
            "_model_name": "LayoutModel",
            "justify_items": null,
            "grid_row": null,
            "max_height": null,
            "align_content": null,
            "visibility": null,
            "align_self": null,
            "height": null,
            "min_height": null,
            "padding": null,
            "grid_auto_rows": null,
            "grid_gap": null,
            "max_width": null,
            "order": null,
            "_view_module_version": "1.2.0",
            "grid_template_areas": null,
            "object_position": null,
            "object_fit": null,
            "grid_auto_columns": null,
            "margin": null,
            "display": null,
            "left": null
          }
        },
        "1ad7811b18e040fea2848219ddd9745d": {
          "model_module": "@jupyter-widgets/controls",
          "model_name": "FloatProgressModel",
          "state": {
            "_view_name": "ProgressView",
            "style": "IPY_MODEL_6536bdb87b6043f4b938f7bffeeef879",
            "_dom_classes": [],
            "description": "Downloading: 100%",
            "_model_name": "FloatProgressModel",
            "bar_style": "success",
            "max": 241801,
            "_view_module": "@jupyter-widgets/controls",
            "_model_module_version": "1.5.0",
            "value": 241801,
            "_view_count": null,
            "_view_module_version": "1.5.0",
            "orientation": "horizontal",
            "min": 0,
            "description_tooltip": null,
            "_model_module": "@jupyter-widgets/controls",
            "layout": "IPY_MODEL_337fbbaad3f842499c79c9b6f3329b56"
          }
        },
        "b9d412335e5a41caa5f1fb5646f7a4ca": {
          "model_module": "@jupyter-widgets/controls",
          "model_name": "HTMLModel",
          "state": {
            "_view_name": "HTMLView",
            "style": "IPY_MODEL_05e6294cca534975ad7c12920c7472bb",
            "_dom_classes": [],
            "description": "",
            "_model_name": "HTMLModel",
            "placeholder": "​",
            "_view_module": "@jupyter-widgets/controls",
            "_model_module_version": "1.5.0",
            "value": " 242k/242k [00:00&lt;00:00, 2.97MB/s]",
            "_view_count": null,
            "_view_module_version": "1.5.0",
            "description_tooltip": null,
            "_model_module": "@jupyter-widgets/controls",
            "layout": "IPY_MODEL_b6db9bbf718449d3aea4e5c1bc4cb0d0"
          }
        },
        "6536bdb87b6043f4b938f7bffeeef879": {
          "model_module": "@jupyter-widgets/controls",
          "model_name": "ProgressStyleModel",
          "state": {
            "_view_name": "StyleView",
            "_model_name": "ProgressStyleModel",
            "description_width": "initial",
            "_view_module": "@jupyter-widgets/base",
            "_model_module_version": "1.5.0",
            "_view_count": null,
            "_view_module_version": "1.2.0",
            "bar_color": null,
            "_model_module": "@jupyter-widgets/controls"
          }
        },
        "337fbbaad3f842499c79c9b6f3329b56": {
          "model_module": "@jupyter-widgets/base",
          "model_name": "LayoutModel",
          "state": {
            "_view_name": "LayoutView",
            "grid_template_rows": null,
            "right": null,
            "justify_content": null,
            "_view_module": "@jupyter-widgets/base",
            "overflow": null,
            "_model_module_version": "1.2.0",
            "_view_count": null,
            "flex_flow": null,
            "width": null,
            "min_width": null,
            "border": null,
            "align_items": null,
            "bottom": null,
            "_model_module": "@jupyter-widgets/base",
            "top": null,
            "grid_column": null,
            "overflow_y": null,
            "overflow_x": null,
            "grid_auto_flow": null,
            "grid_area": null,
            "grid_template_columns": null,
            "flex": null,
            "_model_name": "LayoutModel",
            "justify_items": null,
            "grid_row": null,
            "max_height": null,
            "align_content": null,
            "visibility": null,
            "align_self": null,
            "height": null,
            "min_height": null,
            "padding": null,
            "grid_auto_rows": null,
            "grid_gap": null,
            "max_width": null,
            "order": null,
            "_view_module_version": "1.2.0",
            "grid_template_areas": null,
            "object_position": null,
            "object_fit": null,
            "grid_auto_columns": null,
            "margin": null,
            "display": null,
            "left": null
          }
        },
        "05e6294cca534975ad7c12920c7472bb": {
          "model_module": "@jupyter-widgets/controls",
          "model_name": "DescriptionStyleModel",
          "state": {
            "_view_name": "StyleView",
            "_model_name": "DescriptionStyleModel",
            "description_width": "",
            "_view_module": "@jupyter-widgets/base",
            "_model_module_version": "1.5.0",
            "_view_count": null,
            "_view_module_version": "1.2.0",
            "_model_module": "@jupyter-widgets/controls"
          }
        },
        "b6db9bbf718449d3aea4e5c1bc4cb0d0": {
          "model_module": "@jupyter-widgets/base",
          "model_name": "LayoutModel",
          "state": {
            "_view_name": "LayoutView",
            "grid_template_rows": null,
            "right": null,
            "justify_content": null,
            "_view_module": "@jupyter-widgets/base",
            "overflow": null,
            "_model_module_version": "1.2.0",
            "_view_count": null,
            "flex_flow": null,
            "width": null,
            "min_width": null,
            "border": null,
            "align_items": null,
            "bottom": null,
            "_model_module": "@jupyter-widgets/base",
            "top": null,
            "grid_column": null,
            "overflow_y": null,
            "overflow_x": null,
            "grid_auto_flow": null,
            "grid_area": null,
            "grid_template_columns": null,
            "flex": null,
            "_model_name": "LayoutModel",
            "justify_items": null,
            "grid_row": null,
            "max_height": null,
            "align_content": null,
            "visibility": null,
            "align_self": null,
            "height": null,
            "min_height": null,
            "padding": null,
            "grid_auto_rows": null,
            "grid_gap": null,
            "max_width": null,
            "order": null,
            "_view_module_version": "1.2.0",
            "grid_template_areas": null,
            "object_position": null,
            "object_fit": null,
            "grid_auto_columns": null,
            "margin": null,
            "display": null,
            "left": null
          }
        },
        "c8f9db94007c485293f718f6b1d7846e": {
          "model_module": "@jupyter-widgets/controls",
          "model_name": "HBoxModel",
          "state": {
            "_view_name": "HBoxView",
            "_dom_classes": [],
            "_model_name": "HBoxModel",
            "_view_module": "@jupyter-widgets/controls",
            "_model_module_version": "1.5.0",
            "_view_count": null,
            "_view_module_version": "1.5.0",
            "box_style": "",
            "layout": "IPY_MODEL_cb7f5b79337c48cb8b3c9d38eb607d3a",
            "_model_module": "@jupyter-widgets/controls",
            "children": [
              "IPY_MODEL_7ca9a4f761d3451e8493b9b3231203a5",
              "IPY_MODEL_97837b5950ae41948a442a606d552991"
            ]
          }
        },
        "cb7f5b79337c48cb8b3c9d38eb607d3a": {
          "model_module": "@jupyter-widgets/base",
          "model_name": "LayoutModel",
          "state": {
            "_view_name": "LayoutView",
            "grid_template_rows": null,
            "right": null,
            "justify_content": null,
            "_view_module": "@jupyter-widgets/base",
            "overflow": null,
            "_model_module_version": "1.2.0",
            "_view_count": null,
            "flex_flow": null,
            "width": null,
            "min_width": null,
            "border": null,
            "align_items": null,
            "bottom": null,
            "_model_module": "@jupyter-widgets/base",
            "top": null,
            "grid_column": null,
            "overflow_y": null,
            "overflow_x": null,
            "grid_auto_flow": null,
            "grid_area": null,
            "grid_template_columns": null,
            "flex": null,
            "_model_name": "LayoutModel",
            "justify_items": null,
            "grid_row": null,
            "max_height": null,
            "align_content": null,
            "visibility": null,
            "align_self": null,
            "height": null,
            "min_height": null,
            "padding": null,
            "grid_auto_rows": null,
            "grid_gap": null,
            "max_width": null,
            "order": null,
            "_view_module_version": "1.2.0",
            "grid_template_areas": null,
            "object_position": null,
            "object_fit": null,
            "grid_auto_columns": null,
            "margin": null,
            "display": null,
            "left": null
          }
        },
        "7ca9a4f761d3451e8493b9b3231203a5": {
          "model_module": "@jupyter-widgets/controls",
          "model_name": "FloatProgressModel",
          "state": {
            "_view_name": "ProgressView",
            "style": "IPY_MODEL_78cec70c054c4aa599913ffb3788ed1b",
            "_dom_classes": [],
            "description": "100%",
            "_model_name": "FloatProgressModel",
            "bar_style": "success",
            "max": 1,
            "_view_module": "@jupyter-widgets/controls",
            "_model_module_version": "1.5.0",
            "value": 1,
            "_view_count": null,
            "_view_module_version": "1.5.0",
            "orientation": "horizontal",
            "min": 0,
            "description_tooltip": null,
            "_model_module": "@jupyter-widgets/controls",
            "layout": "IPY_MODEL_f13f780af7ad4f74ab8b876e3d80c3c4"
          }
        },
        "97837b5950ae41948a442a606d552991": {
          "model_module": "@jupyter-widgets/controls",
          "model_name": "HTMLModel",
          "state": {
            "_view_name": "HTMLView",
            "style": "IPY_MODEL_c576855d803d49b18953d1c0e58f7734",
            "_dom_classes": [],
            "description": "",
            "_model_name": "HTMLModel",
            "placeholder": "​",
            "_view_module": "@jupyter-widgets/controls",
            "_model_module_version": "1.5.0",
            "value": " 1/1 [00:10&lt;00:00, 10.89s/it]",
            "_view_count": null,
            "_view_module_version": "1.5.0",
            "description_tooltip": null,
            "_model_module": "@jupyter-widgets/controls",
            "layout": "IPY_MODEL_866794856cbe4660a2a8934d76d312ab"
          }
        },
        "78cec70c054c4aa599913ffb3788ed1b": {
          "model_module": "@jupyter-widgets/controls",
          "model_name": "ProgressStyleModel",
          "state": {
            "_view_name": "StyleView",
            "_model_name": "ProgressStyleModel",
            "description_width": "initial",
            "_view_module": "@jupyter-widgets/base",
            "_model_module_version": "1.5.0",
            "_view_count": null,
            "_view_module_version": "1.2.0",
            "bar_color": null,
            "_model_module": "@jupyter-widgets/controls"
          }
        },
        "f13f780af7ad4f74ab8b876e3d80c3c4": {
          "model_module": "@jupyter-widgets/base",
          "model_name": "LayoutModel",
          "state": {
            "_view_name": "LayoutView",
            "grid_template_rows": null,
            "right": null,
            "justify_content": null,
            "_view_module": "@jupyter-widgets/base",
            "overflow": null,
            "_model_module_version": "1.2.0",
            "_view_count": null,
            "flex_flow": null,
            "width": null,
            "min_width": null,
            "border": null,
            "align_items": null,
            "bottom": null,
            "_model_module": "@jupyter-widgets/base",
            "top": null,
            "grid_column": null,
            "overflow_y": null,
            "overflow_x": null,
            "grid_auto_flow": null,
            "grid_area": null,
            "grid_template_columns": null,
            "flex": null,
            "_model_name": "LayoutModel",
            "justify_items": null,
            "grid_row": null,
            "max_height": null,
            "align_content": null,
            "visibility": null,
            "align_self": null,
            "height": null,
            "min_height": null,
            "padding": null,
            "grid_auto_rows": null,
            "grid_gap": null,
            "max_width": null,
            "order": null,
            "_view_module_version": "1.2.0",
            "grid_template_areas": null,
            "object_position": null,
            "object_fit": null,
            "grid_auto_columns": null,
            "margin": null,
            "display": null,
            "left": null
          }
        },
        "c576855d803d49b18953d1c0e58f7734": {
          "model_module": "@jupyter-widgets/controls",
          "model_name": "DescriptionStyleModel",
          "state": {
            "_view_name": "StyleView",
            "_model_name": "DescriptionStyleModel",
            "description_width": "",
            "_view_module": "@jupyter-widgets/base",
            "_model_module_version": "1.5.0",
            "_view_count": null,
            "_view_module_version": "1.2.0",
            "_model_module": "@jupyter-widgets/controls"
          }
        },
        "866794856cbe4660a2a8934d76d312ab": {
          "model_module": "@jupyter-widgets/base",
          "model_name": "LayoutModel",
          "state": {
            "_view_name": "LayoutView",
            "grid_template_rows": null,
            "right": null,
            "justify_content": null,
            "_view_module": "@jupyter-widgets/base",
            "overflow": null,
            "_model_module_version": "1.2.0",
            "_view_count": null,
            "flex_flow": null,
            "width": null,
            "min_width": null,
            "border": null,
            "align_items": null,
            "bottom": null,
            "_model_module": "@jupyter-widgets/base",
            "top": null,
            "grid_column": null,
            "overflow_y": null,
            "overflow_x": null,
            "grid_auto_flow": null,
            "grid_area": null,
            "grid_template_columns": null,
            "flex": null,
            "_model_name": "LayoutModel",
            "justify_items": null,
            "grid_row": null,
            "max_height": null,
            "align_content": null,
            "visibility": null,
            "align_self": null,
            "height": null,
            "min_height": null,
            "padding": null,
            "grid_auto_rows": null,
            "grid_gap": null,
            "max_width": null,
            "order": null,
            "_view_module_version": "1.2.0",
            "grid_template_areas": null,
            "object_position": null,
            "object_fit": null,
            "grid_auto_columns": null,
            "margin": null,
            "display": null,
            "left": null
          }
        }
      }
    }
  },
  "cells": [
    {
      "cell_type": "code",
      "metadata": {
        "colab": {
          "base_uri": "https://localhost:8080/"
        },
        "id": "cTk_WuSZzEOS",
        "outputId": "9c14dfee-b155-4ea5-ef08-222f98141460"
      },
      "source": [
        "!pip -q install gputil psutil humanize transformers nlp sentencepiece"
      ],
      "execution_count": 1,
      "outputs": [
        {
          "output_type": "stream",
          "text": [
            "\u001b[?25l\r\u001b[K     |▎                               | 10kB 19.1MB/s eta 0:00:01\r\u001b[K     |▋                               | 20kB 19.3MB/s eta 0:00:01\r\u001b[K     |▉                               | 30kB 10.3MB/s eta 0:00:01\r\u001b[K     |█▏                              | 40kB 8.4MB/s eta 0:00:01\r\u001b[K     |█▌                              | 51kB 4.1MB/s eta 0:00:01\r\u001b[K     |█▊                              | 61kB 4.6MB/s eta 0:00:01\r\u001b[K     |██                              | 71kB 4.8MB/s eta 0:00:01\r\u001b[K     |██▍                             | 81kB 5.1MB/s eta 0:00:01\r\u001b[K     |██▋                             | 92kB 5.4MB/s eta 0:00:01\r\u001b[K     |███                             | 102kB 5.6MB/s eta 0:00:01\r\u001b[K     |███▎                            | 112kB 5.6MB/s eta 0:00:01\r\u001b[K     |███▌                            | 122kB 5.6MB/s eta 0:00:01\r\u001b[K     |███▉                            | 133kB 5.6MB/s eta 0:00:01\r\u001b[K     |████▏                           | 143kB 5.6MB/s eta 0:00:01\r\u001b[K     |████▍                           | 153kB 5.6MB/s eta 0:00:01\r\u001b[K     |████▊                           | 163kB 5.6MB/s eta 0:00:01\r\u001b[K     |█████                           | 174kB 5.6MB/s eta 0:00:01\r\u001b[K     |█████▎                          | 184kB 5.6MB/s eta 0:00:01\r\u001b[K     |█████▋                          | 194kB 5.6MB/s eta 0:00:01\r\u001b[K     |█████▉                          | 204kB 5.6MB/s eta 0:00:01\r\u001b[K     |██████▏                         | 215kB 5.6MB/s eta 0:00:01\r\u001b[K     |██████▌                         | 225kB 5.6MB/s eta 0:00:01\r\u001b[K     |██████▊                         | 235kB 5.6MB/s eta 0:00:01\r\u001b[K     |███████                         | 245kB 5.6MB/s eta 0:00:01\r\u001b[K     |███████▍                        | 256kB 5.6MB/s eta 0:00:01\r\u001b[K     |███████▋                        | 266kB 5.6MB/s eta 0:00:01\r\u001b[K     |████████                        | 276kB 5.6MB/s eta 0:00:01\r\u001b[K     |████████▎                       | 286kB 5.6MB/s eta 0:00:01\r\u001b[K     |████████▌                       | 296kB 5.6MB/s eta 0:00:01\r\u001b[K     |████████▉                       | 307kB 5.6MB/s eta 0:00:01\r\u001b[K     |█████████                       | 317kB 5.6MB/s eta 0:00:01\r\u001b[K     |█████████▍                      | 327kB 5.6MB/s eta 0:00:01\r\u001b[K     |█████████▊                      | 337kB 5.6MB/s eta 0:00:01\r\u001b[K     |██████████                      | 348kB 5.6MB/s eta 0:00:01\r\u001b[K     |██████████▎                     | 358kB 5.6MB/s eta 0:00:01\r\u001b[K     |██████████▋                     | 368kB 5.6MB/s eta 0:00:01\r\u001b[K     |██████████▉                     | 378kB 5.6MB/s eta 0:00:01\r\u001b[K     |███████████▏                    | 389kB 5.6MB/s eta 0:00:01\r\u001b[K     |███████████▌                    | 399kB 5.6MB/s eta 0:00:01\r\u001b[K     |███████████▊                    | 409kB 5.6MB/s eta 0:00:01\r\u001b[K     |████████████                    | 419kB 5.6MB/s eta 0:00:01\r\u001b[K     |████████████▍                   | 430kB 5.6MB/s eta 0:00:01\r\u001b[K     |████████████▋                   | 440kB 5.6MB/s eta 0:00:01\r\u001b[K     |█████████████                   | 450kB 5.6MB/s eta 0:00:01\r\u001b[K     |█████████████▎                  | 460kB 5.6MB/s eta 0:00:01\r\u001b[K     |█████████████▌                  | 471kB 5.6MB/s eta 0:00:01\r\u001b[K     |█████████████▉                  | 481kB 5.6MB/s eta 0:00:01\r\u001b[K     |██████████████                  | 491kB 5.6MB/s eta 0:00:01\r\u001b[K     |██████████████▍                 | 501kB 5.6MB/s eta 0:00:01\r\u001b[K     |██████████████▊                 | 512kB 5.6MB/s eta 0:00:01\r\u001b[K     |███████████████                 | 522kB 5.6MB/s eta 0:00:01\r\u001b[K     |███████████████▎                | 532kB 5.6MB/s eta 0:00:01\r\u001b[K     |███████████████▋                | 542kB 5.6MB/s eta 0:00:01\r\u001b[K     |███████████████▉                | 552kB 5.6MB/s eta 0:00:01\r\u001b[K     |████████████████▏               | 563kB 5.6MB/s eta 0:00:01\r\u001b[K     |████████████████▌               | 573kB 5.6MB/s eta 0:00:01\r\u001b[K     |████████████████▊               | 583kB 5.6MB/s eta 0:00:01\r\u001b[K     |█████████████████               | 593kB 5.6MB/s eta 0:00:01\r\u001b[K     |█████████████████▍              | 604kB 5.6MB/s eta 0:00:01\r\u001b[K     |█████████████████▋              | 614kB 5.6MB/s eta 0:00:01\r\u001b[K     |██████████████████              | 624kB 5.6MB/s eta 0:00:01\r\u001b[K     |██████████████████▏             | 634kB 5.6MB/s eta 0:00:01\r\u001b[K     |██████████████████▌             | 645kB 5.6MB/s eta 0:00:01\r\u001b[K     |██████████████████▉             | 655kB 5.6MB/s eta 0:00:01\r\u001b[K     |███████████████████             | 665kB 5.6MB/s eta 0:00:01\r\u001b[K     |███████████████████▍            | 675kB 5.6MB/s eta 0:00:01\r\u001b[K     |███████████████████▊            | 686kB 5.6MB/s eta 0:00:01\r\u001b[K     |████████████████████            | 696kB 5.6MB/s eta 0:00:01\r\u001b[K     |████████████████████▎           | 706kB 5.6MB/s eta 0:00:01\r\u001b[K     |████████████████████▋           | 716kB 5.6MB/s eta 0:00:01\r\u001b[K     |████████████████████▉           | 727kB 5.6MB/s eta 0:00:01\r\u001b[K     |█████████████████████▏          | 737kB 5.6MB/s eta 0:00:01\r\u001b[K     |█████████████████████▌          | 747kB 5.6MB/s eta 0:00:01\r\u001b[K     |█████████████████████▊          | 757kB 5.6MB/s eta 0:00:01\r\u001b[K     |██████████████████████          | 768kB 5.6MB/s eta 0:00:01\r\u001b[K     |██████████████████████▎         | 778kB 5.6MB/s eta 0:00:01\r\u001b[K     |██████████████████████▋         | 788kB 5.6MB/s eta 0:00:01\r\u001b[K     |███████████████████████         | 798kB 5.6MB/s eta 0:00:01\r\u001b[K     |███████████████████████▏        | 808kB 5.6MB/s eta 0:00:01\r\u001b[K     |███████████████████████▌        | 819kB 5.6MB/s eta 0:00:01\r\u001b[K     |███████████████████████▉        | 829kB 5.6MB/s eta 0:00:01\r\u001b[K     |████████████████████████        | 839kB 5.6MB/s eta 0:00:01\r\u001b[K     |████████████████████████▍       | 849kB 5.6MB/s eta 0:00:01\r\u001b[K     |████████████████████████▊       | 860kB 5.6MB/s eta 0:00:01\r\u001b[K     |█████████████████████████       | 870kB 5.6MB/s eta 0:00:01\r\u001b[K     |█████████████████████████▎      | 880kB 5.6MB/s eta 0:00:01\r\u001b[K     |█████████████████████████▋      | 890kB 5.6MB/s eta 0:00:01\r\u001b[K     |█████████████████████████▉      | 901kB 5.6MB/s eta 0:00:01\r\u001b[K     |██████████████████████████▏     | 911kB 5.6MB/s eta 0:00:01\r\u001b[K     |██████████████████████████▌     | 921kB 5.6MB/s eta 0:00:01\r\u001b[K     |██████████████████████████▊     | 931kB 5.6MB/s eta 0:00:01\r\u001b[K     |███████████████████████████     | 942kB 5.6MB/s eta 0:00:01\r\u001b[K     |███████████████████████████▎    | 952kB 5.6MB/s eta 0:00:01\r\u001b[K     |███████████████████████████▋    | 962kB 5.6MB/s eta 0:00:01\r\u001b[K     |████████████████████████████    | 972kB 5.6MB/s eta 0:00:01\r\u001b[K     |████████████████████████████▏   | 983kB 5.6MB/s eta 0:00:01\r\u001b[K     |████████████████████████████▌   | 993kB 5.6MB/s eta 0:00:01\r\u001b[K     |████████████████████████████▉   | 1.0MB 5.6MB/s eta 0:00:01\r\u001b[K     |█████████████████████████████   | 1.0MB 5.6MB/s eta 0:00:01\r\u001b[K     |█████████████████████████████▍  | 1.0MB 5.6MB/s eta 0:00:01\r\u001b[K     |█████████████████████████████▊  | 1.0MB 5.6MB/s eta 0:00:01\r\u001b[K     |██████████████████████████████  | 1.0MB 5.6MB/s eta 0:00:01\r\u001b[K     |██████████████████████████████▎ | 1.1MB 5.6MB/s eta 0:00:01\r\u001b[K     |██████████████████████████████▋ | 1.1MB 5.6MB/s eta 0:00:01\r\u001b[K     |██████████████████████████████▉ | 1.1MB 5.6MB/s eta 0:00:01\r\u001b[K     |███████████████████████████████▏| 1.1MB 5.6MB/s eta 0:00:01\r\u001b[K     |███████████████████████████████▍| 1.1MB 5.6MB/s eta 0:00:01\r\u001b[K     |███████████████████████████████▊| 1.1MB 5.6MB/s eta 0:00:01\r\u001b[K     |████████████████████████████████| 1.1MB 5.6MB/s \n",
            "\u001b[?25h"
          ],
          "name": "stdout"
        }
      ]
    },
    {
      "cell_type": "code",
      "metadata": {
        "id": "OBbmqC6Lz--X"
      },
      "source": [
        "import transformers"
      ],
      "execution_count": 2,
      "outputs": []
    },
    {
      "cell_type": "code",
      "metadata": {
        "id": "vOD3UbI1zYey"
      },
      "source": [
        "!ln -sf /opt/bin/nvidia-smi /usr/bin/nvidia-smi"
      ],
      "execution_count": 3,
      "outputs": []
    },
    {
      "cell_type": "code",
      "metadata": {
        "id": "f6ZJsGXLy4V0"
      },
      "source": [
        "import os\n",
        "import nlp\n",
        "import torch\n",
        "import psutil\n",
        "import pyarrow\n",
        "import humanize\n",
        "import warnings\n",
        "\n",
        "import GPUtil as GPU\n",
        "\n",
        "from transformers import (\n",
        "    ReformerModelWithLMHead,\n",
        "    ReformerTokenizer,\n",
        "    ReformerConfig,\n",
        "    Trainer,\n",
        "    DataCollator,\n",
        "    TrainingArguments,\n",
        ")"
      ],
      "execution_count": 4,
      "outputs": []
    },
    {
      "cell_type": "code",
      "metadata": {
        "id": "z0yWIjJTy4V3"
      },
      "source": [
        "warnings.filterwarnings('ignore')"
      ],
      "execution_count": 5,
      "outputs": []
    },
    {
      "cell_type": "code",
      "metadata": {
        "id": "Mxq_hxATy4V3"
      },
      "source": [
        "GPUs = GPU.getGPUs()"
      ],
      "execution_count": 6,
      "outputs": []
    },
    {
      "cell_type": "code",
      "metadata": {
        "colab": {
          "base_uri": "https://localhost:8080/"
        },
        "id": "4SfC3BaMy4V3",
        "outputId": "b6d4b399-1f7e-48d4-a4ae-82fe335edeeb"
      },
      "source": [
        "GPUs"
      ],
      "execution_count": 7,
      "outputs": [
        {
          "output_type": "execute_result",
          "data": {
            "text/plain": [
              "[<GPUtil.GPUtil.GPU at 0x7f7227a14518>]"
            ]
          },
          "metadata": {
            "tags": []
          },
          "execution_count": 7
        }
      ]
    },
    {
      "cell_type": "code",
      "metadata": {
        "id": "oN2NF8EozycI"
      },
      "source": [
        "gpu = GPUs[0]"
      ],
      "execution_count": 8,
      "outputs": []
    },
    {
      "cell_type": "code",
      "metadata": {
        "colab": {
          "base_uri": "https://localhost:8080/"
        },
        "id": "U1L6ZHy_y4V4",
        "outputId": "970dd294-c3d1-49f8-a098-66b496858402"
      },
      "source": [
        "process = psutil.Process(os.getpid())\n",
        "print(\"Gen RAM Free: \" + humanize.naturalsize( psutil.virtual_memory().available ),\\\n",
        "      \" | Proc size: \" + humanize.naturalsize( process.memory_info().rss))\n",
        "print(\"GPU RAM Free: {0:.0f}MB | Used: {1:.0f}MB | Util {2:3.0f}% | Total {3:.0f}MB\".format(\\\n",
        "        gpu.memoryFree, gpu.memoryUsed, gpu.memoryUtil*100, gpu.memoryTotal))"
      ],
      "execution_count": 9,
      "outputs": [
        {
          "output_type": "stream",
          "text": [
            "Gen RAM Free: 12.6 GB  | Proc size: 539.9 MB\n",
            "GPU RAM Free: 16270MB | Used: 10MB | Util   0% | Total 16280MB\n"
          ],
          "name": "stdout"
        }
      ]
    },
    {
      "cell_type": "code",
      "metadata": {
        "id": "c9B-ZZ9hy4V4"
      },
      "source": [
        "dataset = nlp.load_dataset(\"crime_and_punish\", split=\"train\")"
      ],
      "execution_count": 10,
      "outputs": []
    },
    {
      "cell_type": "code",
      "metadata": {
        "colab": {
          "base_uri": "https://localhost:8080/",
          "height": 66,
          "referenced_widgets": [
            "27b591e75844420cb2390b2693c6aa7a",
            "7e68a27f171345c0a1a34ff7f831ae0b",
            "1ad7811b18e040fea2848219ddd9745d",
            "b9d412335e5a41caa5f1fb5646f7a4ca",
            "6536bdb87b6043f4b938f7bffeeef879",
            "337fbbaad3f842499c79c9b6f3329b56",
            "05e6294cca534975ad7c12920c7472bb",
            "b6db9bbf718449d3aea4e5c1bc4cb0d0"
          ]
        },
        "id": "cAMtTQLoy4V4",
        "outputId": "4f25970b-1ee2-4365-dde0-d053bbef7f52"
      },
      "source": [
        "tokenizer = ReformerTokenizer.from_pretrained(\"google/reformer-crime-and-punishment\")\n",
        "tokenizer.pad_token = tokenizer.eos_token"
      ],
      "execution_count": 11,
      "outputs": [
        {
          "output_type": "display_data",
          "data": {
            "application/vnd.jupyter.widget-view+json": {
              "model_id": "27b591e75844420cb2390b2693c6aa7a",
              "version_minor": 0,
              "version_major": 2
            },
            "text/plain": [
              "HBox(children=(FloatProgress(value=0.0, description='Downloading', max=241801.0, style=ProgressStyle(descripti…"
            ]
          },
          "metadata": {
            "tags": []
          }
        },
        {
          "output_type": "stream",
          "text": [
            "\n"
          ],
          "name": "stdout"
        }
      ]
    },
    {
      "cell_type": "markdown",
      "metadata": {
        "id": "z1UJ9Qj2y4V5"
      },
      "source": [
        "Because want to pack all data into a single sample, we use the handy map() function to reduce the dataset into one sample and pad the sample to a length of 524288. We then expand the same sample to 8 training samples so that we can accumulate gradients during training. Finally, we make the dataset ready for training, by only keeping the columns needed for training."
      ]
    },
    {
      "cell_type": "code",
      "metadata": {
        "colab": {
          "base_uri": "https://localhost:8080/",
          "height": 66,
          "referenced_widgets": [
            "c8f9db94007c485293f718f6b1d7846e",
            "cb7f5b79337c48cb8b3c9d38eb607d3a",
            "7ca9a4f761d3451e8493b9b3231203a5",
            "97837b5950ae41948a442a606d552991",
            "78cec70c054c4aa599913ffb3788ed1b",
            "f13f780af7ad4f74ab8b876e3d80c3c4",
            "c576855d803d49b18953d1c0e58f7734",
            "866794856cbe4660a2a8934d76d312ab"
          ]
        },
        "id": "eaSLVzgCy4V5",
        "outputId": "34addb84-533d-4a89-d229-5942ed6c3014"
      },
      "source": [
        "sequence_length = 2 ** 19 \n",
        "\n",
        "# define our map function to reduce the dataset to one sample\n",
        "def flatten_and_tokenize(batch):\n",
        "  all_input_text = [\"\".join(batch[\"line\"])]\n",
        "  input_ids_dict = tokenizer.batch_encode_plus(\n",
        "      all_input_text, padding = 'max_length', max_length=sequence_length\n",
        "  )\n",
        "\n",
        "    # duplicate data 8 times to have have 8 examples in dataset\n",
        "  for key in input_ids_dict.keys():\n",
        "    input_ids_dict[key] = [8 * [x] for x in input_ids_dict[key]][0]\n",
        "\n",
        "  return input_ids_dict\n",
        "\n",
        "# reduce the dataset and set batch_size to all inputs\n",
        "dataset = dataset.map(\n",
        "  flatten_and_tokenize, batched=True, batch_size=-1, remove_columns=[\"line\"]\n",
        ")\n",
        "\n",
        "# prepare dataset to be in torch format\n",
        "dataset.set_format(type=\"torch\", columns=[\"input_ids\", \"attention_mask\"])"
      ],
      "execution_count": 12,
      "outputs": [
        {
          "output_type": "display_data",
          "data": {
            "application/vnd.jupyter.widget-view+json": {
              "model_id": "c8f9db94007c485293f718f6b1d7846e",
              "version_minor": 0,
              "version_major": 2
            },
            "text/plain": [
              "HBox(children=(FloatProgress(value=0.0, max=1.0), HTML(value='')))"
            ]
          },
          "metadata": {
            "tags": []
          }
        },
        {
          "output_type": "stream",
          "text": [
            "\n"
          ],
          "name": "stdout"
        }
      ]
    },
    {
      "cell_type": "code",
      "metadata": {
        "colab": {
          "base_uri": "https://localhost:8080/"
        },
        "id": "bZ0ys8sry4V5",
        "outputId": "04b93270-f426-4079-d564-79b184ca7ad6"
      },
      "source": [
        "dataset"
      ],
      "execution_count": 13,
      "outputs": [
        {
          "output_type": "execute_result",
          "data": {
            "text/plain": [
              "Dataset(features: {'input_ids': Sequence(feature=Value(dtype='int64', id=None), length=-1, id=None), 'attention_mask': Sequence(feature=Value(dtype='int64', id=None), length=-1, id=None)}, num_rows: 8)"
            ]
          },
          "metadata": {
            "tags": []
          },
          "execution_count": 13
        }
      ]
    },
    {
      "cell_type": "markdown",
      "metadata": {
        "id": "J-e55gIny4V5"
      },
      "source": [
        "We don't want the model to just memorize the dataset (the single example) by encoding the words in its position embeddings. Thus, at each training iteration we will randomly select how much padding to put before the text vs. after it.\n",
        "\n",
        "With the Trainer framework of transformers, we can implement by using a Reformer specific DataCollator that randomely shifts the input_ids to the right and sets the labels correctly."
      ]
    },
    {
      "cell_type": "code",
      "metadata": {
        "id": "Nyf9aLEMy4V5"
      },
      "source": [
        "class ReformerCollator:\n",
        "    def __init__(self, max_roll_length):\n",
        "        self.max_roll_length = max_roll_length\n",
        "\n",
        "    def __call__(self, features):\n",
        "        # get random shift int\n",
        "        random_shift_length = torch.randint(self.max_roll_length, (1,)).item()\n",
        "\n",
        "        # shift input and mask\n",
        "        rolled_input_ids = torch.roll(\n",
        "            features[0][\"input_ids\"], random_shift_length\n",
        "        ).unsqueeze(0)\n",
        "        rolled_attention_mask = torch.roll(\n",
        "            features[0][\"attention_mask\"], random_shift_length\n",
        "        ).unsqueeze(0)\n",
        "\n",
        "        return {\n",
        "            \"input_ids\": rolled_input_ids,  # BS x SEQ_LEN\n",
        "            \"labels\": rolled_input_ids,  # BS x SEQ_LEN\n",
        "            \"attention_mask\": rolled_attention_mask,  # BS x SEQ_LEN\n",
        "        }"
      ],
      "execution_count": 14,
      "outputs": []
    },
    {
      "cell_type": "markdown",
      "metadata": {
        "id": "N6IfYJ5sy4V6"
      },
      "source": [
        "To instantiate the data collator the length of padded input_ids needs to be calculated."
      ]
    },
    {
      "cell_type": "code",
      "metadata": {
        "id": "w4Levf0Jy4V6"
      },
      "source": [
        "# the non_padded_sequence_length defines the max shift for our data collator\n",
        "non_padded_sequence_length = sequence_length - sum(\n",
        "    dataset[\"attention_mask\"][0]\n",
        ")\n",
        "\n",
        "# get the data collator\n",
        "data_collator = ReformerCollator(non_padded_sequence_length)"
      ],
      "execution_count": 15,
      "outputs": []
    },
    {
      "cell_type": "markdown",
      "metadata": {
        "id": "scsiWWZ0y4V6"
      },
      "source": [
        "Next, we will define our reformer model by defining the ReformerConfig."
      ]
    },
    {
      "cell_type": "code",
      "metadata": {
        "id": "7Y9GBlUIy4V6"
      },
      "source": [
        "config = {\n",
        "    \"attention_head_size\": 64,\n",
        "    \"attn_layers\": [\"local\", \"lsh\", \"local\", \"lsh\", \"local\", \"lsh\"],\n",
        "    \"axial_pos_embds\": True,\n",
        "    \"sinusoidal_pos_embds\": False,\n",
        "    \"axial_pos_embds_dim\": [64, 192],\n",
        "    \"axial_pos_shape\": [512, 1024],\n",
        "    \"lsh_attn_chunk_length\": 64,\n",
        "    \"local_attn_chunk_length\": 64,\n",
        "    \"feed_forward_size\": 512,\n",
        "    \"hidden_act\": \"relu\",\n",
        "    \"hidden_size\": 256,\n",
        "    \"is_decoder\": True,\n",
        "    \"max_position_embeddings\": 524288,\n",
        "    \"num_attention_heads\": 2,\n",
        "    \"num_buckets\": [64, 128],\n",
        "    \"num_hashes\": 1,\n",
        "    \"vocab_size\": 320,\n",
        "    \"lsh_attention_probs_dropout_prob\": 0.0,\n",
        "    \"lsh_num_chunks_before\": 1,\n",
        "    \"lsh_num_chunks_after\": 0,\n",
        "    \"local_num_chunks_before\": 1,\n",
        "    \"local_num_chunks_after\": 0,\n",
        "    \"local_attention_probs_dropout_prob\": 0.025,\n",
        "    \"hidden_dropout_prob\": 0.025,\n",
        "}"
      ],
      "execution_count": 16,
      "outputs": []
    },
    {
      "cell_type": "code",
      "metadata": {
        "id": "i_eqID2Gy4V6"
      },
      "source": [
        "config = ReformerConfig(**config)\n",
        "model = ReformerModelWithLMHead(config)\n",
        "model = model.train()"
      ],
      "execution_count": 17,
      "outputs": []
    },
    {
      "cell_type": "code",
      "metadata": {
        "id": "SF6Q9V1by4V6"
      },
      "source": [
        "### Training args\n",
        "\n",
        "training_args = {\n",
        "    \"learning_rate\": 1e-3,\n",
        "    \"max_steps\": 2000,\n",
        "    \"do_train\": True,\n",
        "    \"gradient_accumulation_steps\": 8,\n",
        "    \"logging_steps\": 50,\n",
        "    \"warmup_steps\": 500,\n",
        "    \"weight_decay\": 0.001,\n",
        "    \"per_device_train_batch_size\": 1,\n",
        "    \"per_device_eval_batch_size\": 1,\n",
        "    \"save_steps\": 50,\n",
        "    \"output_dir\": \"./\"\n",
        "}"
      ],
      "execution_count": 18,
      "outputs": []
    },
    {
      "cell_type": "code",
      "metadata": {
        "id": "JDrPTT9_y4V6"
      },
      "source": [
        "training_args = TrainingArguments(**training_args)"
      ],
      "execution_count": 19,
      "outputs": []
    },
    {
      "cell_type": "code",
      "metadata": {
        "id": "cpCaoXUzy4V7"
      },
      "source": [
        "### Accuracy metrics\n",
        "\n",
        "def compute_metrics(pred):\n",
        "    non_padded_indices = (pred.label_ids != -100)\n",
        "\n",
        "    # correctly shift labels and pred as it's done in forward()\n",
        "    labels = pred.label_ids[..., 1:][non_padded_indices[..., 1:]]\n",
        "    pred = np.argmax(pred.predictions[:, :-1], axis=-1)[non_padded_indices[..., :-1]]\n",
        "\n",
        "    acc = np.mean(np.asarray(pred == labels), dtype=np.float)\n",
        "    return {\"accuracy\": acc}"
      ],
      "execution_count": 20,
      "outputs": []
    },
    {
      "cell_type": "code",
      "metadata": {
        "id": "hWrB0aVly4V7"
      },
      "source": [
        "trainer = Trainer(\n",
        "    model=model,\n",
        "    args=training_args,\n",
        "    compute_metrics=compute_metrics,\n",
        "    data_collator=data_collator,\n",
        "    train_dataset=dataset,\n",
        "    eval_dataset=dataset\n",
        ")"
      ],
      "execution_count": 21,
      "outputs": []
    },
    {
      "cell_type": "code",
      "metadata": {
        "colab": {
          "base_uri": "https://localhost:8080/",
          "height": 143
        },
        "id": "Vhbjw8hEy4V7",
        "outputId": "d0c713e8-6bb6-49ed-ff4e-eeb3687f2b03"
      },
      "source": [
        "trainer.train()"
      ],
      "execution_count": null,
      "outputs": [
        {
          "output_type": "stream",
          "text": [
            "Using deprecated `--per_gpu_train_batch_size` argument which will be removed in a future version. Using `--per_device_train_batch_size` is preferred.\n",
            "Using deprecated `--per_gpu_train_batch_size` argument which will be removed in a future version. Using `--per_device_train_batch_size` is preferred.\n",
            "Using deprecated `--per_gpu_train_batch_size` argument which will be removed in a future version. Using `--per_device_train_batch_size` is preferred.\n",
            "Using deprecated `--per_gpu_eval_batch_size` argument which will be removed in a future version. Using `--per_device_eval_batch_size` is preferred.\n"
          ],
          "name": "stderr"
        },
        {
          "output_type": "display_data",
          "data": {
            "text/html": [
              "\n",
              "    <div>\n",
              "        <style>\n",
              "            /* Turns off some styling */\n",
              "            progress {\n",
              "                /* gets rid of default border in Firefox and Opera. */\n",
              "                border: none;\n",
              "                /* Needs to be in here for Safari polyfill so background images work as expected. */\n",
              "                background-size: auto;\n",
              "            }\n",
              "        </style>\n",
              "      \n",
              "      <progress value='2' max='2000' style='width:300px; height:20px; vertical-align: middle;'></progress>\n",
              "      [   2/2000 : < :, Epoch 1/2000]\n",
              "    </div>\n",
              "    <table border=\"1\" class=\"dataframe\">\n",
              "  <thead>\n",
              "    <tr style=\"text-align: left;\">\n",
              "      <th>Step</th>\n",
              "      <th>Training Loss</th>\n",
              "    </tr>\n",
              "  </thead>\n",
              "  <tbody>\n",
              "  </tbody>\n",
              "</table><p>"
            ],
            "text/plain": [
              "<IPython.core.display.HTML object>"
            ]
          },
          "metadata": {
            "tags": []
          }
        }
      ]
    }
  ]
}